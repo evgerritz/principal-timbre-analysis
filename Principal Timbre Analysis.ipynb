{
 "cells": [
  {
   "cell_type": "code",
   "execution_count": 777,
   "id": "10641295",
   "metadata": {
    "ExecuteTime": {
     "end_time": "2023-04-27T15:25:46.600090Z",
     "start_time": "2023-04-27T15:25:46.595666Z"
    }
   },
   "outputs": [],
   "source": [
    "import numpy as np\n",
    "import matplotlib.pyplot as plt\n",
    "from scipy import signal\n",
    "from scipy.io import wavfile\n",
    "import scipy.stats as st\n",
    "import glob\n",
    "from numpy.random import uniform\n",
    "import librosa\n",
    "from tqdm import tqdm\n",
    "from pprint import pprint\n",
    "import sys\n",
    "from sklearn.cluster import KMeans"
   ]
  },
  {
   "cell_type": "markdown",
   "id": "6f179a2b",
   "metadata": {
    "ExecuteTime": {
     "end_time": "2023-04-25T20:30:45.528294Z",
     "start_time": "2023-04-25T20:30:45.521960Z"
    }
   },
   "source": [
    "# TODO:\n",
    "1. new data samples\n",
    "2. more reduction?\n",
    "3. listen to pcs\n",
    "4. try sampling random combinations of pcs"
   ]
  },
  {
   "cell_type": "code",
   "execution_count": 155,
   "id": "1e111f0a",
   "metadata": {
    "ExecuteTime": {
     "end_time": "2023-04-26T15:02:25.536348Z",
     "start_time": "2023-04-26T15:02:25.530882Z"
    }
   },
   "outputs": [],
   "source": [
    "def zero_pad(M):\n",
    "    maxlen = max(len(r) for r in M)\n",
    "\n",
    "    Z = np.zeros((len(M), maxlen))\n",
    "    for enu, row in enumerate(M):\n",
    "        Z[enu, :len(row)] += row \n",
    "    return Z\n",
    "\n",
    "def trunc(M, p=1):\n",
    "    mean_len = p*round(np.mean([len(r) for r in M]))\n",
    "    Z = np.zeros((len(M), mean_len))\n",
    "    for enu, row in enumerate(M):\n",
    "        Z[enu, :len(row)] += row[:mean_len]\n",
    "    return Z\n",
    "\n",
    "def norm(m,M):\n",
    "    all_mins = M.min(axis=1)\n",
    "    all_maxes = M.max(axis=1)\n",
    "    likely_min = all_mins.mean() - 2 * all_mins.std()\n",
    "    likely_max = all_maxes.mean() + 2 * all_maxes.std()\n",
    "    return (m - likely_min)/(likely_max-likely_min)\n",
    "    #return (m - M.min(axis=0).mean())/(M.max(axis=0).mean()-M.min(axis=0).mean())"
   ]
  },
  {
   "cell_type": "markdown",
   "id": "de279d84",
   "metadata": {},
   "source": [
    "# Load the Samples"
   ]
  },
  {
   "cell_type": "code",
   "execution_count": 3,
   "id": "9141db16",
   "metadata": {
    "ExecuteTime": {
     "end_time": "2023-04-26T13:45:25.525607Z",
     "start_time": "2023-04-26T13:45:25.512102Z"
    }
   },
   "outputs": [],
   "source": [
    "# returns the fundamental frequency of a list of samples in herz or by note name\n",
    "# by identifying the relative peaks in the fourier transform\n",
    "def get_fundamental(x, samplerate, note_name = False):\n",
    "    x_f = np.fft.rfft(x)\n",
    "    fs = np.fft.rfftfreq(len(x), 1/samplerate)\n",
    "    #plt.plot(fs[:30000], x_f[:30000])\n",
    "    # oh... lol... I didn't know how to do fft with non-1 samplerate..., but usually one is fine\n",
    "    for rel_thresh in np.linspace(1/5, 0.01, 10):\n",
    "        peaks = signal.find_peaks(np.abs(x_f), height=np.max(np.abs(x_f))*rel_thresh)[0]\n",
    "        if peaks.any():\n",
    "            break\n",
    "    else:\n",
    "        return None\n",
    "    freq_index = peaks[0]\n",
    "    freq = round(fs[freq_index], 1)\n",
    "\n",
    "    if not note_name:\n",
    "        return freq\n",
    "    else:\n",
    "        return librosa.hz_to_note(freq)"
   ]
  },
  {
   "cell_type": "code",
   "execution_count": 99,
   "id": "f8e85d61",
   "metadata": {
    "ExecuteTime": {
     "end_time": "2023-04-26T14:39:45.505823Z",
     "start_time": "2023-04-26T14:39:45.494592Z"
    }
   },
   "outputs": [],
   "source": [
    "def load_X(downscale = 3, p=None, maxlen=100000, test_quality=False):\n",
    "    \"\"\"\n",
    "    downsample allows you \n",
    "    can either truncate the final arr\n",
    "    \"\"\"\n",
    "    count = 0\n",
    "    samples_arr = []\n",
    "    file_descs = []\n",
    "    files = glob.glob('TinySOL/*/*/*/*.wav')\n",
    "    #print('Row:\\t Filename:')\n",
    "    for filename in tqdm(files):\n",
    "        try:\n",
    "            samplerate, samples = wavfile.read(filename)\n",
    "            if len(samples.shape) > 1:\n",
    "                samples = samples[:,0]\n",
    "            if len(samples) <= 430000:\n",
    "                abbrev_name = filename.split('/')[4][:-4]\n",
    "                \n",
    "                if maxlen:\n",
    "                    samples = samples[:maxlen]\n",
    "                    \n",
    "                reduced_samples = signal.decimate(samples, downscale) #, axis=1)\n",
    "                #note_name = get_fundamental(reduced_samples, samplerate//downscale, note_name = True)\n",
    "                \n",
    "                # only use correctly labelled fundamental freqs\n",
    "                #if note_name.replace('♯', '#') in abbrev_name:\n",
    "                samples_arr.append(reduced_samples)\n",
    "                file_descs.append(abbrev_name)\n",
    "                #print(count,'\\t'+abbrev_name, '\\t', note_name)\n",
    "                count += 1\n",
    "        except ValueError:\n",
    "            print('reading failed for ' + filename)\n",
    "    \n",
    "    samplerate = samplerate//downscale\n",
    "    if p:\n",
    "        X = trunc(samples_arr, p)\n",
    "    else:\n",
    "        X = zero_pad(samples_arr)\n",
    "        \n",
    "    # remove any still incorrectly labelled fundamental freqs\n",
    "    freq_hats = map(lambda x: get_fundamental(x, samplerate, note_name=True), X)\n",
    "    freq_hats = list(map(lambda x: x.replace('♯', '#'), freq_hats))\n",
    "    wrong_i = [i for i, (f, desc) in enumerate(zip(freq_hats, file_descs)) if f not in desc]\n",
    "    X = np.delete(X, wrong_i, axis=0)\n",
    "    # also update file_descs\n",
    "    for index in sorted(wrong_i, reverse=True):\n",
    "        del file_descs[index]\n",
    "        \n",
    "    if test_quality:\n",
    "        wavfile.write(f'out/downsampled.wav', samplerate, norm(X[0], X))\n",
    "    \n",
    "    return X, samplerate, file_descs"
   ]
  },
  {
   "cell_type": "code",
   "execution_count": 100,
   "id": "b064933a",
   "metadata": {
    "ExecuteTime": {
     "end_time": "2023-04-26T14:40:16.818405Z",
     "start_time": "2023-04-26T14:39:48.911363Z"
    }
   },
   "outputs": [
    {
     "name": "stderr",
     "output_type": "stream",
     "text": [
      "100%|██████████| 2913/2913 [00:07<00:00, 371.51it/s]\n"
     ]
    }
   ],
   "source": [
    "X, X_samplerate, X_file_descs = load_X(test_quality=True)"
   ]
  },
  {
   "cell_type": "markdown",
   "id": "2c70be89",
   "metadata": {},
   "source": [
    "# STFT Analysis"
   ]
  },
  {
   "cell_type": "code",
   "execution_count": 302,
   "id": "b6bd5b73",
   "metadata": {
    "ExecuteTime": {
     "end_time": "2023-04-26T16:47:16.413662Z",
     "start_time": "2023-04-26T16:47:16.408527Z"
    }
   },
   "outputs": [
    {
     "data": {
      "text/plain": [
       "(180, 68)"
      ]
     },
     "execution_count": 302,
     "metadata": {},
     "output_type": "execute_result"
    }
   ],
   "source": [
    "test_embed.shape"
   ]
  },
  {
   "cell_type": "code",
   "execution_count": 809,
   "id": "b97294b2",
   "metadata": {
    "ExecuteTime": {
     "end_time": "2023-04-27T15:32:53.888385Z",
     "start_time": "2023-04-27T15:32:40.013461Z"
    }
   },
   "outputs": [],
   "source": [
    "X_f_no_t = np.fft.rfft(X)"
   ]
  },
  {
   "cell_type": "code",
   "execution_count": null,
   "id": "3d3d5acf",
   "metadata": {},
   "outputs": [],
   "source": []
  },
  {
   "cell_type": "code",
   "execution_count": 828,
   "id": "fdbb41cf",
   "metadata": {
    "ExecuteTime": {
     "end_time": "2023-04-27T15:36:22.081644Z",
     "start_time": "2023-04-27T15:36:22.075969Z"
    }
   },
   "outputs": [
    {
     "data": {
      "text/plain": [
       "(104,)"
      ]
     },
     "execution_count": 828,
     "metadata": {},
     "output_type": "execute_result"
    }
   ],
   "source": [
    "signal.find_peaks(np.abs(X_f_no_t[0]), height=np.max(np.abs(X_f_no_t[0]))*0.1)[0].shape"
   ]
  },
  {
   "cell_type": "code",
   "execution_count": 831,
   "id": "c1ecbe11",
   "metadata": {
    "ExecuteTime": {
     "end_time": "2023-04-27T15:36:57.200277Z",
     "start_time": "2023-04-27T15:36:57.011376Z"
    }
   },
   "outputs": [
    {
     "data": {
      "text/plain": [
       "[<matplotlib.lines.Line2D at 0x7f0a145b37f0>]"
      ]
     },
     "execution_count": 831,
     "metadata": {},
     "output_type": "execute_result"
    },
    {
     "data": {
      "image/png": "[encoded data removed]",
      "text/plain": [
       "<Figure size 640x480 with 1 Axes>"
      ]
     },
     "metadata": {},
     "output_type": "display_data"
    }
   ],
   "source": [
    "plt.plot(np.abs(X_f_no_t[2]))"
   ]
  },
  {
   "cell_type": "code",
   "execution_count": 316,
   "id": "e44962a1",
   "metadata": {
    "ExecuteTime": {
     "end_time": "2023-04-26T16:49:29.543528Z",
     "start_time": "2023-04-26T16:49:29.415096Z"
    }
   },
   "outputs": [
    {
     "data": {
      "text/plain": [
       "<matplotlib.collections.QuadMesh at 0x7f0a23ea3100>"
      ]
     },
     "execution_count": 316,
     "metadata": {},
     "output_type": "execute_result"
    },
    {
     "data": {
      "image/png": "[encoded data removed]",
      "text/plain": [
       "<Figure size 640x480 with 1 Axes>"
      ]
     },
     "metadata": {},
     "output_type": "display_data"
    }
   ],
   "source": [
    "plt.pcolormesh(np.abs(test_embed))"
   ]
  },
  {
   "cell_type": "code",
   "execution_count": null,
   "id": "42a82b66",
   "metadata": {},
   "outputs": [],
   "source": [
    "t_f_ps = np.sum(test_embed.reshape((180, 1//5, 5)), axis=2)"
   ]
  },
  {
   "cell_type": "code",
   "execution_count": 373,
   "id": "b170ac8a",
   "metadata": {
    "ExecuteTime": {
     "end_time": "2023-04-26T18:04:40.824219Z",
     "start_time": "2023-04-26T18:04:40.641101Z"
    }
   },
   "outputs": [
    {
     "data": {
      "text/plain": [
       "<matplotlib.collections.QuadMesh at 0x7f0a1f83e110>"
      ]
     },
     "execution_count": 373,
     "metadata": {},
     "output_type": "execute_result"
    },
    {
     "data": {
      "image/png": "[encoded data removed]",
      "text/plain": [
       "<Figure size 640x480 with 1 Axes>"
      ]
     },
     "metadata": {},
     "output_type": "display_data"
    }
   ],
   "source": [
    "plt.pcolormesh(np.abs(test_embed))"
   ]
  },
  {
   "cell_type": "code",
   "execution_count": 384,
   "id": "a9d6a723",
   "metadata": {
    "ExecuteTime": {
     "end_time": "2023-04-26T18:06:40.568216Z",
     "start_time": "2023-04-26T18:06:40.563981Z"
    }
   },
   "outputs": [
    {
     "data": {
      "text/plain": [
       "(220, 68)"
      ]
     },
     "execution_count": 384,
     "metadata": {},
     "output_type": "execute_result"
    }
   ],
   "source": [
    "test_embed.shape"
   ]
  },
  {
   "cell_type": "code",
   "execution_count": 385,
   "id": "0c6106a8",
   "metadata": {
    "ExecuteTime": {
     "end_time": "2023-04-26T18:06:53.808613Z",
     "start_time": "2023-04-26T18:06:53.805006Z"
    }
   },
   "outputs": [
    {
     "data": {
      "text/plain": [
       "(68, 220)"
      ]
     },
     "execution_count": 385,
     "metadata": {},
     "output_type": "execute_result"
    }
   ],
   "source": [
    "np.transpose(test_embed, (1,0)).shape"
   ]
  },
  {
   "cell_type": "code",
   "execution_count": 395,
   "id": "876ba58a",
   "metadata": {
    "ExecuteTime": {
     "end_time": "2023-04-26T18:09:07.253905Z",
     "start_time": "2023-04-26T18:09:07.249889Z"
    }
   },
   "outputs": [
    {
     "data": {
      "text/plain": [
       "(220, 68)"
      ]
     },
     "execution_count": 395,
     "metadata": {},
     "output_type": "execute_result"
    }
   ],
   "source": [
    "test_embed.shape"
   ]
  },
  {
   "cell_type": "code",
   "execution_count": 440,
   "id": "0731dd04",
   "metadata": {
    "ExecuteTime": {
     "end_time": "2023-04-26T18:21:28.418089Z",
     "start_time": "2023-04-26T18:21:28.300844Z"
    }
   },
   "outputs": [
    {
     "data": {
      "text/plain": [
       "[<matplotlib.lines.Line2D at 0x7f0a1f0c57e0>]"
      ]
     },
     "execution_count": 440,
     "metadata": {},
     "output_type": "execute_result"
    },
    {
     "data": {
      "image/png": "[encoded data removed]",
      "text/plain": [
       "<Figure size 640x480 with 1 Axes>"
      ]
     },
     "metadata": {},
     "output_type": "display_data"
    }
   ],
   "source": [
    "plt.plot([np.sum(np.abs(x), axis=0) for x in np.vsplit(test_embed, 20)][11])"
   ]
  },
  {
   "cell_type": "code",
   "execution_count": 436,
   "id": "6a578580",
   "metadata": {
    "ExecuteTime": {
     "end_time": "2023-04-26T18:20:49.220977Z",
     "start_time": "2023-04-26T18:20:49.054949Z"
    }
   },
   "outputs": [
    {
     "data": {
      "text/plain": [
       "<matplotlib.collections.QuadMesh at 0x7f0a23a8fe50>"
      ]
     },
     "execution_count": 436,
     "metadata": {},
     "output_type": "execute_result"
    },
    {
     "data": {
      "image/png": "[encoded data removed]",
      "text/plain": [
       "<Figure size 640x480 with 1 Axes>"
      ]
     },
     "metadata": {},
     "output_type": "display_data"
    }
   ],
   "source": [
    "plt.pcolormesh(np.vstack([np.sum(np.abs(x), axis=0) for x in np.vsplit(test_embed, 20)]))"
   ]
  },
  {
   "cell_type": "code",
   "execution_count": 658,
   "id": "c2f465e8",
   "metadata": {
    "ExecuteTime": {
     "end_time": "2023-04-26T21:05:02.226613Z",
     "start_time": "2023-04-26T21:05:02.198980Z"
    }
   },
   "outputs": [],
   "source": [
    "# take the fourier transform of the entire data matrix\n",
    "# convert the data matrix of amp for each (example, sample) to amp for each (example, freq, time)\n",
    "def rstft(x, samplerate):\n",
    "    f, t, spec = signal.stft(x, samplerate, nperseg=1000)\n",
    "    return np.abs(spec), f, t\n",
    "\n",
    "def idx_of_partial(freq, freqs):\n",
    "    return np.argmin(np.abs(freqs - freq))\n",
    "\n",
    "def get_partials(fund, freqs, num_partials=20, partial_width=5):\n",
    "    partials = fund*np.arange(1,num_partials)\n",
    "    wide_partials = []\n",
    "    off = partial_width//2\n",
    "    for freq in partials:\n",
    "        if freq <= np.max(freqs):\n",
    "            partial_idx = idx_of_partial(freq, freqs)\n",
    "        else: \n",
    "            break\n",
    "        for i in range(partial_width):\n",
    "            band_partial_idx = partial_idx+i-off\n",
    "            if band_partial_idx < len(freqs):\n",
    "                wide_partials.append(freqs[band_partial_idx])\n",
    "            \n",
    "    return wide_partials\n",
    "\n",
    "def partial_embedding(x, x_fund, freqs, samplerate, num_partials=20, partial_width=5):\n",
    "    \"\"\"\n",
    "    Unfortunately, the full fourier transform is pretty sparse, and too big to perform SVD on directly\n",
    "    Instead, we have to make a denser embedding (which we can later invert) that consists of the\n",
    "    amplitude envelopes of the first num_partials partials.\n",
    "    Vibrato, however, means that amplitudes can be spread across neighboring partials, so we\n",
    "    can include surrounding partials using the partial_width argument\n",
    "    This makes the embedding larger by a factor of partial_width, but results in significantly\n",
    "    less loss of information, so inverting the embedding sounds much more like the original sound\n",
    "    \"\"\"\n",
    "    x_f = rstft(x, samplerate)[0]\n",
    "    embedding = np.zeros((num_partials*partial_width, x_f.shape[1]))\n",
    "    \n",
    "    row = 0\n",
    "    partials = get_partials(x_fund, freqs, num_partials, partial_width)\n",
    "    for row, freq in enumerate(partials):\n",
    "        if freq <= np.max(freqs):\n",
    "            partial_idx = idx_of_partial(freq, freqs)\n",
    "        else: \n",
    "            break\n",
    "            \n",
    "        if partial_idx < min(len(x_f), len(freqs)):\n",
    "            embedding[row] = x_f[partial_idx]\n",
    "        \n",
    "    emb_red = np.vstack([np.sum(x, axis=0) for x in np.vsplit(embedding, num_partials)])\n",
    "        \n",
    "    return emb_red, get_partials(x_fund, freqs, num_partials, 1)\n",
    "\n",
    "    \n",
    "    return embedding, partials\n",
    "\n",
    "def smooth(x, sigma):\n",
    "    # smooth to remove vibrato in get_freq, or just remove noise\n",
    "    # using gaussian kernel with sigma=2\n",
    "    kern_domain = np.linspace(-2, 2, 21+1)\n",
    "    gaussian_kernel = st.norm.pdf(kern_domain, scale=sigma)\n",
    "    return np.convolve(x, gaussian_kernel, mode='same')\n",
    "\n",
    "\n",
    "def embedding_inverse(embedded, partials, freqs, samplerate, partial_width=5):\n",
    "    \"\"\"\n",
    "    This function is the inverse of partial_embedding:\n",
    "    given a partials-only embedding, return approximation of original x\n",
    "    Thus, we will need it to get a soundfile back from a projected pca vector\n",
    "    \"\"\"\n",
    "    x_f = np.zeros((len(freqs), embedded.shape[1]))\n",
    "    \n",
    "    for i in range(len(partials)):\n",
    "        p_ind = idx_of_partial(partials[i], freqs)\n",
    "        x_f[p_ind] = embedded[i]\n",
    "        \n",
    "    return x_f"
   ]
  },
  {
   "cell_type": "code",
   "execution_count": 563,
   "id": "cdaced83",
   "metadata": {
    "ExecuteTime": {
     "end_time": "2023-04-26T19:09:07.697534Z",
     "start_time": "2023-04-26T19:08:47.236127Z"
    }
   },
   "outputs": [],
   "source": [
    "# this is the data matrix with each row being replaced by its full fourier transform \n",
    "# we will use it to compare to X_f_embed which consists of the embedded fourier transforms\n",
    "X_f, freqs, t = rstft(X, X_samplerate)"
   ]
  },
  {
   "cell_type": "markdown",
   "id": "ef7d7860",
   "metadata": {},
   "source": [
    "# Testing the Partial Embeddings"
   ]
  },
  {
   "cell_type": "code",
   "execution_count": 839,
   "id": "ba8b957c",
   "metadata": {
    "ExecuteTime": {
     "end_time": "2023-04-27T15:43:21.829590Z",
     "start_time": "2023-04-27T15:43:21.505704Z"
    }
   },
   "outputs": [
    {
     "data": {
      "text/plain": [
       "<matplotlib.collections.QuadMesh at 0x7f0a14369810>"
      ]
     },
     "execution_count": 839,
     "metadata": {},
     "output_type": "execute_result"
    },
    {
     "data": {
      "image/png": "[encoded data removed]",
      "text/plain": [
       "<Figure size 1800x400 with 3 Axes>"
      ]
     },
     "metadata": {},
     "output_type": "display_data"
    }
   ],
   "source": [
    "test_ind = 499\n",
    "test_x = X[test_ind]\n",
    "pwidth = 11\n",
    "test_fund = get_fundamental(test_x, X_samplerate)\n",
    "test_embed, test_partials = partial_embedding(test_x, test_fund, freqs, X_samplerate, num_partials=20, partial_width=pwidth)\n",
    "test_x_f = embedding_inverse(test_embed, test_partials, freqs, X_samplerate, partial_width=pwidth)\n",
    "\n",
    "nrows = 1\n",
    "ncols = 3\n",
    "fig, axs = plt.subplots(nrows,ncols, figsize=(ncols*6,nrows*4))\n",
    "\n",
    "axs[0].set_title('Original')\n",
    "axs[1].set_title('Embedding')\n",
    "axs[2].set_title('Reconstructed from Embedding')\n",
    "\n",
    "axs[0].pcolormesh(t,freqs,X_f[test_ind])\n",
    "axs[1].pcolormesh(test_embed)\n",
    "axs[2].pcolormesh(test_x_f)"
   ]
  },
  {
   "cell_type": "code",
   "execution_count": 838,
   "id": "ee11e122",
   "metadata": {
    "ExecuteTime": {
     "end_time": "2023-04-27T15:43:14.947731Z",
     "start_time": "2023-04-27T15:43:14.943707Z"
    }
   },
   "outputs": [
    {
     "data": {
      "text/plain": [
       "'Vc-ord-G#3-ff-4c-T15u'"
      ]
     },
     "execution_count": 838,
     "metadata": {},
     "output_type": "execute_result"
    }
   ],
   "source": [
    "file_descs[499]"
   ]
  },
  {
   "cell_type": "code",
   "execution_count": 841,
   "id": "483ff19e",
   "metadata": {
    "ExecuteTime": {
     "end_time": "2023-04-27T15:44:16.187636Z",
     "start_time": "2023-04-27T15:44:16.182689Z"
    }
   },
   "outputs": [
    {
     "data": {
      "text/plain": [
       "207.65234878997256"
      ]
     },
     "execution_count": 841,
     "metadata": {},
     "output_type": "execute_result"
    }
   ],
   "source": [
    "librosa.note_to_hz('G#3')"
   ]
  },
  {
   "cell_type": "code",
   "execution_count": 840,
   "id": "7bccfc98",
   "metadata": {
    "ExecuteTime": {
     "end_time": "2023-04-27T15:43:37.144321Z",
     "start_time": "2023-04-27T15:43:37.126264Z"
    }
   },
   "outputs": [
    {
     "data": {
      "text/plain": [
       "array([[2715.80592222, 3776.62163182, 4136.24797884, 5579.21875182,\n",
       "        5239.08334884, 4558.84630491, 4513.95901445, 4631.30535893,\n",
       "        4181.35472582, 4441.51235396, 4333.80278459, 3951.46587425,\n",
       "        3723.72996999, 3949.44237902, 4158.41873871, 4051.24572331,\n",
       "        3552.04129466, 3218.99028016, 4070.48055987, 4114.68778016,\n",
       "        3684.6995169 , 3418.42261406, 3436.64353102, 3772.86739147,\n",
       "        3657.20752789, 3430.4211399 , 3367.6260099 , 3540.83941905,\n",
       "        3793.74180024, 3989.19759969, 3823.55686018, 3660.56428822,\n",
       "        3425.70971217, 3470.12203984, 3610.71779514, 3765.72392386,\n",
       "        3844.86937324, 3630.46661115, 3329.19933889, 3295.61803631,\n",
       "        3324.39826626, 3220.84159719, 2984.43556463, 3179.44639676,\n",
       "        3359.21820002, 3545.06148893, 3449.20732569, 3056.98913697,\n",
       "        2943.12343494, 3073.92338414, 3462.34618908, 3338.17461007,\n",
       "        3214.6853024 , 3077.73933184, 3021.20723455, 2951.06044518,\n",
       "        3219.514431  , 3407.83889331, 3445.84133583, 3551.46103838,\n",
       "        3703.28878521, 3871.57145259, 3680.80833354, 3710.49660978,\n",
       "        3599.90269932, 3371.36519047, 3746.11987085, 2133.93087765],\n",
       "       [1086.86609245, 1350.29206018, 1299.72249164, 1326.20730294,\n",
       "         555.52233511,  385.00716665,  855.45746298, 1128.29673112,\n",
       "        1146.30010262,  756.5849737 ,  330.35772697,  259.68060984,\n",
       "         615.74259402,  963.47060828,  977.76328929,  430.05146804,\n",
       "         601.77671839,  559.50874929, 1100.10507451,  886.19180492,\n",
       "         517.57445482,  199.99464151,  250.73252195,  645.76483608,\n",
       "         843.43540863,  614.25907879,  165.07853756,  290.6765226 ,\n",
       "         763.10206722, 1237.2997044 , 1097.23197314,  379.69779199,\n",
       "         198.3682329 ,  591.71507428,  912.24203146,  976.07520827,\n",
       "         825.80905873,  329.21784209,  253.59582395,  651.08298467,\n",
       "         855.26531625,  559.90328487,  142.68922075,  239.59641654,\n",
       "         538.6157886 ,  983.15587288,  818.36135723,  271.27719853,\n",
       "         195.30940914,  468.06582127,  896.77310293,  842.84613946,\n",
       "         459.30757141,  121.81896562,  107.23189264,  233.46232986,\n",
       "         702.4302842 ,  594.56810389,  435.03886496,  197.84231829,\n",
       "         512.76576943,  897.63398496, 1001.8060148 ,  717.22013578,\n",
       "         257.94154972,  154.06458785,  527.03337187,  438.28773095],\n",
       "       [ 624.6998039 , 1421.83136936, 1304.03731879,  979.78912837,\n",
       "         706.07736946,  654.39284187,  594.13986562,  446.20589351,\n",
       "         344.54043697,  405.43301348,  526.89590317,  590.36792975,\n",
       "         471.77032628,  477.31036512,  416.11216632,  581.26145162,\n",
       "         479.50957786,  492.22077403,  392.37273217,  250.63082747,\n",
       "         391.36089399,  516.22773707,  519.72246544,  490.11108434,\n",
       "         379.46461334,  416.03231389,  511.0678547 ,  560.80128894,\n",
       "         569.89965894,  338.96864537,  237.77193146,  412.6836299 ,\n",
       "         479.51167984,  486.69448476,  474.70614786,  351.62518936,\n",
       "         371.47926109,  434.06146942,  523.39642153,  491.32119346,\n",
       "         393.64724168,  428.10296995,  491.87327898,  472.12571596,\n",
       "         450.90993342,  382.01732798,  326.07266034,  435.78213875,\n",
       "         497.78874987,  411.26850816,  415.25826903,  362.99640645,\n",
       "         465.12704268,  490.40757637,  430.51315222,  282.48560733,\n",
       "         317.27744247,  279.46087436,  403.95238424,  517.92945469,\n",
       "         547.95249429,  382.26754046,  210.49177791,  250.92528944,\n",
       "         384.94078417,  501.12934817,  520.21637327,  368.26766064],\n",
       "       [ 671.22696832,  543.29074652,  756.63917   , 1008.06586134,\n",
       "        1052.83038112,  898.46083728,  675.39482137,  441.19127805,\n",
       "         482.16518423,  714.89460966,  776.14853213,  755.45905136,\n",
       "         663.06341493,  394.70068043,  521.69438997,  683.1258785 ,\n",
       "         515.28350453,  654.46770347,  542.82769142,  472.15484931,\n",
       "         611.4845369 ,  679.75195207,  657.48951724,  548.96775286,\n",
       "         445.09218043,  520.19886117,  616.15336391,  659.90142612,\n",
       "         581.78779776,  434.40497941,  489.00066415,  626.09132773,\n",
       "         638.19564738,  641.12013475,  469.92479442,  433.92181898,\n",
       "         541.68394834,  649.32316057,  641.44320399,  551.71021114,\n",
       "         410.38177769,  516.64673699,  584.09801689,  618.19399483,\n",
       "         558.84353828,  379.44067536,  469.18506969,  558.24795314,\n",
       "         565.05479283,  578.10573902,  366.15255119,  441.34010741,\n",
       "         542.25594758,  574.84678365,  540.36860478,  561.7794203 ,\n",
       "         406.2708604 ,  436.79057737,  579.3151271 ,  632.16907586,\n",
       "         598.13430372,  409.98044326,  392.56333637,  478.56024666,\n",
       "         613.50834665,  637.93201366,  604.69562707,  341.40644188],\n",
       "       [ 623.06240927,  792.45315518,  784.68041332, 1115.96399691,\n",
       "         971.57933498,  820.59492124,  762.50084964,  524.05772337,\n",
       "         407.90640158,  766.00535292,  890.63882663,  679.52916649,\n",
       "         674.91570443,  411.45065978,  432.19592276,  826.52135976,\n",
       "         314.98012022,  518.86659669,  624.54609933,  304.28313706,\n",
       "         692.22133166,  661.29065912,  574.1320302 ,  618.19441068,\n",
       "         409.383872  ,  531.99195451,  711.85700711,  556.31065189,\n",
       "         725.16080827,  621.78484686,  545.81920496,  611.45253612,\n",
       "         451.2386677 ,  717.62361075,  558.28402994,  497.00849177,\n",
       "         590.75323706,  836.08253233,  572.49183775,  699.14462286,\n",
       "         435.88302647,  546.26321078,  594.37808261,  537.85377335,\n",
       "         615.3677882 ,  535.83473119,  481.38179031,  779.49422526,\n",
       "         416.79048923,  669.92822894,  560.94925098,  468.7635535 ,\n",
       "         746.90418364,  563.61376894,  428.59450199,  525.45769386,\n",
       "         569.58718408,  570.01458909,  757.62154942,  738.35865035,\n",
       "         726.06308093,  608.88107008,  538.9811158 ,  423.47519885,\n",
       "         901.88159916,  575.76786159,  836.81292363,  402.46328984],\n",
       "       [ 291.05830232,  406.75462261,  517.87607302,  551.97302444,\n",
       "         462.97089616,  437.61742558,  386.2519564 ,  223.09118206,\n",
       "         152.55159332,  253.77699705,  378.83334145,  536.4621519 ,\n",
       "         443.87429779,  240.11652111,  135.37684226,  413.32727619,\n",
       "         485.88237394,  373.51266812,  291.32861607,  123.58607239,\n",
       "         218.82147507,  369.10437226,  429.89370135,  309.14557545,\n",
       "         199.28202069,  149.7887469 ,  341.67406828,  417.84266115,\n",
       "         375.79575163,  168.8825358 ,  153.17870123,  367.05944722,\n",
       "         482.61627479,  343.71096603,  343.86880496,  162.87562207,\n",
       "         149.62962051,  322.26772273,  433.58094584,  345.0546296 ,\n",
       "         217.95577309,  181.82928986,  378.68607404,  390.43475253,\n",
       "         352.28011842,  275.58126849,  111.8465739 ,  264.68672604,\n",
       "         410.67803298,  320.65717886,  235.58486759,  109.80923096,\n",
       "         218.81610532,  417.50610218,  403.20107067,  326.24106419,\n",
       "         284.93262134,  139.52090448,  190.40273118,  332.16514324,\n",
       "         367.93067397,  220.88364047,   85.77469107,  139.88124868,\n",
       "         318.02733855,  431.4551684 ,  361.3342608 ,  224.06340635],\n",
       "       [ 267.00391048,  336.79741922,  442.52676322,  476.91986541,\n",
       "         380.77662534,  279.56228072,  238.82777497,  280.58919778,\n",
       "         222.4171985 ,  254.69343651,  256.96736022,  262.57832808,\n",
       "         189.34982914,  186.54449091,  211.50591238,  269.78618081,\n",
       "         176.25477796,  229.839515  ,  195.65679069,  146.87313855,\n",
       "         197.84647912,  183.26368691,  172.23838108,  168.17235735,\n",
       "         189.42432395,  166.44110093,  162.58729937,  187.7283977 ,\n",
       "         211.65726526,  305.9918311 ,  207.57073659,  214.98511574,\n",
       "         198.23104017,  184.95295137,  166.6127297 ,  192.87288534,\n",
       "         172.93364303,  179.68630094,  203.22889995,  150.58255199,\n",
       "         201.00173806,  164.77977546,  189.10441544,  218.36986002,\n",
       "         177.88821276,  278.99548235,  169.04359028,  143.53968513,\n",
       "         176.08831406,  194.2501029 ,  211.02671436,  219.90000002,\n",
       "         191.94532755,  169.82144748,  187.93606535,  198.50805411,\n",
       "         215.41613562,  181.12122448,  206.93298422,  178.13375982,\n",
       "         196.92479782,  274.36651463,  341.71234773,  196.68219329,\n",
       "         206.5586272 ,  229.52657915,  201.55123746,  106.43343835],\n",
       "       [ 306.65060857,  313.14413957,  350.04896049,  254.14060254,\n",
       "         100.66438208,  108.02809963,  179.05031694,  181.20010296,\n",
       "         153.43475177,  102.29173726,   73.88492198,  163.09939118,\n",
       "         203.52400844,  187.77944714,  157.55961138,  164.92514583,\n",
       "         227.57004644,  226.00731485,  218.69623553,  197.4110119 ,\n",
       "         132.10731509,  113.71765599,   98.09606278,  186.11799612,\n",
       "         169.2482209 ,  130.92086707,  117.34416512,   86.53121291,\n",
       "         188.73669915,  195.07275351,  155.57686112,  131.00512315,\n",
       "         144.52710753,  135.87372873,  164.02063041,  147.41797042,\n",
       "         104.97458674,   91.63019099,   87.41894271,  142.4652448 ,\n",
       "         143.2607582 ,  103.48737073,  104.66964876,   65.05611006,\n",
       "         131.74087409,  181.06233326,  108.02721884,   94.2736031 ,\n",
       "         108.37058558,  142.04398275,  160.82380054,  128.31278682,\n",
       "         108.30308967,  118.59082128,  132.14334711,  108.62145497,\n",
       "         148.13703992,  125.47781064,   75.25614486,   86.23311855,\n",
       "         104.22313241,  177.11129378,  164.12305041,  105.24799239,\n",
       "         126.02851592,  122.81111893,  131.40823445,   99.4991297 ],\n",
       "       [ 688.77201218, 1448.26913557, 1092.91981254,  283.37662416,\n",
       "         248.36430251,  273.30593219,  449.58031894,  357.07192176,\n",
       "         276.07440128,  243.22216223,  200.80165456,  177.84820782,\n",
       "         247.00560454,  257.5842267 ,  226.8198101 ,  144.60256538,\n",
       "         159.81874133,  251.71914995,  242.18321087,  282.9726933 ,\n",
       "         270.80985986,  232.9434185 ,  255.24854167,  278.90056425,\n",
       "         282.05465473,  312.26719837,  228.60268019,  272.9962875 ,\n",
       "         432.85739428,  404.11761991,  304.21353273,  268.15686078,\n",
       "         238.55290971,  383.32508451,  337.99588094,  330.92810138,\n",
       "         398.3708868 ,  282.90971255,  272.12209834,  423.2066607 ,\n",
       "         337.20758623,  353.50629672,  231.26037806,  271.60173392,\n",
       "         414.17981272,  427.28222549,  338.65650798,  297.35764293,\n",
       "         247.85322098,  352.68255798,  320.58748068,  353.9490923 ,\n",
       "         369.29392285,  181.20275004,  205.89866398,  300.24872264,\n",
       "         304.44465454,  309.67691084,  338.63515239,  275.0730035 ,\n",
       "         377.76741991,  360.91190327,  376.39694028,  315.58698185,\n",
       "         288.03146453,  260.5916621 ,  374.06326353,  150.67105135],\n",
       "       [ 572.59563856,  833.3456112 ,  559.72210533,  595.89779982,\n",
       "         351.73068719,  396.03456246,  309.72567757,  376.54353236,\n",
       "         299.45526605,  267.50571394,  360.80078276,  299.29187325,\n",
       "         299.28634218,  304.70928906,  297.65505313,  285.02686428,\n",
       "         103.69415863,  362.02581032,  382.59809184,  346.52724131,\n",
       "         274.96789218,  445.52610094,  393.19167453,  289.98109433,\n",
       "         370.48352281,  295.16192512,  424.23500607,  418.21341548,\n",
       "         367.70566042,  443.37201662,  339.11055776,  358.75658303,\n",
       "         373.47407675,  403.17718456,  297.11981727,  322.46266905,\n",
       "         232.48907214,  407.70779072,  393.54924541,  302.51818717,\n",
       "         335.22460694,  265.53131814,  338.54814712,  377.41002683,\n",
       "         328.39055989,  427.3195717 ,  272.90440062,  318.46279117,\n",
       "         293.93217738,  404.0086456 ,  412.81636245,  358.20495855,\n",
       "         273.43624699,  328.18952387,  253.94144932,  424.44425962,\n",
       "         326.36998007,  258.20483183,  249.34636792,  346.03854676,\n",
       "         311.89039714,  455.44177917,  435.61659379,  257.9529417 ,\n",
       "         322.71688613,  368.74393055,  273.83233039,  109.53908724],\n",
       "       [ 240.17836891,  347.55407158,  431.42080719,  206.56394395,\n",
       "          91.92727775,  143.45363301,  198.94131901,  145.82460246,\n",
       "         142.39723658,  147.62032407,   83.82087428,   70.39060462,\n",
       "         141.46259236,  111.81974214,  132.46491708,  183.62645017,\n",
       "         105.74724861,   93.8811987 ,  101.52766347,  116.26525616,\n",
       "         151.96585649,   78.8620042 ,  103.75089913,  147.35938614,\n",
       "         153.66258001,  175.90768101,  106.17557431,  171.10896365,\n",
       "         175.98281752,  121.41583556,  193.75122896,  112.41189368,\n",
       "          97.74772669,  200.74787995,  152.43527636,  156.14088419,\n",
       "         201.65529001,  114.34174226,  175.50662999,  172.23858019,\n",
       "         155.96536641,  201.39206475,  111.00595193,  165.74438926,\n",
       "         228.08249828,  142.77957532,  192.04497533,  134.81576647,\n",
       "         109.16424999,  195.5140103 ,  143.82483749,  183.37329439,\n",
       "         173.90423821,  103.29835575,  103.75903339,  202.10245514,\n",
       "         144.96356479,  179.7368283 ,  174.98948167,  130.46674627,\n",
       "         187.26016341,  163.32243268,  151.36884936,  200.0900927 ,\n",
       "         153.27775447,  194.04466283,  238.31558307,  113.33105528],\n",
       "       [ 209.87736242,  281.71681069,  575.99714243,  605.56144085,\n",
       "         239.63049982,  268.93540017,  369.41308671,  321.53113701,\n",
       "         353.74530209,  293.40408551,  165.85944344,  181.25047406,\n",
       "         251.70568151,  263.77400881,  229.31863785,  155.52159128,\n",
       "          94.50156607,  157.71211898,  189.96173864,  139.93005795,\n",
       "         110.65675191,   55.97777031,   67.93898499,  193.49106103,\n",
       "         150.85341666,  116.94246451,   31.26793053,   77.49356412,\n",
       "         137.19377405,  144.45861151,  134.55864417,   48.76805627,\n",
       "          90.58050176,   83.42745776,  114.03394321,  124.60731608,\n",
       "          85.13043209,   61.54230048,   85.80615043,  103.90702136,\n",
       "         109.27453796,   92.65734197,   71.61375695,   75.16537628,\n",
       "          81.83792058,   76.21437544,   58.1299873 ,   57.09085561,\n",
       "         104.98677708,   85.96015724,  110.4911196 ,   99.22594485,\n",
       "         103.97932649,   77.31624208,  104.12587526,  142.64895967,\n",
       "         126.03477685,  109.08494282,   50.26273279,   56.85666605,\n",
       "          74.67318269,  117.75238376,  104.09104183,   94.96294474,\n",
       "          96.02321258,  104.23929301,  159.32291998,  128.32859023],\n",
       "       [  69.32679422,  181.07898637,  290.63748548,  148.66824711,\n",
       "         149.2276405 ,  117.64033429,   83.36558189,   69.97844612,\n",
       "          64.28598825,   76.51043744,   94.00102929,  130.77843756,\n",
       "          66.62366526,   81.98502518,   87.90913516,  160.0712873 ,\n",
       "         123.70544117,  132.59030293,  128.2100695 ,  114.81026519,\n",
       "          85.53603196,   70.7673539 ,   58.27743515,  114.41698769,\n",
       "         116.78050315,   76.83814044,   61.14489924,   43.51508037,\n",
       "         151.19860469,  182.53103655,  156.36497279,   89.83269731,\n",
       "          83.22174576,   75.56573678,  152.55484126,  184.74154708,\n",
       "          94.36618991,   61.41411915,   36.737605  ,   94.05053506,\n",
       "         119.9656019 ,   58.1291657 ,   31.89707026,   38.17245307,\n",
       "          79.48787848,  121.08783048,  104.65359323,   53.44981547,\n",
       "          36.40539335,   72.62202012,   76.89044151,   86.03816208,\n",
       "          59.2550918 ,   28.56081013,   41.48671918,   52.33726653,\n",
       "          69.09804163,   77.65894378,   57.85243008,   42.39833844,\n",
       "          56.67072416,   60.63741857,   78.20785839,   58.61807867,\n",
       "          38.52437501,   46.14496225,   62.4222746 ,   36.479106  ],\n",
       "       [  77.39007633,  122.52978649,  172.17140121,  126.19550987,\n",
       "         120.84026427,   94.54124341,  103.55925438,  103.19964686,\n",
       "         103.73055126,   83.72861056,  110.8671573 ,  161.4399191 ,\n",
       "          90.0254004 ,  118.59120484,  152.07860225,  148.58804276,\n",
       "         110.43871991,  133.29259088,  150.03904857,  149.69574091,\n",
       "          74.75070402,   95.72229721,   72.98719655,  109.20441354,\n",
       "         152.6149069 ,  104.89505586,   96.79524411,   80.45652325,\n",
       "         158.20994176,  124.91673655,  164.67281535,  133.5207793 ,\n",
       "         126.3514406 ,  109.85658622,  126.28954718,  131.63378715,\n",
       "         107.46458083,   87.17736953,   81.80680474,  116.36401957,\n",
       "         112.56656877,   64.65839225,  103.56685894,   72.82527542,\n",
       "          96.52397882,  121.41534234,   83.47702953,   87.89095454,\n",
       "         104.52667037,   83.08653825,  117.11715852,  103.86795279,\n",
       "          68.50009217,  107.56350235,  104.25093097,   86.11371569,\n",
       "          99.7545791 ,   91.88707417,   31.68414343,   39.4943517 ,\n",
       "          74.5123655 ,  104.73602534,   83.5315365 ,   72.80326844,\n",
       "          49.22165468,   59.90438081,   70.34423585,   39.63062499],\n",
       "       [  23.76187316,   76.57939129,   77.72751625,  102.47834993,\n",
       "          62.31176247,   46.89284916,   90.02276989,   69.15636136,\n",
       "          65.95906418,   89.07859385,   63.80600467,   64.56271904,\n",
       "          85.0509336 ,   78.83820509,  122.54153035,   68.79878017,\n",
       "          42.17475429,   85.92590444,   97.39105836,  120.60247381,\n",
       "          96.50891754,   44.88245612,   59.86218326,   92.8014693 ,\n",
       "         102.84582952,  110.80081706,   46.61720143,   55.35948903,\n",
       "         144.15469918,  173.57782143,  135.79472964,   68.76893235,\n",
       "          52.14533391,  106.68929314,  103.29508793,  130.12897554,\n",
       "         147.94091563,   52.03007519,   59.75069561,  115.67722925,\n",
       "         108.07623309,   91.61371472,   47.64716955,   58.79523635,\n",
       "         120.68473405,  123.34757732,  117.15263769,   51.31740462,\n",
       "          46.7413527 ,   97.40016141,  102.93201329,  113.0272637 ,\n",
       "          77.10167809,   62.46878617,   43.32886929,   58.45440598,\n",
       "         102.98759212,  120.58692779,   88.50130361,   57.29447818,\n",
       "         118.80534413,  127.01428235,  150.74440979,  133.39545629,\n",
       "          69.09724043,   67.95686883,  136.41961835,   57.03682458],\n",
       "       [  36.75720817,   78.06478887,   64.49599215,   51.2551246 ,\n",
       "          19.06888645,   25.85488561,   32.73083689,   45.24359529,\n",
       "          18.2877132 ,   22.86367447,   11.45616872,   16.85401004,\n",
       "          16.56175838,   18.1886574 ,   25.8732409 ,   31.00825686,\n",
       "          24.18339617,   25.14209279,   23.42766725,   18.41474122,\n",
       "          22.13039385,   15.34735843,   20.98468278,   20.00530476,\n",
       "          17.12426655,   26.8753056 ,   19.75491537,   26.67516955,\n",
       "          38.75676626,   31.69160762,   30.75153265,   27.81477726,\n",
       "          19.42796522,   40.29260299,   24.83779656,   27.46188396,\n",
       "          35.37593107,   18.07610887,   27.45334082,   37.37273711,\n",
       "          28.88979255,   28.03458767,   10.84149156,   22.62791446,\n",
       "          41.71596861,   41.30293101,   25.94558356,   20.02296479,\n",
       "          11.94259053,   28.69710878,   27.33839764,   25.24665441,\n",
       "          28.79883481,    8.94573317,   22.75674504,   25.04516306,\n",
       "          20.98035632,   31.70810016,   29.33708308,   22.79240935,\n",
       "          38.15352051,   25.40178844,   35.91603532,   51.44074727,\n",
       "          25.10485762,   23.89955473,   46.31629944,   46.46142332],\n",
       "       [  84.67342937,  108.40897809,  107.4039477 ,   90.02277653,\n",
       "          52.09735822,   51.03469872,   34.49117466,   22.09675077,\n",
       "          35.18154912,   53.14161063,   52.19158326,   66.76875329,\n",
       "          41.62063971,   23.82631826,   41.81174268,   58.282215  ,\n",
       "          36.74095097,   57.38308882,   43.66051953,   50.95584828,\n",
       "          64.31127583,   70.2581256 ,   86.24690021,   54.27664646,\n",
       "          55.339719  ,   70.47085108,   73.86948656,   81.47488576,\n",
       "          54.21683215,   38.19324705,   59.02278171,   64.84426327,\n",
       "          65.61924518,   52.47208697,   31.78447658,   36.66832475,\n",
       "          38.03163327,   50.75721853,   54.45670306,   31.42440379,\n",
       "          29.1929826 ,   38.20588687,   42.35260433,   39.4318921 ,\n",
       "          32.4983594 ,   36.51038415,   32.79274182,   40.50383442,\n",
       "          41.63136689,   43.06896258,   42.2216957 ,   50.00079866,\n",
       "          55.87536805,   53.74730612,   58.86741899,   71.08038827,\n",
       "          46.29583468,   46.48590329,   55.14859556,   51.07790271,\n",
       "          52.22049244,   48.97706141,   52.47968163,   62.01174303,\n",
       "          66.99299879,   72.02082563,   57.97516619,   58.09639688],\n",
       "       [  54.54932062,   83.13751159,   79.52516992,  110.67113419,\n",
       "          58.01555421,   45.98096028,   53.11577945,   93.94670873,\n",
       "          51.00949623,   32.76031873,   29.54666706,   38.64388389,\n",
       "          55.23635204,   67.31333411,   63.99443442,   31.75418137,\n",
       "          17.98908709,   62.79048302,  104.0044772 ,   66.21840021,\n",
       "          37.70816473,   30.56777032,   38.78770979,   59.17350265,\n",
       "          65.97877744,   30.57853049,   23.26630071,   32.42829755,\n",
       "          75.8906216 ,   61.85811639,   69.47458176,   41.50804441,\n",
       "          46.02826026,   56.30298436,   64.91513288,   74.61669686,\n",
       "          52.74015373,   39.86218793,   45.19214107,   49.82189014,\n",
       "          49.32087801,   39.29940737,   29.2562171 ,   21.90753467,\n",
       "          49.67309204,   70.61471232,   44.22159567,   27.22136451,\n",
       "          23.02006857,   39.45714016,   58.92626288,   52.47742989,\n",
       "          31.97181708,   28.0871771 ,   28.74180909,   29.89233381,\n",
       "          56.74581204,   59.06849283,   40.96758515,   26.26756733,\n",
       "          54.422306  ,   68.33673676,   77.18369733,   58.92803574,\n",
       "          39.73650464,   42.69827529,   60.57705997,   42.04426773],\n",
       "       [  67.30460597,  159.77503021,  147.09807178,  148.77776305,\n",
       "         135.70829059,  127.48053071,   85.85523889,   79.08908201,\n",
       "          69.99741359,  101.41336539,  115.69612326,  117.62629375,\n",
       "          65.73410976,   46.61446626,  107.55198642,  135.32325827,\n",
       "          56.86782637,  126.13314836,   57.32666102,   63.69950459,\n",
       "          84.45325318,   85.79077402,   63.76692328,   36.67603092,\n",
       "          32.27775927,   44.04156773,   50.39192808,   40.22503225,\n",
       "          26.43295943,   13.0918242 ,   23.87003273,   41.25624797,\n",
       "          41.93463097,   23.13291642,   17.65537966,   21.79572966,\n",
       "          34.65910858,   41.66939391,   34.1560887 ,   25.97104713,\n",
       "          31.22118409,   37.0559694 ,   37.71101309,   39.14935104,\n",
       "          40.40816809,   35.55540404,   47.30693255,   49.21002344,\n",
       "          48.31565124,   40.14220481,   35.73072058,   55.48541169,\n",
       "          55.45407035,   55.14345239,   61.93730232,   42.9110267 ,\n",
       "          40.51613368,   44.33543019,   46.50345605,   38.74589875,\n",
       "          35.36365414,   29.58764076,   31.0910876 ,   42.33563667,\n",
       "          54.87766633,   47.92353234,   29.98734214,   36.98695331],\n",
       "       [   0.        ,    0.        ,    0.        ,    0.        ,\n",
       "           0.        ,    0.        ,    0.        ,    0.        ,\n",
       "           0.        ,    0.        ,    0.        ,    0.        ,\n",
       "           0.        ,    0.        ,    0.        ,    0.        ,\n",
       "           0.        ,    0.        ,    0.        ,    0.        ,\n",
       "           0.        ,    0.        ,    0.        ,    0.        ,\n",
       "           0.        ,    0.        ,    0.        ,    0.        ,\n",
       "           0.        ,    0.        ,    0.        ,    0.        ,\n",
       "           0.        ,    0.        ,    0.        ,    0.        ,\n",
       "           0.        ,    0.        ,    0.        ,    0.        ,\n",
       "           0.        ,    0.        ,    0.        ,    0.        ,\n",
       "           0.        ,    0.        ,    0.        ,    0.        ,\n",
       "           0.        ,    0.        ,    0.        ,    0.        ,\n",
       "           0.        ,    0.        ,    0.        ,    0.        ,\n",
       "           0.        ,    0.        ,    0.        ,    0.        ,\n",
       "           0.        ,    0.        ,    0.        ,    0.        ,\n",
       "           0.        ,    0.        ,    0.        ,    0.        ]])"
      ]
     },
     "execution_count": 840,
     "metadata": {},
     "output_type": "execute_result"
    }
   ],
   "source": [
    "test_embed"
   ]
  },
  {
   "cell_type": "markdown",
   "id": "f8302a3f",
   "metadata": {},
   "source": [
    "# Perform PCA"
   ]
  },
  {
   "cell_type": "code",
   "execution_count": 234,
   "id": "6e94c104",
   "metadata": {
    "ExecuteTime": {
     "end_time": "2023-04-26T15:49:36.210702Z",
     "start_time": "2023-04-26T15:49:36.147737Z"
    }
   },
   "outputs": [
    {
     "data": {
      "text/plain": [
       "(33334,)"
      ]
     },
     "execution_count": 234,
     "metadata": {},
     "output_type": "execute_result"
    }
   ],
   "source": [
    "X.mean(axis=0).shape"
   ]
  },
  {
   "cell_type": "code",
   "execution_count": 639,
   "id": "9c3b4d95",
   "metadata": {
    "ExecuteTime": {
     "end_time": "2023-04-26T21:00:35.516067Z",
     "start_time": "2023-04-26T21:00:35.395754Z"
    }
   },
   "outputs": [],
   "source": [
    "def pca(X):\n",
    "    mean = X.mean(axis=0) \n",
    "    center = X - mean \n",
    "    _, stds, pcs = np.linalg.svd(center/np.sqrt(X.shape[0])) \n",
    "\n",
    "    return stds**2, pcs\n",
    "X_mean = X.mean(axis=0)"
   ]
  },
  {
   "cell_type": "code",
   "execution_count": 651,
   "id": "3dcbadfc",
   "metadata": {
    "ExecuteTime": {
     "end_time": "2023-04-26T21:02:22.644558Z",
     "start_time": "2023-04-26T21:02:02.926279Z"
    }
   },
   "outputs": [],
   "source": [
    "# embed the data matrix\n",
    "num_ps = 20\n",
    "p_width = 11\n",
    "embed_row = lambda x: partial_embedding(x, \n",
    "                                        get_fundamental(x, samplerate),\n",
    "                                        freqs, X_samplerate, num_partials=num_ps, \n",
    "                                        partial_width=p_width)[0]\n",
    "X_f_embed = np.apply_along_axis(embed_row, 1, X)\n",
    "n, dimf, dimt = X_f_embed.shape\n",
    "X_f_linearized = X_f_embed.reshape(n, dimf*dimt)"
   ]
  },
  {
   "cell_type": "code",
   "execution_count": 776,
   "id": "d3eb8ded",
   "metadata": {
    "ExecuteTime": {
     "end_time": "2023-04-27T15:23:05.807405Z",
     "start_time": "2023-04-27T15:23:05.803541Z"
    }
   },
   "outputs": [
    {
     "data": {
      "text/plain": [
       "(2679, 20, 68)"
      ]
     },
     "execution_count": 776,
     "metadata": {},
     "output_type": "execute_result"
    }
   ],
   "source": [
    "X_f_embed"
   ]
  },
  {
   "cell_type": "code",
   "execution_count": null,
   "id": "f4671251",
   "metadata": {},
   "outputs": [],
   "source": []
  },
  {
   "cell_type": "code",
   "execution_count": 653,
   "id": "007d8792",
   "metadata": {
    "ExecuteTime": {
     "end_time": "2023-04-26T21:02:27.451731Z",
     "start_time": "2023-04-26T21:02:27.447350Z"
    }
   },
   "outputs": [
    {
     "data": {
      "text/plain": [
       "(2679, 1360)"
      ]
     },
     "execution_count": 653,
     "metadata": {},
     "output_type": "execute_result"
    }
   ],
   "source": [
    "X_f_linearized.shape"
   ]
  },
  {
   "cell_type": "code",
   "execution_count": 654,
   "id": "7654b09d",
   "metadata": {
    "ExecuteTime": {
     "end_time": "2023-04-26T21:02:34.857902Z",
     "start_time": "2023-04-26T21:02:29.892979Z"
    }
   },
   "outputs": [],
   "source": [
    "var_exp, pcs_lin  = pca(X_f_linearized)"
   ]
  },
  {
   "cell_type": "code",
   "execution_count": 655,
   "id": "b774f554",
   "metadata": {
    "ExecuteTime": {
     "end_time": "2023-04-26T21:02:36.335825Z",
     "start_time": "2023-04-26T21:02:36.332453Z"
    }
   },
   "outputs": [
    {
     "data": {
      "text/plain": [
       "(1360, 1360)"
      ]
     },
     "execution_count": 655,
     "metadata": {},
     "output_type": "execute_result"
    }
   ],
   "source": [
    "pcs_lin.shape"
   ]
  },
  {
   "cell_type": "code",
   "execution_count": 683,
   "id": "79ae2d38",
   "metadata": {
    "ExecuteTime": {
     "end_time": "2023-04-26T21:11:45.996825Z",
     "start_time": "2023-04-26T21:11:45.865272Z"
    }
   },
   "outputs": [
    {
     "data": {
      "text/plain": [
       "[<matplotlib.lines.Line2D at 0x7f0a206b0bb0>]"
      ]
     },
     "execution_count": 683,
     "metadata": {},
     "output_type": "execute_result"
    },
    {
     "data": {
      "image/png": "[encoded data removed]",
      "text/plain": [
       "<Figure size 640x480 with 1 Axes>"
      ]
     },
     "metadata": {},
     "output_type": "display_data"
    }
   ],
   "source": [
    "plt.plot(1-np.cumsum(var_exp[:20]))"
   ]
  },
  {
   "cell_type": "code",
   "execution_count": 669,
   "id": "479c53cd",
   "metadata": {
    "ExecuteTime": {
     "end_time": "2023-04-26T21:08:07.240701Z",
     "start_time": "2023-04-26T21:08:07.219109Z"
    }
   },
   "outputs": [],
   "source": [
    "def reduce_dim(X, mean, pcs, samplerate, num_comps=100):\n",
    "    X_center = X# - mean\n",
    "    if len(X_center.shape) == 2:\n",
    "        X_embed = np.apply_along_axis(embed_row, 1, X_center)\n",
    "        n, dimf, dimt = X_embed.shape\n",
    "        X_lin = X_embed.reshape(n, dimf*dimt)\n",
    "        fund_freqs = [get_fundamental(x, samplerate) for x in X]\n",
    "    else:\n",
    "        X_embed = embed_row(X_center)\n",
    "        dimf, dimt = X_embed.shape\n",
    "        X_lin = X_embed.reshape(dimf*dimt)\n",
    "        fund_freqs = [get_fundamental(X, samplerate)]\n",
    "    X_proj = X_lin @ pcs[:num_comps].T\n",
    "    return X_proj, fund_freqs\n",
    "\n",
    "def expand_dim(X_red, mean, pcs, fund, freqs, samplerate, num_partials=20, partial_width=5, num_comps=100):\n",
    "    X_proj = X_red @ pcs_lin[:num_comps]\n",
    "    if len(X_red.shape) == 2:\n",
    "        X_proj = X_proj.reshape(n, dimf, dimt)\n",
    "        partials_arr = [get_partials(fund_f, freqs, num_partials, 1) for fund_f in fund]\n",
    "        reconst = [embedding_inverse(x, ps, freqs, samplerate) for x, ps in zip(X_proj, partials_arr)]\n",
    "    else:\n",
    "        X_proj = X_proj.reshape(dimf, dimt)\n",
    "        ps = get_partials(fund, freqs, num_partials, partial_width)\n",
    "        reconst = embedding_inverse(X_proj, ps, freqs, samplerate)\n",
    "    reconst = np.array(reconst)\n",
    "    #reconst = reconst[:, :len(mean)] + mean\n",
    "    return reconst"
   ]
  },
  {
   "cell_type": "code",
   "execution_count": 684,
   "id": "305fbc18",
   "metadata": {
    "ExecuteTime": {
     "end_time": "2023-04-26T21:12:38.601480Z",
     "start_time": "2023-04-26T21:12:02.534654Z"
    }
   },
   "outputs": [],
   "source": [
    "n_comps = 10\n",
    "X_reduced, fund_freqs = reduce_dim(X, X_mean, pcs_lin, X_samplerate, num_comps=n_comps)\n",
    "X_f_reconst = expand_dim(X_reduced, X_mean, pcs_lin, fund_freqs, freqs, X_samplerate, num_partials=num_ps, partial_width=p_width, num_comps=n_comps)"
   ]
  },
  {
   "cell_type": "code",
   "execution_count": 685,
   "id": "2b45aa43",
   "metadata": {
    "ExecuteTime": {
     "end_time": "2023-04-26T21:12:42.272637Z",
     "start_time": "2023-04-26T21:12:42.139516Z"
    }
   },
   "outputs": [
    {
     "data": {
      "text/plain": [
       "<matplotlib.collections.QuadMesh at 0x7f0a206fceb0>"
      ]
     },
     "execution_count": 685,
     "metadata": {},
     "output_type": "execute_result"
    },
    {
     "data": {
      "image/png": "[encoded data removed]",
      "text/plain": [
       "<Figure size 640x480 with 1 Axes>"
      ]
     },
     "metadata": {},
     "output_type": "display_data"
    }
   ],
   "source": [
    "plt.pcolormesh(X_f[0])"
   ]
  },
  {
   "cell_type": "code",
   "execution_count": 749,
   "id": "27da3450",
   "metadata": {
    "ExecuteTime": {
     "end_time": "2023-04-26T21:28:26.027503Z",
     "start_time": "2023-04-26T21:28:25.776937Z"
    }
   },
   "outputs": [
    {
     "data": {
      "text/plain": [
       "[<matplotlib.lines.Line2D at 0x7f0a1aedacb0>]"
      ]
     },
     "execution_count": 749,
     "metadata": {},
     "output_type": "execute_result"
    },
    {
     "data": {
      "image/png": "[encoded data removed]",
      "text/plain": [
       "<Figure size 800x400 with 2 Axes>"
      ]
     },
     "metadata": {},
     "output_type": "display_data"
    }
   ],
   "source": [
    "test_ind = 2000\n",
    "test_fund_ind = np.argmax(X_f_reconst[test_ind].mean(axis=1))\n",
    "\n",
    "fig,axs = plt.subplots(1,2, figsize=(8,4))\n",
    "axs[0].plot(X_f[test_ind, test_fund_ind])\n",
    "#axs[1].plot(X_f_reconst[test_ind, test_fund_ind])\n",
    "axs[1].plot((X_reduced[test_ind] @ pcs_lin[:n_comps]).reshape(dimf,dimt)[1])"
   ]
  },
  {
   "cell_type": "code",
   "execution_count": 774,
   "id": "bc7b2363",
   "metadata": {
    "ExecuteTime": {
     "end_time": "2023-04-27T15:22:39.546469Z",
     "start_time": "2023-04-27T15:22:39.543707Z"
    }
   },
   "outputs": [],
   "source": [
    "#old_opts = np.get_printoptions()\n",
    "np.set_printoptions(**old_opts)"
   ]
  },
  {
   "cell_type": "code",
   "execution_count": 834,
   "id": "138f9a1b",
   "metadata": {
    "ExecuteTime": {
     "end_time": "2023-04-27T15:42:14.912681Z",
     "start_time": "2023-04-27T15:42:14.910236Z"
    }
   },
   "outputs": [],
   "source": [
    "np.set_printoptions(threshold=sys.maxsize)"
   ]
  },
  {
   "cell_type": "code",
   "execution_count": 835,
   "id": "27ea6a99",
   "metadata": {
    "ExecuteTime": {
     "end_time": "2023-04-27T15:42:25.990840Z",
     "start_time": "2023-04-27T15:42:25.959340Z"
    }
   },
   "outputs": [
    {
     "data": {
      "text/plain": [
       "array([[2.58065068e+01, 1.56272241e+02, 3.84975508e+02, 5.06581371e+02,\n",
       "        5.47441278e+02, 5.41286169e+02, 4.39635706e+02, 4.08417094e+02,\n",
       "        5.21679117e+02, 6.11638917e+02, 6.04197085e+02, 5.64092725e+02,\n",
       "        5.25902918e+02, 6.24785719e+02, 7.42649240e+02, 7.62125414e+02,\n",
       "        5.99991454e+02, 4.74889122e+02, 5.25942427e+02, 6.71257721e+02,\n",
       "        7.31558692e+02, 7.28019433e+02, 6.12535025e+02, 6.24447220e+02,\n",
       "        7.56357202e+02, 7.94897164e+02, 7.80587973e+02, 6.50764613e+02,\n",
       "        5.46535623e+02, 6.32359042e+02, 7.54744819e+02, 8.20104712e+02,\n",
       "        6.81979956e+02, 5.66165407e+02, 5.57992793e+02, 6.30054590e+02,\n",
       "        7.10752063e+02, 7.70184895e+02, 6.53563217e+02, 5.98025274e+02,\n",
       "        6.20967877e+02, 7.13658673e+02, 8.17162686e+02, 7.01361988e+02,\n",
       "        6.17705800e+02, 6.21012013e+02, 6.77710103e+02, 7.45348800e+02,\n",
       "        7.22337139e+02, 6.73361846e+02, 6.60625234e+02, 6.39601298e+02,\n",
       "        6.20661174e+02, 6.10610766e+02, 6.86504380e+02, 5.69140416e+02,\n",
       "        5.21129069e+02, 5.38802690e+02, 5.71736049e+02, 5.69753267e+02,\n",
       "        6.76336760e+02, 6.01726930e+02, 5.78967615e+02, 6.20581201e+02,\n",
       "        7.39761133e+02, 8.06035629e+02, 7.24468503e+02, 3.77471676e+02],\n",
       "       [3.06316009e+01, 1.10245355e+02, 2.07519856e+02, 3.42835539e+02,\n",
       "        4.00153056e+02, 3.95848425e+02, 2.80380601e+02, 2.35206180e+02,\n",
       "        3.25719620e+02, 4.63182882e+02, 4.67696456e+02, 3.73046491e+02,\n",
       "        2.99673177e+02, 3.81834598e+02, 5.18366322e+02, 6.28643505e+02,\n",
       "        4.87990701e+02, 3.08793870e+02, 3.24203939e+02, 4.32851926e+02,\n",
       "        5.75910361e+02, 5.93427173e+02, 3.99939842e+02, 3.57822169e+02,\n",
       "        4.57970878e+02, 5.28685731e+02, 5.87990159e+02, 4.55984405e+02,\n",
       "        3.31758847e+02, 4.05639247e+02, 5.13575788e+02, 6.71337758e+02,\n",
       "        5.87215841e+02, 4.10200484e+02, 3.86482898e+02, 4.70801726e+02,\n",
       "        5.54359040e+02, 6.19021968e+02, 4.92090790e+02, 4.20584645e+02,\n",
       "        4.60247660e+02, 5.42841574e+02, 6.70957326e+02, 6.12189890e+02,\n",
       "        4.58020695e+02, 4.31680764e+02, 4.87973679e+02, 5.58058895e+02,\n",
       "        6.55254428e+02, 6.08351779e+02, 4.90439441e+02, 4.66917039e+02,\n",
       "        4.94150956e+02, 5.96026365e+02, 6.48337797e+02, 4.58824111e+02,\n",
       "        3.66145076e+02, 4.08640331e+02, 4.32989017e+02, 6.00400655e+02,\n",
       "        4.94745503e+02, 4.11461294e+02, 4.00578046e+02, 4.35647003e+02,\n",
       "        5.91511034e+02, 6.39913300e+02, 4.98036012e+02, 2.46659259e+02],\n",
       "       [3.58097537e+01, 1.01422289e+02, 2.04357602e+02, 3.15126078e+02,\n",
       "        2.87705313e+02, 3.46349086e+02, 2.26075139e+02, 2.15718832e+02,\n",
       "        3.12921900e+02, 3.12692840e+02, 3.59160023e+02, 2.79730442e+02,\n",
       "        2.41111622e+02, 3.14926338e+02, 3.89590091e+02, 3.61951016e+02,\n",
       "        3.32340612e+02, 1.94710488e+02, 2.55894903e+02, 3.20237509e+02,\n",
       "        3.20442393e+02, 3.81734693e+02, 2.23595126e+02, 2.79834365e+02,\n",
       "        3.44004892e+02, 3.79537673e+02, 3.57358354e+02, 2.71916773e+02,\n",
       "        2.32349956e+02, 3.52783028e+02, 4.19379447e+02, 3.82649002e+02,\n",
       "        4.31431823e+02, 2.62077064e+02, 2.77136361e+02, 3.63689201e+02,\n",
       "        3.92397939e+02, 3.61494478e+02, 2.75248606e+02, 2.11072722e+02,\n",
       "        3.28231761e+02, 4.22237847e+02, 3.33256974e+02, 3.68361649e+02,\n",
       "        2.65571516e+02, 2.42665242e+02, 3.16662305e+02, 3.49103762e+02,\n",
       "        2.87963117e+02, 2.94513618e+02, 2.39026008e+02, 2.53147029e+02,\n",
       "        2.75277767e+02, 1.94539033e+02, 2.42497425e+02, 1.73927810e+02,\n",
       "        1.89821138e+02, 2.24226663e+02, 2.15345404e+02, 1.42831768e+02,\n",
       "        1.49665508e+02, 1.44453709e+02, 2.25166188e+02, 2.55616802e+02,\n",
       "        2.13885963e+02, 2.39469571e+02, 1.70793625e+02, 9.87165430e+01],\n",
       "       [2.29257049e+01, 1.11739124e+02, 1.79091092e+02, 2.36908485e+02,\n",
       "        2.28897083e+02, 2.47295213e+02, 2.02885531e+02, 1.84177339e+02,\n",
       "        2.35238949e+02, 2.46479054e+02, 2.45913660e+02, 2.53729344e+02,\n",
       "        2.18979299e+02, 2.47730753e+02, 2.93052123e+02, 3.05502336e+02,\n",
       "        2.68777979e+02, 1.94907676e+02, 2.00401212e+02, 2.45591025e+02,\n",
       "        2.95384581e+02, 3.54757840e+02, 2.68589989e+02, 2.52269233e+02,\n",
       "        2.84919005e+02, 3.38018981e+02, 3.93410332e+02, 3.29782450e+02,\n",
       "        2.59156813e+02, 2.85710963e+02, 3.57334965e+02, 4.21163627e+02,\n",
       "        4.04829050e+02, 3.37860694e+02, 3.14595017e+02, 3.63179814e+02,\n",
       "        3.70990432e+02, 4.10963482e+02, 3.51300056e+02, 3.18577663e+02,\n",
       "        3.29324740e+02, 3.60422809e+02, 3.65778113e+02, 3.56570613e+02,\n",
       "        3.39231347e+02, 3.33367317e+02, 3.48348698e+02, 3.39863329e+02,\n",
       "        3.61598406e+02, 3.69752511e+02, 3.32855120e+02, 3.32302947e+02,\n",
       "        3.34933890e+02, 3.29167829e+02, 3.76168208e+02, 3.18383368e+02,\n",
       "        3.13157843e+02, 3.12293106e+02, 3.17701313e+02, 3.86566353e+02,\n",
       "        3.66381787e+02, 3.22876423e+02, 3.18913297e+02, 3.39154329e+02,\n",
       "        4.01585280e+02, 4.66684115e+02, 3.82679232e+02, 1.86684573e+02],\n",
       "       [4.40363553e+01, 9.58668822e+01, 1.36476118e+02, 1.72336375e+02,\n",
       "        2.06163607e+02, 2.31460904e+02, 1.66468763e+02, 1.44089209e+02,\n",
       "        1.78595698e+02, 2.44095836e+02, 2.58965894e+02, 2.57627311e+02,\n",
       "        2.05226820e+02, 2.33024928e+02, 2.66036054e+02, 3.02081715e+02,\n",
       "        3.03866072e+02, 2.00034950e+02, 2.19155466e+02, 2.38386484e+02,\n",
       "        2.90871679e+02, 3.28675946e+02, 2.71933101e+02, 2.73652513e+02,\n",
       "        2.80806318e+02, 2.66626367e+02, 2.99988023e+02, 2.76680682e+02,\n",
       "        2.21852493e+02, 2.34892043e+02, 2.31259826e+02, 2.83705190e+02,\n",
       "        2.92900008e+02, 2.27116798e+02, 2.25348178e+02, 2.33976183e+02,\n",
       "        2.42654926e+02, 2.70516378e+02, 2.56646699e+02, 1.92900589e+02,\n",
       "        2.04855605e+02, 2.27900953e+02, 2.91041160e+02, 2.80625688e+02,\n",
       "        2.47650412e+02, 2.30745185e+02, 2.27916417e+02, 2.37194093e+02,\n",
       "        2.56530054e+02, 2.81898993e+02, 2.27187862e+02, 2.18337093e+02,\n",
       "        1.88868151e+02, 2.27276651e+02, 2.75622262e+02, 2.12578848e+02,\n",
       "        2.16506455e+02, 1.97553440e+02, 1.89896253e+02, 2.46849957e+02,\n",
       "        2.31002936e+02, 1.77196850e+02, 1.93981013e+02, 1.82689870e+02,\n",
       "        2.20309484e+02, 2.36401688e+02, 2.08425249e+02, 1.09006636e+02],\n",
       "       [3.43814679e+01, 7.94164007e+01, 4.95843779e+01, 6.35930576e+01,\n",
       "        7.74752108e+01, 6.13453325e+01, 5.73679317e+01, 1.09435422e+02,\n",
       "        9.11422135e+01, 4.57596639e+01, 2.73100097e+01, 1.26853095e+02,\n",
       "        2.16774974e+02, 2.21407995e+02, 8.68075654e+01, 3.88860377e+01,\n",
       "        1.09593456e+02, 2.26360141e+02, 2.51715517e+02, 1.89025930e+02,\n",
       "        5.39421959e+01, 8.01078041e+01, 2.27513924e+02, 3.36652476e+02,\n",
       "        3.09660170e+02, 1.07887960e+02, 9.47926183e+01, 1.77036623e+02,\n",
       "        2.87309455e+02, 2.49118808e+02, 1.48750978e+02, 9.34359519e+01,\n",
       "        1.48077579e+02, 1.98629390e+02, 3.05983460e+02, 3.01889676e+02,\n",
       "        1.32734406e+02, 1.59813404e+02, 2.12183870e+02, 2.96364810e+02,\n",
       "        3.24441144e+02, 2.46714806e+02, 1.52310258e+02, 1.96066747e+02,\n",
       "        2.65992303e+02, 3.84880094e+02, 3.64543205e+02, 1.93633281e+02,\n",
       "        1.46819788e+02, 2.45663367e+02, 2.92573297e+02, 3.65969551e+02,\n",
       "        2.60038563e+02, 1.86457462e+02, 2.36847865e+02, 2.67254137e+02,\n",
       "        3.84029656e+02, 3.30524499e+02, 2.32676882e+02, 2.68124608e+02,\n",
       "        2.70807524e+02, 2.90213754e+02, 3.37655846e+02, 2.14699030e+02,\n",
       "        1.86104779e+02, 2.33641211e+02, 2.30469573e+02, 1.49432520e+02],\n",
       "       [1.77245976e+01, 7.19427748e+01, 1.02557015e+02, 1.03571555e+02,\n",
       "        8.26204585e+01, 1.06977850e+02, 1.14722018e+02, 1.16102078e+02,\n",
       "        1.39547319e+02, 1.03665054e+02, 1.18650353e+02, 1.71491803e+02,\n",
       "        1.60225842e+02, 1.89221043e+02, 1.61659636e+02, 1.23820942e+02,\n",
       "        1.61455494e+02, 1.65164512e+02, 1.73108029e+02, 1.87747630e+02,\n",
       "        1.15982125e+02, 1.48488715e+02, 1.85514038e+02, 1.79154326e+02,\n",
       "        2.00902943e+02, 1.50930510e+02, 1.23118887e+02, 1.76290672e+02,\n",
       "        1.49093736e+02, 1.71546649e+02, 1.63303076e+02, 1.07142148e+02,\n",
       "        1.36899610e+02, 1.56178155e+02, 1.68291322e+02, 1.88442603e+02,\n",
       "        1.32532932e+02, 1.19159646e+02, 1.45406089e+02, 1.58973877e+02,\n",
       "        1.66084159e+02, 1.67161052e+02, 9.75270114e+01, 1.03724493e+02,\n",
       "        1.56858912e+02, 1.73442815e+02, 1.81004615e+02, 1.34609464e+02,\n",
       "        8.78033783e+01, 1.25870432e+02, 1.65496054e+02, 1.75377052e+02,\n",
       "        1.57790838e+02, 9.72425835e+01, 1.26237762e+02, 1.65783407e+02,\n",
       "        1.78000473e+02, 1.63856879e+02, 1.43245657e+02, 1.38427834e+02,\n",
       "        1.49423869e+02, 1.54939353e+02, 1.57180923e+02, 1.55415461e+02,\n",
       "        1.07404046e+02, 1.20416833e+02, 1.51885512e+02, 8.40696467e+01],\n",
       "       [1.49450486e+01, 5.24660637e+01, 1.00675950e+02, 5.17904727e+01,\n",
       "        1.94441860e+01, 2.42924170e+01, 7.75857193e+01, 1.03484622e+02,\n",
       "        1.05101623e+02, 2.65209481e+01, 2.77774559e+01, 1.29257671e+02,\n",
       "        1.48402229e+02, 1.41806403e+02, 6.54516264e+01, 3.91856388e+01,\n",
       "        4.04651849e+01, 1.04793336e+02, 1.19712611e+02, 1.15300045e+02,\n",
       "        2.96074121e+01, 3.72750106e+01, 1.22813887e+02, 1.48436932e+02,\n",
       "        1.47391468e+02, 4.74118904e+01, 3.76515483e+01, 1.01618115e+02,\n",
       "        1.22621390e+02, 1.20714699e+02, 6.71590189e+01, 4.19683056e+01,\n",
       "        4.50950241e+01, 1.17080484e+02, 1.44542097e+02, 1.25869233e+02,\n",
       "        5.33405266e+01, 3.67933203e+01, 1.11120465e+02, 1.66879481e+02,\n",
       "        1.69101558e+02, 1.26032886e+02, 3.08244944e+01, 3.85238500e+01,\n",
       "        1.53520420e+02, 1.85842073e+02, 1.66179279e+02, 9.51872457e+01,\n",
       "        2.62382019e+01, 6.82956072e+01, 1.51804062e+02, 1.58178093e+02,\n",
       "        9.45512806e+01, 3.36105933e+01, 4.51756331e+01, 1.36186126e+02,\n",
       "        1.59565340e+02, 1.19534676e+02, 7.34504587e+01, 5.22376659e+01,\n",
       "        8.41983476e+01, 1.27764347e+02, 1.19725936e+02, 6.80375375e+01,\n",
       "        3.62203244e+01, 3.71213477e+01, 1.02048661e+02, 6.54478951e+01],\n",
       "       [1.23802517e+01, 5.51299576e+01, 9.65904908e+01, 8.60977895e+01,\n",
       "        3.43703306e+01, 7.28864072e+01, 1.12832202e+02, 1.12495214e+02,\n",
       "        1.40590817e+02, 5.54030676e+01, 6.82628507e+01, 1.91876183e+02,\n",
       "        1.54239782e+02, 1.62645444e+02, 1.32124969e+02, 3.98967425e+01,\n",
       "        1.18692738e+02, 1.30682881e+02, 1.33273374e+02, 1.60617797e+02,\n",
       "        5.90695214e+01, 9.61463026e+01, 1.65146578e+02, 1.43732901e+02,\n",
       "        1.61998498e+02, 1.05181992e+02, 5.90973172e+01, 1.70942169e+02,\n",
       "        1.42713964e+02, 1.56477861e+02, 1.48188293e+02, 4.04443568e+01,\n",
       "        1.19075998e+02, 2.04388084e+02, 2.00232484e+02, 2.12839426e+02,\n",
       "        1.57727732e+02, 1.08373616e+02, 2.10423409e+02, 2.17271181e+02,\n",
       "        2.05953227e+02, 2.07633780e+02, 8.92313261e+01, 1.08504779e+02,\n",
       "        2.08378036e+02, 1.91453404e+02, 2.01091826e+02, 1.71650710e+02,\n",
       "        5.12718335e+01, 1.71720805e+02, 2.26962219e+02, 2.07053553e+02,\n",
       "        1.98617449e+02, 8.53774437e+01, 1.52955835e+02, 2.37941654e+02,\n",
       "        2.05955148e+02, 1.87465560e+02, 1.79628161e+02, 1.54035621e+02,\n",
       "        2.14101888e+02, 1.92365517e+02, 1.71623368e+02, 1.93779036e+02,\n",
       "        1.23498705e+02, 1.58159663e+02, 2.39804869e+02, 1.10005264e+02],\n",
       "       [6.24856346e+00, 1.88897747e+01, 3.41060917e+01, 3.45406407e+01,\n",
       "        1.31903998e+01, 3.24541499e+01, 3.64684108e+01, 3.27777081e+01,\n",
       "        4.35276729e+01, 1.86893563e+01, 2.09528142e+01, 5.05233350e+01,\n",
       "        3.12954536e+01, 3.26995819e+01, 2.94317373e+01, 9.37319498e+00,\n",
       "        3.65510449e+01, 3.46467773e+01, 3.22397756e+01, 4.10770352e+01,\n",
       "        1.88323128e+01, 2.97954221e+01, 4.67802737e+01, 3.96492015e+01,\n",
       "        4.66843664e+01, 3.40111439e+01, 1.60162327e+01, 5.12361381e+01,\n",
       "        4.42734257e+01, 4.35317729e+01, 3.97429312e+01, 9.07998103e+00,\n",
       "        2.74960493e+01, 3.76176857e+01, 3.23657272e+01, 3.01727064e+01,\n",
       "        2.08217435e+01, 1.62891650e+01, 3.07446999e+01, 2.85992648e+01,\n",
       "        3.03936009e+01, 3.02917565e+01, 1.23005194e+01, 1.58784036e+01,\n",
       "        3.76957966e+01, 3.86226624e+01, 3.43012623e+01, 2.08319347e+01,\n",
       "        5.19288581e+00, 2.10453579e+01, 2.64653593e+01, 2.85543734e+01,\n",
       "        2.10101859e+01, 1.04265945e+01, 1.54633312e+01, 2.55930901e+01,\n",
       "        2.65079028e+01, 2.56298969e+01, 1.77977356e+01, 1.31787950e+01,\n",
       "        1.95021093e+01, 2.15758236e+01, 2.76954407e+01, 2.36560394e+01,\n",
       "        8.88852393e+00, 1.28425050e+01, 2.26807039e+01, 1.13578882e+01],\n",
       "       [2.02000029e+00, 9.21706663e+00, 2.08149883e+01, 1.80486048e+01,\n",
       "        2.67268863e+00, 1.35564283e+01, 2.37125571e+01, 2.00005059e+01,\n",
       "        3.26061805e+01, 1.16334195e+01, 1.34890995e+01, 5.21384523e+01,\n",
       "        2.63628898e+01, 3.17923745e+01, 3.60933946e+01, 4.71028214e+00,\n",
       "        3.43305012e+01, 1.55822074e+01, 1.40697904e+01, 2.66594026e+01,\n",
       "        1.19158235e+01, 1.14309767e+01, 2.12403656e+01, 2.24038965e+01,\n",
       "        3.06398572e+01, 1.81384029e+01, 8.81803237e+00, 2.91169967e+01,\n",
       "        1.63615436e+01, 2.06876980e+01, 2.68307639e+01, 6.36716406e+00,\n",
       "        2.32024127e+01, 2.65650513e+01, 1.47116048e+01, 2.78425085e+01,\n",
       "        2.30794336e+01, 1.26194312e+01, 2.75777534e+01, 1.95457347e+01,\n",
       "        1.91585387e+01, 2.92541220e+01, 9.51151220e+00, 1.24533793e+01,\n",
       "        1.72662804e+01, 6.68703697e+00, 1.29528889e+01, 1.31286073e+01,\n",
       "        5.25234402e+00, 1.43834515e+01, 1.31226918e+01, 1.37602487e+01,\n",
       "        1.79947943e+01, 1.34106879e+01, 1.41742157e+01, 1.63451022e+01,\n",
       "        1.70070687e+01, 2.75158797e+01, 2.66601447e+01, 2.74893490e+01,\n",
       "        2.54250533e+01, 2.71667204e+01, 3.02792121e+01, 3.36876324e+01,\n",
       "        1.28846127e+01, 1.79540433e+01, 3.02691990e+01, 1.89814035e+01],\n",
       "       [2.34009582e+00, 7.76683995e+00, 6.98736402e+00, 2.79710200e+00,\n",
       "        1.25363676e+00, 2.19905773e+00, 7.38578528e+00, 7.61061736e+00,\n",
       "        8.62439082e+00, 1.91664325e+00, 3.51324001e+00, 1.31649223e+01,\n",
       "        1.11573264e+01, 1.20457165e+01, 6.76783804e+00, 2.06427460e+00,\n",
       "        9.00475553e+00, 1.18187238e+01, 8.72006973e+00, 7.29868891e+00,\n",
       "        1.84383863e+00, 3.83467332e+00, 1.54934332e+01, 1.33284454e+01,\n",
       "        1.60393946e+01, 7.00211483e+00, 2.94484916e+00, 1.81747435e+01,\n",
       "        1.45242937e+01, 1.31819333e+01, 7.96171402e+00, 1.20551545e+00,\n",
       "        2.83509163e+00, 8.75222546e+00, 5.07718502e+00, 6.65855856e+00,\n",
       "        3.81851901e+00, 1.41237166e+00, 3.06613710e+00, 4.83478557e+00,\n",
       "        7.33093074e+00, 9.10583645e+00, 1.56941163e+00, 2.21675159e+00,\n",
       "        9.60192046e+00, 9.44034526e+00, 1.28058698e+01, 7.07030129e+00,\n",
       "        1.73563312e+00, 7.24190746e+00, 1.31250248e+01, 1.15290836e+01,\n",
       "        1.28201286e+01, 3.83089944e+00, 4.51533553e+00, 1.23274289e+01,\n",
       "        6.41107911e+00, 1.15255319e+01, 1.01344461e+01, 6.37333504e+00,\n",
       "        9.36220550e+00, 9.50264860e+00, 1.21684423e+01, 1.46184725e+01,\n",
       "        4.38567082e+00, 3.37257609e+00, 1.27848575e+01, 6.12419176e+00],\n",
       "       [1.41946666e-01, 6.98750492e-01, 7.74614938e-01, 1.89272035e-01,\n",
       "        9.52753037e-02, 2.15644077e-01, 7.58353186e-01, 1.02857723e+00,\n",
       "        8.08254821e-01, 1.48103429e-01, 1.56534253e-01, 1.21998697e+00,\n",
       "        1.25927934e+00, 1.09461352e+00, 2.70892838e-01, 1.63570514e-01,\n",
       "        3.99704001e-01, 8.61009620e-01, 8.32495596e-01, 4.99395682e-01,\n",
       "        1.05591786e-01, 1.74266451e-01, 7.83137040e-01, 9.22603039e-01,\n",
       "        7.27985818e-01, 1.58135954e-01, 1.49228710e-01, 8.28754796e-01,\n",
       "        1.05789000e+00, 9.03638723e-01, 2.35812102e-01, 9.75226304e-02,\n",
       "        2.00218435e-01, 8.54238448e-01, 1.01344379e+00, 9.85752318e-01,\n",
       "        2.31858789e-01, 1.20088806e-01, 5.30478507e-01, 9.54128584e-01,\n",
       "        9.63699245e-01, 5.35403588e-01, 1.37234000e-01, 1.79081041e-01,\n",
       "        8.31737508e-01, 1.01647774e+00, 9.87541751e-01, 2.14292059e-01,\n",
       "        1.16186838e-01, 2.59903827e-01, 6.41150344e-01, 7.40416180e-01,\n",
       "        3.70298084e-01, 1.98205904e-01, 1.52449066e-01, 5.83576116e-01,\n",
       "        8.11012698e-01, 6.57021232e-01, 2.56172871e-01, 3.41816879e-01,\n",
       "        3.30574457e-01, 6.01561211e-01, 7.15678788e-01, 3.20600947e-01,\n",
       "        1.87553144e-01, 1.49523401e-01, 5.25284366e-01, 4.31586200e-01],\n",
       "       [1.74736312e-02, 7.26568815e-02, 6.97766867e-02, 1.73918184e-02,\n",
       "        6.29415327e-03, 1.02299780e-02, 3.39273335e-02, 3.55832577e-02,\n",
       "        2.79544844e-02, 7.25517335e-03, 1.06909871e-02, 9.85575978e-02,\n",
       "        6.72708793e-02, 7.64620180e-02, 2.58709673e-02, 1.12156147e-02,\n",
       "        3.92831417e-02, 5.45841265e-02, 3.63110734e-02, 1.59423400e-02,\n",
       "        8.43392304e-03, 7.97622888e-03, 2.69462533e-02, 4.39110206e-02,\n",
       "        3.94193233e-02, 7.93072631e-03, 7.27318018e-03, 1.72496463e-02,\n",
       "        1.47001956e-02, 1.62320623e-02, 6.92781532e-03, 3.92111708e-03,\n",
       "        1.08392915e-02, 5.41053794e-02, 4.84460629e-02, 4.76602348e-02,\n",
       "        9.91397434e-03, 6.38977792e-03, 2.77243520e-02, 4.93073259e-02,\n",
       "        3.66001158e-02, 2.10278499e-02, 7.11869144e-03, 9.30780860e-03,\n",
       "        4.71989242e-02, 5.80852020e-02, 6.89375761e-02, 1.94872082e-02,\n",
       "        9.58825896e-03, 2.53650167e-02, 7.92019225e-02, 8.19029755e-02,\n",
       "        5.21529577e-02, 2.62175424e-02, 2.10167561e-02, 7.97412443e-02,\n",
       "        6.69455386e-02, 5.64768410e-02, 3.48241766e-02, 5.01848548e-02,\n",
       "        3.49492950e-02, 3.86311285e-02, 2.97012988e-02, 2.01669668e-02,\n",
       "        6.98128014e-03, 7.00715172e-03, 2.17108933e-02, 4.43896279e-02],\n",
       "       [0.00000000e+00, 0.00000000e+00, 0.00000000e+00, 0.00000000e+00,\n",
       "        0.00000000e+00, 0.00000000e+00, 0.00000000e+00, 0.00000000e+00,\n",
       "        0.00000000e+00, 0.00000000e+00, 0.00000000e+00, 0.00000000e+00,\n",
       "        0.00000000e+00, 0.00000000e+00, 0.00000000e+00, 0.00000000e+00,\n",
       "        0.00000000e+00, 0.00000000e+00, 0.00000000e+00, 0.00000000e+00,\n",
       "        0.00000000e+00, 0.00000000e+00, 0.00000000e+00, 0.00000000e+00,\n",
       "        0.00000000e+00, 0.00000000e+00, 0.00000000e+00, 0.00000000e+00,\n",
       "        0.00000000e+00, 0.00000000e+00, 0.00000000e+00, 0.00000000e+00,\n",
       "        0.00000000e+00, 0.00000000e+00, 0.00000000e+00, 0.00000000e+00,\n",
       "        0.00000000e+00, 0.00000000e+00, 0.00000000e+00, 0.00000000e+00,\n",
       "        0.00000000e+00, 0.00000000e+00, 0.00000000e+00, 0.00000000e+00,\n",
       "        0.00000000e+00, 0.00000000e+00, 0.00000000e+00, 0.00000000e+00,\n",
       "        0.00000000e+00, 0.00000000e+00, 0.00000000e+00, 0.00000000e+00,\n",
       "        0.00000000e+00, 0.00000000e+00, 0.00000000e+00, 0.00000000e+00,\n",
       "        0.00000000e+00, 0.00000000e+00, 0.00000000e+00, 0.00000000e+00,\n",
       "        0.00000000e+00, 0.00000000e+00, 0.00000000e+00, 0.00000000e+00,\n",
       "        0.00000000e+00, 0.00000000e+00, 0.00000000e+00, 0.00000000e+00],\n",
       "       [0.00000000e+00, 0.00000000e+00, 0.00000000e+00, 0.00000000e+00,\n",
       "        0.00000000e+00, 0.00000000e+00, 0.00000000e+00, 0.00000000e+00,\n",
       "        0.00000000e+00, 0.00000000e+00, 0.00000000e+00, 0.00000000e+00,\n",
       "        0.00000000e+00, 0.00000000e+00, 0.00000000e+00, 0.00000000e+00,\n",
       "        0.00000000e+00, 0.00000000e+00, 0.00000000e+00, 0.00000000e+00,\n",
       "        0.00000000e+00, 0.00000000e+00, 0.00000000e+00, 0.00000000e+00,\n",
       "        0.00000000e+00, 0.00000000e+00, 0.00000000e+00, 0.00000000e+00,\n",
       "        0.00000000e+00, 0.00000000e+00, 0.00000000e+00, 0.00000000e+00,\n",
       "        0.00000000e+00, 0.00000000e+00, 0.00000000e+00, 0.00000000e+00,\n",
       "        0.00000000e+00, 0.00000000e+00, 0.00000000e+00, 0.00000000e+00,\n",
       "        0.00000000e+00, 0.00000000e+00, 0.00000000e+00, 0.00000000e+00,\n",
       "        0.00000000e+00, 0.00000000e+00, 0.00000000e+00, 0.00000000e+00,\n",
       "        0.00000000e+00, 0.00000000e+00, 0.00000000e+00, 0.00000000e+00,\n",
       "        0.00000000e+00, 0.00000000e+00, 0.00000000e+00, 0.00000000e+00,\n",
       "        0.00000000e+00, 0.00000000e+00, 0.00000000e+00, 0.00000000e+00,\n",
       "        0.00000000e+00, 0.00000000e+00, 0.00000000e+00, 0.00000000e+00,\n",
       "        0.00000000e+00, 0.00000000e+00, 0.00000000e+00, 0.00000000e+00],\n",
       "       [0.00000000e+00, 0.00000000e+00, 0.00000000e+00, 0.00000000e+00,\n",
       "        0.00000000e+00, 0.00000000e+00, 0.00000000e+00, 0.00000000e+00,\n",
       "        0.00000000e+00, 0.00000000e+00, 0.00000000e+00, 0.00000000e+00,\n",
       "        0.00000000e+00, 0.00000000e+00, 0.00000000e+00, 0.00000000e+00,\n",
       "        0.00000000e+00, 0.00000000e+00, 0.00000000e+00, 0.00000000e+00,\n",
       "        0.00000000e+00, 0.00000000e+00, 0.00000000e+00, 0.00000000e+00,\n",
       "        0.00000000e+00, 0.00000000e+00, 0.00000000e+00, 0.00000000e+00,\n",
       "        0.00000000e+00, 0.00000000e+00, 0.00000000e+00, 0.00000000e+00,\n",
       "        0.00000000e+00, 0.00000000e+00, 0.00000000e+00, 0.00000000e+00,\n",
       "        0.00000000e+00, 0.00000000e+00, 0.00000000e+00, 0.00000000e+00,\n",
       "        0.00000000e+00, 0.00000000e+00, 0.00000000e+00, 0.00000000e+00,\n",
       "        0.00000000e+00, 0.00000000e+00, 0.00000000e+00, 0.00000000e+00,\n",
       "        0.00000000e+00, 0.00000000e+00, 0.00000000e+00, 0.00000000e+00,\n",
       "        0.00000000e+00, 0.00000000e+00, 0.00000000e+00, 0.00000000e+00,\n",
       "        0.00000000e+00, 0.00000000e+00, 0.00000000e+00, 0.00000000e+00,\n",
       "        0.00000000e+00, 0.00000000e+00, 0.00000000e+00, 0.00000000e+00,\n",
       "        0.00000000e+00, 0.00000000e+00, 0.00000000e+00, 0.00000000e+00],\n",
       "       [0.00000000e+00, 0.00000000e+00, 0.00000000e+00, 0.00000000e+00,\n",
       "        0.00000000e+00, 0.00000000e+00, 0.00000000e+00, 0.00000000e+00,\n",
       "        0.00000000e+00, 0.00000000e+00, 0.00000000e+00, 0.00000000e+00,\n",
       "        0.00000000e+00, 0.00000000e+00, 0.00000000e+00, 0.00000000e+00,\n",
       "        0.00000000e+00, 0.00000000e+00, 0.00000000e+00, 0.00000000e+00,\n",
       "        0.00000000e+00, 0.00000000e+00, 0.00000000e+00, 0.00000000e+00,\n",
       "        0.00000000e+00, 0.00000000e+00, 0.00000000e+00, 0.00000000e+00,\n",
       "        0.00000000e+00, 0.00000000e+00, 0.00000000e+00, 0.00000000e+00,\n",
       "        0.00000000e+00, 0.00000000e+00, 0.00000000e+00, 0.00000000e+00,\n",
       "        0.00000000e+00, 0.00000000e+00, 0.00000000e+00, 0.00000000e+00,\n",
       "        0.00000000e+00, 0.00000000e+00, 0.00000000e+00, 0.00000000e+00,\n",
       "        0.00000000e+00, 0.00000000e+00, 0.00000000e+00, 0.00000000e+00,\n",
       "        0.00000000e+00, 0.00000000e+00, 0.00000000e+00, 0.00000000e+00,\n",
       "        0.00000000e+00, 0.00000000e+00, 0.00000000e+00, 0.00000000e+00,\n",
       "        0.00000000e+00, 0.00000000e+00, 0.00000000e+00, 0.00000000e+00,\n",
       "        0.00000000e+00, 0.00000000e+00, 0.00000000e+00, 0.00000000e+00,\n",
       "        0.00000000e+00, 0.00000000e+00, 0.00000000e+00, 0.00000000e+00],\n",
       "       [0.00000000e+00, 0.00000000e+00, 0.00000000e+00, 0.00000000e+00,\n",
       "        0.00000000e+00, 0.00000000e+00, 0.00000000e+00, 0.00000000e+00,\n",
       "        0.00000000e+00, 0.00000000e+00, 0.00000000e+00, 0.00000000e+00,\n",
       "        0.00000000e+00, 0.00000000e+00, 0.00000000e+00, 0.00000000e+00,\n",
       "        0.00000000e+00, 0.00000000e+00, 0.00000000e+00, 0.00000000e+00,\n",
       "        0.00000000e+00, 0.00000000e+00, 0.00000000e+00, 0.00000000e+00,\n",
       "        0.00000000e+00, 0.00000000e+00, 0.00000000e+00, 0.00000000e+00,\n",
       "        0.00000000e+00, 0.00000000e+00, 0.00000000e+00, 0.00000000e+00,\n",
       "        0.00000000e+00, 0.00000000e+00, 0.00000000e+00, 0.00000000e+00,\n",
       "        0.00000000e+00, 0.00000000e+00, 0.00000000e+00, 0.00000000e+00,\n",
       "        0.00000000e+00, 0.00000000e+00, 0.00000000e+00, 0.00000000e+00,\n",
       "        0.00000000e+00, 0.00000000e+00, 0.00000000e+00, 0.00000000e+00,\n",
       "        0.00000000e+00, 0.00000000e+00, 0.00000000e+00, 0.00000000e+00,\n",
       "        0.00000000e+00, 0.00000000e+00, 0.00000000e+00, 0.00000000e+00,\n",
       "        0.00000000e+00, 0.00000000e+00, 0.00000000e+00, 0.00000000e+00,\n",
       "        0.00000000e+00, 0.00000000e+00, 0.00000000e+00, 0.00000000e+00,\n",
       "        0.00000000e+00, 0.00000000e+00, 0.00000000e+00, 0.00000000e+00],\n",
       "       [0.00000000e+00, 0.00000000e+00, 0.00000000e+00, 0.00000000e+00,\n",
       "        0.00000000e+00, 0.00000000e+00, 0.00000000e+00, 0.00000000e+00,\n",
       "        0.00000000e+00, 0.00000000e+00, 0.00000000e+00, 0.00000000e+00,\n",
       "        0.00000000e+00, 0.00000000e+00, 0.00000000e+00, 0.00000000e+00,\n",
       "        0.00000000e+00, 0.00000000e+00, 0.00000000e+00, 0.00000000e+00,\n",
       "        0.00000000e+00, 0.00000000e+00, 0.00000000e+00, 0.00000000e+00,\n",
       "        0.00000000e+00, 0.00000000e+00, 0.00000000e+00, 0.00000000e+00,\n",
       "        0.00000000e+00, 0.00000000e+00, 0.00000000e+00, 0.00000000e+00,\n",
       "        0.00000000e+00, 0.00000000e+00, 0.00000000e+00, 0.00000000e+00,\n",
       "        0.00000000e+00, 0.00000000e+00, 0.00000000e+00, 0.00000000e+00,\n",
       "        0.00000000e+00, 0.00000000e+00, 0.00000000e+00, 0.00000000e+00,\n",
       "        0.00000000e+00, 0.00000000e+00, 0.00000000e+00, 0.00000000e+00,\n",
       "        0.00000000e+00, 0.00000000e+00, 0.00000000e+00, 0.00000000e+00,\n",
       "        0.00000000e+00, 0.00000000e+00, 0.00000000e+00, 0.00000000e+00,\n",
       "        0.00000000e+00, 0.00000000e+00, 0.00000000e+00, 0.00000000e+00,\n",
       "        0.00000000e+00, 0.00000000e+00, 0.00000000e+00, 0.00000000e+00,\n",
       "        0.00000000e+00, 0.00000000e+00, 0.00000000e+00, 0.00000000e+00]])"
      ]
     },
     "execution_count": 835,
     "metadata": {},
     "output_type": "execute_result"
    }
   ],
   "source": [
    "test_embed"
   ]
  },
  {
   "cell_type": "code",
   "execution_count": 770,
   "id": "78f17fcd",
   "metadata": {
    "ExecuteTime": {
     "end_time": "2023-04-27T15:16:24.315462Z",
     "start_time": "2023-04-27T15:16:24.309843Z"
    }
   },
   "outputs": [
    {
     "data": {
      "text/plain": [
       "1659"
      ]
     },
     "execution_count": 770,
     "metadata": {},
     "output_type": "execute_result"
    }
   ],
   "source": [
    "file_descs.index('Acc-ord-A4-ff-N-N')"
   ]
  },
  {
   "cell_type": "code",
   "execution_count": 771,
   "id": "f54eb7ce",
   "metadata": {
    "ExecuteTime": {
     "end_time": "2023-04-27T15:16:27.164087Z",
     "start_time": "2023-04-27T15:16:27.089173Z"
    }
   },
   "outputs": [
    {
     "data": {
      "text/plain": [
       "array([[ 395.31571744,  679.74516555,  505.37441529,  498.19140344,\n",
       "         595.97157432,  631.84914867,  649.85214808,  650.0633892 ,\n",
       "         656.04229135,  661.50435361,  690.57674277,  719.05129384,\n",
       "         750.06667721,  771.74925027,  777.93562823,  769.74337674,\n",
       "         786.31008353,  801.58882952,  798.4147532 ,  815.9620162 ,\n",
       "         837.2938626 ,  845.24559523,  842.38521096,  837.41517825,\n",
       "         842.64021667,  869.98985834,  880.69739345,  896.29033213,\n",
       "         901.16516026,  913.03297338,  924.58516723,  910.53435888,\n",
       "         927.09518213,  941.41044394,  935.75283627,  923.56633823,\n",
       "         910.34853757,  919.64899166,  914.67819693,  922.2887039 ,\n",
       "         898.43141576,  882.89909733,  887.66042941,  898.15187496,\n",
       "         907.28189483,  890.11204349,  861.77978984,  848.59133408,\n",
       "         860.49651509,  876.84084072,  869.30858394,  845.88965937,\n",
       "         820.51835236,  824.64136924,  847.96782552,  870.45293608,\n",
       "         865.43448305,  865.82146061,  875.72328227,  894.61772246,\n",
       "         888.6127825 ,  860.51391615,  893.4959595 ,  925.11179417,\n",
       "         960.07462538, 1015.91674044, 1125.77615458,  626.08191491],\n",
       "       [ 608.921545  , 1828.82830941, 2164.54010409, 2429.3755284 ,\n",
       "        2544.10819122, 2598.54129717, 2656.00925687, 2717.60906758,\n",
       "        2717.12676944, 2730.55123416, 2708.51911447, 2750.6502082 ,\n",
       "        2793.90412541, 2829.23530896, 2882.06192829, 2829.12404183,\n",
       "        2774.22743848, 2805.68432693, 2861.14883176, 2928.50775875,\n",
       "        2900.66539634, 2846.61843676, 2821.71295337, 2817.34821423,\n",
       "        2863.90768008, 2888.26921268, 2886.26343242, 2851.06902337,\n",
       "        2847.1458247 , 2897.14318064, 2949.50469979, 2956.41678158,\n",
       "        2921.01179649, 2879.79599157, 2879.96073044, 2909.01328177,\n",
       "        2931.25059601, 2948.09354474, 2920.31913279, 2896.88879766,\n",
       "        2883.86700301, 2901.11057816, 2931.47259289, 2943.23384727,\n",
       "        2940.86486447, 2893.69487809, 2886.48809994, 2913.92839196,\n",
       "        2945.91026732, 2956.90473086, 2942.46636058, 2934.8822408 ,\n",
       "        2913.28834461, 2926.03994737, 2960.50194706, 2954.32630778,\n",
       "        2964.37902184, 2965.17087975, 2925.63193347, 2953.33088969,\n",
       "        2965.68748239, 2947.72840292, 2950.21562406, 2926.98574591,\n",
       "        2923.15356176, 2933.18242575, 3126.21652239, 1587.80041711],\n",
       "       [ 195.08144156,  340.89094928,  376.61744894,  395.1896013 ,\n",
       "         383.22176519,  380.46638562,  376.97875898,  400.33650575,\n",
       "         389.78421331,  407.6581802 ,  419.59989693,  429.36123098,\n",
       "         425.84737364,  409.77933133,  414.18989828,  414.17828659,\n",
       "         431.26721528,  450.78903294,  463.875029  ,  458.34179344,\n",
       "         432.42011787,  427.37257305,  425.97669208,  440.65440272,\n",
       "         434.04161104,  406.91087357,  407.16626011,  422.15192636,\n",
       "         445.98683089,  465.72358979,  455.32626172,  444.61089502,\n",
       "         457.91622334,  463.04214996,  471.36253754,  464.17498171,\n",
       "         470.75997297,  489.73335873,  490.57991039,  485.86779997,\n",
       "         482.47607204,  504.17917522,  520.01635688,  521.13643429,\n",
       "         516.10502657,  517.80046263,  534.08284514,  551.70625663,\n",
       "         562.47909324,  548.22177416,  529.29706569,  528.2434031 ,\n",
       "         538.18656473,  551.47825827,  559.11061885,  555.55245249,\n",
       "         565.72050151,  565.01331254,  559.32700708,  560.82093468,\n",
       "         556.59734164,  548.79067024,  553.90082174,  553.58549608,\n",
       "         552.05807909,  545.96254386,  599.77938345,  308.43556951],\n",
       "       [ 113.24537937,  178.5965696 ,  213.98394207,  246.75975597,\n",
       "         244.13305679,  250.18249746,  259.38126253,  258.0687636 ,\n",
       "         267.89163366,  270.24421688,  277.1917387 ,  294.89007923,\n",
       "         300.2822023 ,  295.75185332,  306.23572873,  307.60314248,\n",
       "         312.69187709,  310.66277853,  310.59099174,  322.59407971,\n",
       "         321.77627134,  328.37013345,  315.94219964,  307.24181931,\n",
       "         309.96303986,  320.15028594,  340.31362119,  338.66824875,\n",
       "         333.52645814,  350.65843069,  359.82044213,  367.44070551,\n",
       "         382.52113492,  374.3404666 ,  368.96942129,  382.44891643,\n",
       "         396.15604244,  409.07233617,  397.64659799,  378.76766251,\n",
       "         370.09811615,  390.63853944,  405.78652064,  412.77912482,\n",
       "         393.41731864,  377.49235765,  387.99809723,  411.035024  ,\n",
       "         416.70931285,  405.00631959,  385.44329743,  370.51641549,\n",
       "         380.99442375,  381.34519552,  384.77198092,  377.31613073,\n",
       "         374.97615081,  381.4920645 ,  386.77531068,  396.31351186,\n",
       "         395.53434809,  385.20456336,  390.6040836 ,  397.25743423,\n",
       "         409.33993281,  412.91798701,  444.03605767,  239.50258213],\n",
       "       [  87.03975567,  319.87963244,  469.39040432,  589.99555622,\n",
       "         634.07023645,  639.96873187,  665.28802422,  686.45254997,\n",
       "         706.20230778,  714.40265339,  716.24678447,  731.79284607,\n",
       "         756.02141429,  771.82557962,  774.11491706,  770.00432144,\n",
       "         784.80165153,  799.89219746,  805.92046642,  797.21816379,\n",
       "         792.61520661,  795.47785579,  798.84136641,  804.74202582,\n",
       "         790.19375153,  790.8476595 ,  802.1726963 ,  808.68162062,\n",
       "         817.086403  ,  812.54927898,  806.06427642,  814.23991324,\n",
       "         814.06583892,  815.53904071,  796.87969376,  785.30645038,\n",
       "         794.3610724 ,  792.91656154,  792.67405325,  774.8609987 ,\n",
       "         763.29942624,  776.52334612,  793.45064217,  798.76604307,\n",
       "         795.0485306 ,  786.20085364,  785.7769122 ,  794.33930324,\n",
       "         797.98463809,  790.06789122,  775.39472373,  773.10472181,\n",
       "         773.18218879,  776.56438972,  773.47658913,  770.24387855,\n",
       "         772.42034629,  770.39884771,  774.26912079,  786.1013197 ,\n",
       "         781.2061598 ,  768.95430302,  766.06552213,  768.6238099 ,\n",
       "         773.0930612 ,  781.94777472,  833.28643665,  458.64983125],\n",
       "       [  33.36119359,   42.17792838,   45.16827745,   55.75322122,\n",
       "          81.39445233,   72.81226545,   78.19900785,   76.01784181,\n",
       "          77.16211644,   77.99417847,   73.4344259 ,   77.92723657,\n",
       "          85.54928808,   83.53843263,   86.83188621,   95.59724878,\n",
       "         103.61125198,  111.1297168 ,  107.69593638,  103.33492081,\n",
       "         107.03880625,  110.12141957,  115.86415083,  113.84133823,\n",
       "         103.24829575,  105.28332342,  114.65812796,  117.4043801 ,\n",
       "         114.22561077,  118.34450824,  118.68148046,  126.48075962,\n",
       "         136.63708917,  140.36142929,  136.01300649,  132.91295282,\n",
       "         139.02577407,  149.18306243,  148.93837818,  145.28526989,\n",
       "         140.96379869,  144.50136827,  153.68401829,  159.18692227,\n",
       "         157.11794768,  153.99157201,  150.61978589,  153.20537034,\n",
       "         164.71241534,  165.96415334,  160.2967103 ,  155.91981497,\n",
       "         149.29361459,  158.11338516,  169.08315914,  173.26786838,\n",
       "         173.59444557,  173.31420214,  175.38124802,  180.9719891 ,\n",
       "         184.17823552,  178.96872371,  169.95508313,  170.5850304 ,\n",
       "         175.44588288,  180.15981671,  200.31316467,  135.30525934],\n",
       "       [  18.38092272,   12.23043965,   34.50714115,   52.33432142,\n",
       "          67.29351734,   67.07329425,   62.63997417,   57.1678943 ,\n",
       "          66.19726488,   63.60613882,   65.33775389,   70.34363151,\n",
       "          71.85011781,   70.33509036,   67.76532049,   70.86086576,\n",
       "          72.0397356 ,   63.66720299,   67.58271213,   69.7255901 ,\n",
       "          69.66393815,   64.96115283,   60.97004994,   60.25076152,\n",
       "          60.04088298,   61.94327223,   60.02264129,   58.56831591,\n",
       "          58.66340822,   62.83692886,   69.09672333,   66.43712832,\n",
       "          69.51043789,   66.59427916,   68.3720402 ,   73.77812762,\n",
       "          76.14138095,   79.57354578,   81.93956832,   80.7389755 ,\n",
       "          86.52398717,   89.21075518,   90.47380004,   96.21684664,\n",
       "          95.38911314,   98.87892069,   97.47387173,   98.00260664,\n",
       "         103.0784438 ,  104.06910375,  104.98678235,  104.29931573,\n",
       "         104.55664713,  108.7398968 ,  114.775095  ,  115.84558581,\n",
       "         116.88358571,  113.0443954 ,  110.48580712,  108.1804547 ,\n",
       "         105.94654954,  104.57723332,  103.86332196,  105.51648113,\n",
       "         103.21055078,  101.51867528,  114.78002087,   83.44076986],\n",
       "       [   8.52307511,   -3.755434  ,    5.58625238,    6.25526601,\n",
       "          17.74259719,   22.72267108,   24.74505604,   26.19919076,\n",
       "          33.66997091,   35.7286731 ,   35.2693618 ,   39.4898767 ,\n",
       "          43.57640664,   42.10288857,   40.01523924,   41.15520963,\n",
       "          41.16932081,   40.44413202,   45.09646436,   47.26224246,\n",
       "          45.21625606,   44.37423317,   45.2740891 ,   49.79375137,\n",
       "          52.87551545,   51.05594839,   49.93326217,   53.19943305,\n",
       "          56.74561141,   56.94351984,   55.39547009,   56.55854378,\n",
       "          61.6903637 ,   60.01797004,   58.10913466,   61.2700428 ,\n",
       "          61.51633276,   63.78924022,   65.76513685,   67.90778945,\n",
       "          68.76569945,   70.74219907,   70.69948895,   76.88219178,\n",
       "          74.92861925,   77.18045667,   77.31973456,   75.45029553,\n",
       "          82.53127527,   79.52819605,   82.89540848,   89.80627282,\n",
       "          85.150411  ,   88.12904946,   87.30244102,   87.37946833,\n",
       "          91.94179387,   92.75053001,   89.64934392,   86.52759466,\n",
       "          84.42935466,   84.60655263,   88.57577343,   88.24329897,\n",
       "          88.3536043 ,   84.86748294,   95.45192316,   75.71251258],\n",
       "       [   7.13117718,    3.55808611,   25.24315063,   31.00601309,\n",
       "          45.93164112,   49.76246857,   49.61755389,   46.86300431,\n",
       "          49.00747076,   51.16830459,   55.07454124,   61.53878086,\n",
       "          64.05470227,   64.79223552,   66.51322064,   67.67539723,\n",
       "          70.19308417,   68.17723446,   71.02800635,   69.7656692 ,\n",
       "          70.45498171,   74.36431373,   69.44231594,   69.19242616,\n",
       "          71.86281589,   74.8284382 ,   77.13573445,   71.8848908 ,\n",
       "          73.84002201,   74.46227585,   74.91780039,   82.7667584 ,\n",
       "          82.05406445,   75.49766707,   76.83970848,   78.04539399,\n",
       "          82.53729316,   87.4835303 ,   81.1739093 ,   78.62393061,\n",
       "          81.35975481,   83.51072266,   90.07063158,   86.77420582,\n",
       "          77.8625125 ,   78.75870095,   76.92888026,   85.19170112,\n",
       "          89.45647432,   81.46313638,   77.82615798,   79.13478214,\n",
       "          84.01663425,   86.99595767,   83.64135747,   80.91460151,\n",
       "          82.71364714,   85.13394   ,   83.41779451,   84.80026147,\n",
       "          77.68724594,   72.71636996,   77.66108592,   84.09618605,\n",
       "          86.50980568,   85.13090041,   89.04023189,   71.39650223],\n",
       "       [   9.80326063,   17.12361527,   17.31375649,   21.00910413,\n",
       "          26.06505911,   22.39665582,   22.72643768,   22.37776752,\n",
       "          23.29572458,   23.98087799,   24.92026138,   28.38683012,\n",
       "          32.08306348,   32.59720507,   37.16245982,   36.92994006,\n",
       "          39.36431329,   36.73502458,   35.74190046,   38.95735886,\n",
       "          39.60903891,   40.41498856,   36.72332397,   34.44249022,\n",
       "          34.60712118,   38.00099922,   38.97908157,   36.09980936,\n",
       "          35.41207924,   38.09707973,   38.50839669,   43.03787285,\n",
       "          44.10869868,   39.63209513,   40.88767014,   36.96947836,\n",
       "          40.74009289,   45.13916681,   43.18891986,   44.38602316,\n",
       "          39.21677466,   39.83268358,   46.40041071,   49.1389891 ,\n",
       "          47.84644871,   47.6491246 ,   44.13777303,   51.97419097,\n",
       "          54.10320164,   53.07873054,   51.63660233,   48.48703596,\n",
       "          49.53196515,   54.73463609,   53.78921881,   54.21526782,\n",
       "          53.30191164,   48.10785463,   48.8592963 ,   48.9608424 ,\n",
       "          49.18528637,   45.12269705,   43.9036651 ,   43.9462654 ,\n",
       "          47.25141685,   49.63232789,   56.11570135,   53.89328699],\n",
       "       [  12.26465883,   29.35967025,   25.05585936,   25.30679226,\n",
       "          28.1475961 ,   29.31350167,   30.14001631,   30.59436823,\n",
       "          32.65109471,   36.08143144,   41.52045136,   45.40088392,\n",
       "          48.04839801,   43.17918419,   39.65982701,   38.40363578,\n",
       "          39.40853276,   43.27783049,   46.03101284,   46.54013837,\n",
       "          42.24279859,   44.0890297 ,   47.60461157,   46.40498486,\n",
       "          44.83305703,   41.6202599 ,   41.94926176,   45.75683917,\n",
       "          47.23385331,   47.01261714,   46.46728948,   45.8950074 ,\n",
       "          48.56428966,   47.83971303,   47.45865431,   47.4116298 ,\n",
       "          45.00399794,   49.6420586 ,   49.79033921,   50.90412997,\n",
       "          50.41327329,   51.22312447,   52.79816848,   56.45338276,\n",
       "          57.25569896,   58.43774794,   56.05605842,   55.80292485,\n",
       "          59.75872519,   57.43023304,   59.75150289,   59.88514077,\n",
       "          56.72970461,   58.49390922,   59.04834787,   62.85777854,\n",
       "          65.49808316,   62.2297888 ,   59.12738966,   58.22180486,\n",
       "          61.44307706,   62.27740638,   60.45122526,   59.19510385,\n",
       "          59.45611652,   62.369989  ,   74.3677439 ,   56.27431548],\n",
       "       [  13.44013729,   32.60542833,   26.94236615,   32.90448317,\n",
       "          29.75795002,   28.857067  ,   24.77966129,   24.64030186,\n",
       "          25.89310107,   27.7267423 ,   28.85695145,   29.96115332,\n",
       "          31.60236394,   32.68143078,   33.04933196,   30.82190803,\n",
       "          28.65443988,   29.98347696,   33.65096301,   34.85689367,\n",
       "          30.72393973,   31.88843202,   32.96800003,   34.47673349,\n",
       "          33.61548759,   30.54515515,   33.62538582,   33.74633305,\n",
       "          38.46938927,   37.88872759,   34.66175228,   38.65896615,\n",
       "          39.09826839,   38.58656757,   35.95006427,   33.01855878,\n",
       "          34.64651673,   37.68929486,   39.52615351,   37.97664227,\n",
       "          37.96270856,   37.44818144,   38.19827035,   41.73901412,\n",
       "          42.14862399,   42.66646476,   39.63630627,   39.13088165,\n",
       "          45.00210741,   46.97106963,   47.6151236 ,   45.2848595 ,\n",
       "          43.18672195,   48.22255151,   49.81103733,   49.67070594,\n",
       "          46.96079308,   41.61354244,   41.70604436,   43.99780673,\n",
       "          45.7950358 ,   46.28284202,   43.18231439,   44.46856428,\n",
       "          47.993785  ,   51.3734677 ,   57.4799642 ,   43.16341539],\n",
       "       [  12.3824874 ,   23.84115108,   17.01769294,   26.3414833 ,\n",
       "          31.28970819,   31.52757001,   27.78663995,   25.21920975,\n",
       "          27.66156606,   29.67542398,   33.45962263,   34.29792285,\n",
       "          32.20157893,   33.83996365,   33.62864135,   35.69240581,\n",
       "          35.07525885,   34.98014212,   35.33194874,   35.41578325,\n",
       "          35.14284559,   34.45309445,   34.58412763,   34.93800489,\n",
       "          33.84688328,   32.19925965,   34.79975525,   33.09380443,\n",
       "          35.01012434,   34.86419013,   34.80250469,   36.92279044,\n",
       "          37.52493266,   39.09467047,   39.50757465,   40.5016835 ,\n",
       "          42.3010188 ,   41.31664299,   41.31807197,   39.47912485,\n",
       "          39.49095841,   40.02151546,   38.86663717,   40.88561128,\n",
       "          41.38506192,   41.97234106,   41.82961578,   41.96412607,\n",
       "          42.50188806,   43.00310083,   44.55856765,   43.43615476,\n",
       "          44.70677452,   46.78996343,   44.9109153 ,   48.49088231,\n",
       "          49.02765538,   47.13592596,   46.8720856 ,   43.25937995,\n",
       "          45.51265773,   42.56969901,   39.42261081,   43.93205551,\n",
       "          46.55776896,   48.40063172,   53.93002884,   41.44145049],\n",
       "       [   9.14705277,   18.32780357,   17.60674013,   27.47258129,\n",
       "          32.8897536 ,   27.26176356,   23.55125004,   20.45399939,\n",
       "          21.40766859,   19.29519887,   20.94064662,   22.75231851,\n",
       "          23.74175668,   24.67996725,   23.73629966,   23.98376214,\n",
       "          22.6462039 ,   23.37049525,   22.98229995,   22.53893886,\n",
       "          21.52515582,   20.72170512,   18.30133454,   18.2715903 ,\n",
       "          20.90842456,   19.87656247,   22.17848178,   19.92857263,\n",
       "          18.91225777,   19.62202287,   19.21460981,   20.85474831,\n",
       "          21.40969082,   18.98065905,   18.68095919,   20.06538147,\n",
       "          21.24727425,   25.00143237,   23.37157961,   21.07480613,\n",
       "          20.58317282,   19.49847067,   20.30734211,   23.04870787,\n",
       "          22.53793275,   24.61295776,   22.64358817,   25.9231422 ,\n",
       "          28.20188233,   28.98562127,   28.68032569,   26.04249356,\n",
       "          28.94541782,   30.870445  ,   30.41740646,   31.32107697,\n",
       "          31.58042026,   31.13022683,   32.88580638,   31.86625154,\n",
       "          34.71350786,   31.80906874,   27.43972258,   32.35835997,\n",
       "          33.20514093,   34.22990477,   38.41172434,   31.86276133],\n",
       "       [  13.05155405,   28.95712352,   29.6290102 ,   34.40128394,\n",
       "          35.15086261,   28.37456927,   28.69947043,   28.83498439,\n",
       "          28.24004092,   25.43922593,   25.95445044,   27.59005814,\n",
       "          33.73789411,   30.76104598,   28.19468939,   31.68922544,\n",
       "          31.61233608,   34.22974539,   32.74166976,   30.9944911 ,\n",
       "          29.17731943,   29.80988844,   27.63751398,   29.12888489,\n",
       "          32.34987312,   31.13002598,   32.79881981,   30.28751075,\n",
       "          30.3645315 ,   31.10477561,   29.62554661,   31.16005287,\n",
       "          33.3017751 ,   30.29540167,   30.49647237,   32.26521231,\n",
       "          32.27528819,   34.50658003,   34.2741346 ,   31.70170758,\n",
       "          33.21618571,   33.74387409,   34.24045217,   36.71297238,\n",
       "          35.35265976,   36.71966722,   35.34532869,   38.27388937,\n",
       "          40.10555866,   40.63172286,   39.30839855,   36.28393143,\n",
       "          36.9540478 ,   41.41005184,   44.61486816,   43.63475665,\n",
       "          43.46068832,   42.09866043,   41.47738074,   42.47593656,\n",
       "          43.60528865,   39.19462965,   36.18832557,   40.63425769,\n",
       "          41.7838438 ,   46.60507987,   47.63835119,   33.31649488],\n",
       "       [  15.72706617,   34.94932077,   30.00089951,   28.6353228 ,\n",
       "          26.36281304,   22.78134181,   21.6229398 ,   21.50152383,\n",
       "          21.49950823,   19.2190916 ,   19.31182614,   20.91711182,\n",
       "          27.1823533 ,   26.29064338,   23.99178638,   27.85498209,\n",
       "          28.07043302,   28.71995265,   28.48219401,   26.13911155,\n",
       "          27.2416255 ,   25.93723223,   26.89729382,   26.50072122,\n",
       "          28.91387368,   29.72181189,   29.34642667,   26.17622105,\n",
       "          26.80575227,   27.82270946,   29.37356401,   30.44331652,\n",
       "          32.25287205,   31.14709023,   28.70303878,   30.70254324,\n",
       "          32.7938256 ,   33.08276537,   33.79541516,   31.91565479,\n",
       "          32.53320776,   34.4357287 ,   33.73159362,   34.13855108,\n",
       "          33.29091081,   31.94660224,   33.76865827,   34.29572728,\n",
       "          34.48479478,   35.94411282,   35.62943951,   34.76482713,\n",
       "          33.762417  ,   38.11468968,   38.23333322,   40.35042041,\n",
       "          39.22447431,   37.45715225,   35.50436076,   34.17942243,\n",
       "          37.41363803,   36.49419463,   37.14435868,   36.22570284,\n",
       "          34.8526647 ,   39.99410959,   43.302892  ,   31.20194715],\n",
       "       [  18.49524098,   36.66460803,   34.13385581,   37.63483801,\n",
       "          39.26245036,   33.66318347,   28.67806286,   26.43346279,\n",
       "          25.50880459,   23.48537669,   22.47965988,   22.86205041,\n",
       "          25.76233181,   25.92181736,   26.11033623,   29.37589669,\n",
       "          31.17885662,   31.34879149,   31.00315029,   29.73068851,\n",
       "          29.37560654,   27.695462  ,   29.21597977,   29.64399167,\n",
       "          29.62301816,   28.74478045,   28.47995359,   28.48372263,\n",
       "          30.23790102,   29.60664834,   29.48350693,   32.22977825,\n",
       "          32.08790613,   31.45063512,   30.63370624,   33.57742575,\n",
       "          34.68594929,   34.6961714 ,   34.37318985,   32.99202028,\n",
       "          36.28205927,   38.4057045 ,   37.99223838,   38.95362674,\n",
       "          35.81516228,   36.444992  ,   38.15344935,   37.97547339,\n",
       "          38.03704474,   38.61819788,   37.06802665,   37.24643982,\n",
       "          35.02359619,   40.12650659,   40.16926689,   41.11224787,\n",
       "          40.35386016,   40.50683626,   40.40281183,   39.66006451,\n",
       "          40.73426378,   40.9680568 ,   39.43320123,   37.00329593,\n",
       "          36.70132095,   39.51767898,   43.53793784,   27.2442565 ],\n",
       "       [  16.41469348,   32.41328773,   35.90460101,   33.3868592 ,\n",
       "          29.24451187,   22.64888547,   18.04817902,   18.05865005,\n",
       "          16.61085732,   14.7654312 ,   14.50164785,   16.13951929,\n",
       "          16.70475966,   19.46134976,   22.57869997,   22.38274187,\n",
       "          24.05665417,   23.64849593,   23.51859862,   23.83902717,\n",
       "          23.19181294,   23.10578098,   24.34517149,   23.80430662,\n",
       "          23.57495076,   24.37902781,   24.93216365,   25.07477728,\n",
       "          27.04401917,   29.60463171,   28.92664516,   28.46563608,\n",
       "          27.00111971,   28.474418  ,   29.88475631,   31.29455549,\n",
       "          30.5072262 ,   29.15431921,   29.30965786,   30.23906208,\n",
       "          30.62789819,   30.89252731,   31.42801148,   31.94605369,\n",
       "          31.0193672 ,   30.4632662 ,   31.3128186 ,   31.62356914,\n",
       "          32.69897503,   33.28066881,   31.87723816,   31.09361034,\n",
       "          28.25758246,   29.90143565,   29.35434477,   31.19959538,\n",
       "          32.27967484,   33.18862364,   33.0737807 ,   31.54369964,\n",
       "          32.34046304,   33.72358754,   32.83859365,   30.67806704,\n",
       "          31.19622339,   29.8005759 ,   33.76389647,   23.11402068],\n",
       "       [  19.98416498,   37.89886595,   47.10464443,   42.24729478,\n",
       "          37.96123424,   27.83168352,   21.27060934,   18.39728165,\n",
       "          18.44563035,   19.57775262,   19.57116634,   18.90647777,\n",
       "          21.14032979,   22.25502565,   24.51291564,   24.1538732 ,\n",
       "          24.93425438,   25.28734022,   23.61730424,   23.86208418,\n",
       "          26.77199912,   25.15668153,   27.68961055,   28.85555082,\n",
       "          26.00660803,   26.91530251,   28.2049119 ,   29.50985042,\n",
       "          29.47633842,   27.08642266,   27.51018833,   29.40046732,\n",
       "          28.78211314,   31.51760338,   31.52429747,   32.14117508,\n",
       "          31.04784259,   31.48417638,   32.21469746,   30.6861854 ,\n",
       "          29.97382146,   30.12127258,   28.88856553,   30.54943553,\n",
       "          28.10948909,   27.70503013,   28.40399114,   29.96673589,\n",
       "          34.06071535,   34.73507405,   33.25766102,   29.95125101,\n",
       "          29.9393607 ,   31.51774547,   35.13699691,   34.28752379,\n",
       "          33.33513626,   30.21427415,   31.04229554,   32.60038195,\n",
       "          32.2146698 ,   32.67312756,   30.72573765,   28.43274479,\n",
       "          30.02158974,   32.21084046,   36.81202257,   21.26107448],\n",
       "       [   0.        ,    0.        ,    0.        ,    0.        ,\n",
       "           0.        ,    0.        ,    0.        ,    0.        ,\n",
       "           0.        ,    0.        ,    0.        ,    0.        ,\n",
       "           0.        ,    0.        ,    0.        ,    0.        ,\n",
       "           0.        ,    0.        ,    0.        ,    0.        ,\n",
       "           0.        ,    0.        ,    0.        ,    0.        ,\n",
       "           0.        ,    0.        ,    0.        ,    0.        ,\n",
       "           0.        ,    0.        ,    0.        ,    0.        ,\n",
       "           0.        ,    0.        ,    0.        ,    0.        ,\n",
       "           0.        ,    0.        ,    0.        ,    0.        ,\n",
       "           0.        ,    0.        ,    0.        ,    0.        ,\n",
       "           0.        ,    0.        ,    0.        ,    0.        ,\n",
       "           0.        ,    0.        ,    0.        ,    0.        ,\n",
       "           0.        ,    0.        ,    0.        ,    0.        ,\n",
       "           0.        ,    0.        ,    0.        ,    0.        ,\n",
       "           0.        ,    0.        ,    0.        ,    0.        ,\n",
       "           0.        ,    0.        ,    0.        ,    0.        ]])"
      ]
     },
     "execution_count": 771,
     "metadata": {},
     "output_type": "execute_result"
    }
   ],
   "source": [
    "(X_reduced[1659] @ pcs_lin[:n_comps]).reshape(dimf,dimt)"
   ]
  },
  {
   "cell_type": "code",
   "execution_count": 746,
   "id": "cb8a618a",
   "metadata": {
    "ExecuteTime": {
     "end_time": "2023-04-26T21:25:48.623607Z",
     "start_time": "2023-04-26T21:25:48.479571Z"
    }
   },
   "outputs": [
    {
     "data": {
      "text/plain": [
       "<matplotlib.collections.QuadMesh at 0x7f0a1af76f50>"
      ]
     },
     "execution_count": 746,
     "metadata": {},
     "output_type": "execute_result"
    },
    {
     "data": {
      "image/png": "[encoded data removed]",
      "text/plain": [
       "<Figure size 640x480 with 1 Axes>"
      ]
     },
     "metadata": {},
     "output_type": "display_data"
    }
   ],
   "source": [
    "plt.pcolormesh(X_f_reconst[test_ind])"
   ]
  },
  {
   "cell_type": "code",
   "execution_count": 745,
   "id": "8983b225",
   "metadata": {
    "ExecuteTime": {
     "end_time": "2023-04-26T21:25:20.286653Z",
     "start_time": "2023-04-26T21:25:20.166281Z"
    }
   },
   "outputs": [
    {
     "data": {
      "text/plain": [
       "<matplotlib.collections.QuadMesh at 0x7f0a1af34790>"
      ]
     },
     "execution_count": 745,
     "metadata": {},
     "output_type": "execute_result"
    },
    {
     "data": {
      "image/png": "[encoded data removed]",
      "text/plain": [
       "<Figure size 640x480 with 1 Axes>"
      ]
     },
     "metadata": {},
     "output_type": "display_data"
    }
   ],
   "source": [
    "plt.pcolormesh((pcs_lin[:n_comps].reshape(n_comps, dimf, dimt).T @ X_reduced[test_ind]).T"
   ]
  },
  {
   "cell_type": "code",
   "execution_count": 747,
   "id": "3c6328c1",
   "metadata": {
    "ExecuteTime": {
     "end_time": "2023-04-26T21:26:32.968750Z",
     "start_time": "2023-04-26T21:26:32.955973Z"
    }
   },
   "outputs": [
    {
     "data": {
      "text/plain": [
       "(68, 20, 10)"
      ]
     },
     "execution_count": 747,
     "metadata": {},
     "output_type": "execute_result"
    }
   ],
   "source": [
    "pcs_lin[:n_comps].reshape(n_comps, dimf, dimt).T.shape"
   ]
  },
  {
   "cell_type": "code",
   "execution_count": 732,
   "id": "3f97c1db",
   "metadata": {
    "ExecuteTime": {
     "end_time": "2023-04-26T21:23:50.955272Z",
     "start_time": "2023-04-26T21:23:50.951879Z"
    }
   },
   "outputs": [
    {
     "data": {
      "text/plain": [
       "(10,)"
      ]
     },
     "execution_count": 732,
     "metadata": {},
     "output_type": "execute_result"
    }
   ],
   "source": [
    "X_reduced[test_ind].shape"
   ]
  },
  {
   "cell_type": "code",
   "execution_count": 686,
   "id": "6a7ff9a3",
   "metadata": {
    "ExecuteTime": {
     "end_time": "2023-04-26T21:12:48.503985Z",
     "start_time": "2023-04-26T21:12:48.338525Z"
    }
   },
   "outputs": [
    {
     "data": {
      "text/plain": [
       "<matplotlib.collections.QuadMesh at 0x7f0a21177760>"
      ]
     },
     "execution_count": 686,
     "metadata": {},
     "output_type": "execute_result"
    },
    {
     "data": {
      "image/png": "[encoded data removed]",
      "text/plain": [
       "<Figure size 640x480 with 1 Axes>"
      ]
     },
     "metadata": {},
     "output_type": "display_data"
    }
   ],
   "source": [
    "plt.pcolormesh(X_f_reconst[0])"
   ]
  },
  {
   "cell_type": "code",
   "execution_count": 799,
   "id": "21a96896",
   "metadata": {
    "ExecuteTime": {
     "end_time": "2023-04-27T15:30:01.382186Z",
     "start_time": "2023-04-27T15:30:01.142974Z"
    }
   },
   "outputs": [],
   "source": [
    "kmeans = KMeans(n_clusters=4, random_state=0, n_init=\"auto\").fit(X_f_linearized)"
   ]
  },
  {
   "cell_type": "code",
   "execution_count": 808,
   "id": "76180343",
   "metadata": {
    "ExecuteTime": {
     "end_time": "2023-04-27T15:31:10.407467Z",
     "start_time": "2023-04-27T15:31:10.270903Z"
    }
   },
   "outputs": [
    {
     "data": {
      "text/plain": [
       "<matplotlib.collections.QuadMesh at 0x7f0a15059e40>"
      ]
     },
     "execution_count": 808,
     "metadata": {},
     "output_type": "execute_result"
    },
    {
     "data": {
      "image/png": "[encoded data removed]",
      "text/plain": [
       "<Figure size 640x480 with 1 Axes>"
      ]
     },
     "metadata": {},
     "output_type": "display_data"
    }
   ],
   "source": [
    "plt.pcolormesh(kmeans.cluster_centers_[3].reshape(X_f_embed[0].shape))"
   ]
  }
 ],
 "metadata": {
  "kernelspec": {
   "display_name": "Python 3 (ipykernel)",
   "language": "python",
   "name": "python3"
  },
  "language_info": {
   "codemirror_mode": {
    "name": "ipython",
    "version": 3
   },
   "file_extension": ".py",
   "mimetype": "text/x-python",
   "name": "python",
   "nbconvert_exporter": "python",
   "pygments_lexer": "ipython3",
   "version": "3.10.10"
  },
  "notify_time": "30",
  "toc": {
   "base_numbering": 1,
   "nav_menu": {
    "height": "101px",
    "width": "332px"
   },
   "number_sections": true,
   "sideBar": true,
   "skip_h1_title": false,
   "title_cell": "Table of Contents",
   "title_sidebar": "Contents",
   "toc_cell": false,
   "toc_position": {},
   "toc_section_display": true,
   "toc_window_display": false
  }
 },
 "nbformat": 4,
 "nbformat_minor": 5
}
