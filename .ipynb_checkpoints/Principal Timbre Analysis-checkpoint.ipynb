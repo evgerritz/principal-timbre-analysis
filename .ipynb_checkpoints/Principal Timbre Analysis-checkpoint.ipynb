{
 "cells": [
  {
   "cell_type": "code",
   "execution_count": 777,
   "id": "10641295",
   "metadata": {
    "ExecuteTime": {
     "end_time": "2023-04-27T15:25:46.600090Z",
     "start_time": "2023-04-27T15:25:46.595666Z"
    }
   },
   "outputs": [],
   "source": [
    "import numpy as np\n",
    "import matplotlib.pyplot as plt\n",
    "from scipy import signal\n",
    "from scipy.io import wavfile\n",
    "import scipy.stats as st\n",
    "import glob\n",
    "from numpy.random import uniform\n",
    "import librosa\n",
    "from tqdm import tqdm\n",
    "from pprint import pprint\n",
    "import sys\n",
    "from sklearn.cluster import KMeans"
   ]
  },
  {
   "cell_type": "markdown",
   "id": "6f179a2b",
   "metadata": {
    "ExecuteTime": {
     "end_time": "2023-04-25T20:30:45.528294Z",
     "start_time": "2023-04-25T20:30:45.521960Z"
    }
   },
   "source": [
    "# TODO:\n",
    "1. new data samples\n",
    "2. more reduction?\n",
    "3. listen to pcs\n",
    "4. try sampling random combinations of pcs"
   ]
  },
  {
   "cell_type": "code",
   "execution_count": 155,
   "id": "1e111f0a",
   "metadata": {
    "ExecuteTime": {
     "end_time": "2023-04-26T15:02:25.536348Z",
     "start_time": "2023-04-26T15:02:25.530882Z"
    }
   },
   "outputs": [],
   "source": [
    "def zero_pad(M):\n",
    "    maxlen = max(len(r) for r in M)\n",
    "\n",
    "    Z = np.zeros((len(M), maxlen))\n",
    "    for enu, row in enumerate(M):\n",
    "        Z[enu, :len(row)] += row \n",
    "    return Z\n",
    "\n",
    "def trunc(M, p=1):\n",
    "    mean_len = p*round(np.mean([len(r) for r in M]))\n",
    "    Z = np.zeros((len(M), mean_len))\n",
    "    for enu, row in enumerate(M):\n",
    "        Z[enu, :len(row)] += row[:mean_len]\n",
    "    return Z\n",
    "\n",
    "def norm(m,M):\n",
    "    all_mins = M.min(axis=1)\n",
    "    all_maxes = M.max(axis=1)\n",
    "    likely_min = all_mins.mean() - 2 * all_mins.std()\n",
    "    likely_max = all_maxes.mean() + 2 * all_maxes.std()\n",
    "    return (m - likely_min)/(likely_max-likely_min)\n",
    "    #return (m - M.min(axis=0).mean())/(M.max(axis=0).mean()-M.min(axis=0).mean())"
   ]
  },
  {
   "cell_type": "markdown",
   "id": "de279d84",
   "metadata": {},
   "source": [
    "# Load the Samples"
   ]
  },
  {
   "cell_type": "code",
   "execution_count": 3,
   "id": "9141db16",
   "metadata": {
    "ExecuteTime": {
     "end_time": "2023-04-26T13:45:25.525607Z",
     "start_time": "2023-04-26T13:45:25.512102Z"
    }
   },
   "outputs": [],
   "source": [
    "# returns the fundamental frequency of a list of samples in herz or by note name\n",
    "# by identifying the relative peaks in the fourier transform\n",
    "def get_fundamental(x, samplerate, note_name = False):\n",
    "    x_f = np.fft.rfft(x)\n",
    "    fs = np.fft.rfftfreq(len(x), 1/samplerate)\n",
    "    #plt.plot(fs[:30000], x_f[:30000])\n",
    "    # oh... lol... I didn't know how to do fft with non-1 samplerate..., but usually one is fine\n",
    "    for rel_thresh in np.linspace(1/5, 0.01, 10):\n",
    "        peaks = signal.find_peaks(np.abs(x_f), height=np.max(np.abs(x_f))*rel_thresh)[0]\n",
    "        if peaks.any():\n",
    "            break\n",
    "    else:\n",
    "        return None\n",
    "    freq_index = peaks[0]\n",
    "    freq = round(fs[freq_index], 1)\n",
    "\n",
    "    if not note_name:\n",
    "        return freq\n",
    "    else:\n",
    "        return librosa.hz_to_note(freq)"
   ]
  },
  {
   "cell_type": "code",
   "execution_count": 99,
   "id": "f8e85d61",
   "metadata": {
    "ExecuteTime": {
     "end_time": "2023-04-26T14:39:45.505823Z",
     "start_time": "2023-04-26T14:39:45.494592Z"
    }
   },
   "outputs": [],
   "source": [
    "def load_X(downscale = 3, p=None, maxlen=100000, test_quality=False):\n",
    "    \"\"\"\n",
    "    downsample allows you \n",
    "    can either truncate the final arr\n",
    "    \"\"\"\n",
    "    count = 0\n",
    "    samples_arr = []\n",
    "    file_descs = []\n",
    "    files = glob.glob('TinySOL/*/*/*/*.wav')\n",
    "    #print('Row:\\t Filename:')\n",
    "    for filename in tqdm(files):\n",
    "        try:\n",
    "            samplerate, samples = wavfile.read(filename)\n",
    "            if len(samples.shape) > 1:\n",
    "                samples = samples[:,0]\n",
    "            if len(samples) <= 430000:\n",
    "                abbrev_name = filename.split('/')[4][:-4]\n",
    "                \n",
    "                if maxlen:\n",
    "                    samples = samples[:maxlen]\n",
    "                    \n",
    "                reduced_samples = signal.decimate(samples, downscale) #, axis=1)\n",
    "                #note_name = get_fundamental(reduced_samples, samplerate//downscale, note_name = True)\n",
    "                \n",
    "                # only use correctly labelled fundamental freqs\n",
    "                #if note_name.replace('♯', '#') in abbrev_name:\n",
    "                samples_arr.append(reduced_samples)\n",
    "                file_descs.append(abbrev_name)\n",
    "                #print(count,'\\t'+abbrev_name, '\\t', note_name)\n",
    "                count += 1\n",
    "        except ValueError:\n",
    "            print('reading failed for ' + filename)\n",
    "    \n",
    "    samplerate = samplerate//downscale\n",
    "    if p:\n",
    "        X = trunc(samples_arr, p)\n",
    "    else:\n",
    "        X = zero_pad(samples_arr)\n",
    "        \n",
    "    # remove any still incorrectly labelled fundamental freqs\n",
    "    freq_hats = map(lambda x: get_fundamental(x, samplerate, note_name=True), X)\n",
    "    freq_hats = list(map(lambda x: x.replace('♯', '#'), freq_hats))\n",
    "    wrong_i = [i for i, (f, desc) in enumerate(zip(freq_hats, file_descs)) if f not in desc]\n",
    "    X = np.delete(X, wrong_i, axis=0)\n",
    "    # also update file_descs\n",
    "    for index in sorted(wrong_i, reverse=True):\n",
    "        del file_descs[index]\n",
    "        \n",
    "    if test_quality:\n",
    "        wavfile.write(f'out/downsampled.wav', samplerate, norm(X[0], X))\n",
    "    \n",
    "    return X, samplerate, file_descs"
   ]
  },
  {
   "cell_type": "code",
   "execution_count": 100,
   "id": "b064933a",
   "metadata": {
    "ExecuteTime": {
     "end_time": "2023-04-26T14:40:16.818405Z",
     "start_time": "2023-04-26T14:39:48.911363Z"
    }
   },
   "outputs": [
    {
     "name": "stderr",
     "output_type": "stream",
     "text": [
      "100%|██████████| 2913/2913 [00:07<00:00, 371.51it/s]\n"
     ]
    }
   ],
   "source": [
    "X, X_samplerate, X_file_descs = load_X(test_quality=True)"
   ]
  },
  {
   "cell_type": "markdown",
   "id": "2c70be89",
   "metadata": {},
   "source": [
    "# STFT Analysis"
   ]
  },
  {
   "cell_type": "code",
   "execution_count": 302,
   "id": "b6bd5b73",
   "metadata": {
    "ExecuteTime": {
     "end_time": "2023-04-26T16:47:16.413662Z",
     "start_time": "2023-04-26T16:47:16.408527Z"
    }
   },
   "outputs": [
    {
     "data": {
      "text/plain": [
       "(180, 68)"
      ]
     },
     "execution_count": 302,
     "metadata": {},
     "output_type": "execute_result"
    }
   ],
   "source": [
    "test_embed.shape"
   ]
  },
  {
   "cell_type": "code",
   "execution_count": 316,
   "id": "e44962a1",
   "metadata": {
    "ExecuteTime": {
     "end_time": "2023-04-26T16:49:29.543528Z",
     "start_time": "2023-04-26T16:49:29.415096Z"
    }
   },
   "outputs": [
    {
     "data": {
      "text/plain": [
       "<matplotlib.collections.QuadMesh at 0x7f0a23ea3100>"
      ]
     },
     "execution_count": 316,
     "metadata": {},
     "output_type": "execute_result"
    },
    {
     "data": {
      "image/png": "[encoded data removed]",
      "text/plain": [
       "<Figure size 640x480 with 1 Axes>"
      ]
     },
     "metadata": {},
     "output_type": "display_data"
    }
   ],
   "source": [
    "plt.pcolormesh(np.abs(test_embed))"
   ]
  },
  {
   "cell_type": "code",
   "execution_count": null,
   "id": "42a82b66",
   "metadata": {},
   "outputs": [],
   "source": [
    "t_f_ps = np.sum(test_embed.reshape((180, 1//5, 5)), axis=2)"
   ]
  },
  {
   "cell_type": "code",
   "execution_count": 373,
   "id": "b170ac8a",
   "metadata": {
    "ExecuteTime": {
     "end_time": "2023-04-26T18:04:40.824219Z",
     "start_time": "2023-04-26T18:04:40.641101Z"
    }
   },
   "outputs": [
    {
     "data": {
      "text/plain": [
       "<matplotlib.collections.QuadMesh at 0x7f0a1f83e110>"
      ]
     },
     "execution_count": 373,
     "metadata": {},
     "output_type": "execute_result"
    },
    {
     "data": {
      "image/png": "[encoded data removed]",
      "text/plain": [
       "<Figure size 640x480 with 1 Axes>"
      ]
     },
     "metadata": {},
     "output_type": "display_data"
    }
   ],
   "source": [
    "plt.pcolormesh(np.abs(test_embed))"
   ]
  },
  {
   "cell_type": "code",
   "execution_count": 384,
   "id": "a9d6a723",
   "metadata": {
    "ExecuteTime": {
     "end_time": "2023-04-26T18:06:40.568216Z",
     "start_time": "2023-04-26T18:06:40.563981Z"
    }
   },
   "outputs": [
    {
     "data": {
      "text/plain": [
       "(220, 68)"
      ]
     },
     "execution_count": 384,
     "metadata": {},
     "output_type": "execute_result"
    }
   ],
   "source": [
    "test_embed.shape"
   ]
  },
  {
   "cell_type": "code",
   "execution_count": 385,
   "id": "0c6106a8",
   "metadata": {
    "ExecuteTime": {
     "end_time": "2023-04-26T18:06:53.808613Z",
     "start_time": "2023-04-26T18:06:53.805006Z"
    }
   },
   "outputs": [
    {
     "data": {
      "text/plain": [
       "(68, 220)"
      ]
     },
     "execution_count": 385,
     "metadata": {},
     "output_type": "execute_result"
    }
   ],
   "source": [
    "np.transpose(test_embed, (1,0)).shape"
   ]
  },
  {
   "cell_type": "code",
   "execution_count": 395,
   "id": "876ba58a",
   "metadata": {
    "ExecuteTime": {
     "end_time": "2023-04-26T18:09:07.253905Z",
     "start_time": "2023-04-26T18:09:07.249889Z"
    }
   },
   "outputs": [
    {
     "data": {
      "text/plain": [
       "(220, 68)"
      ]
     },
     "execution_count": 395,
     "metadata": {},
     "output_type": "execute_result"
    }
   ],
   "source": [
    "test_embed.shape"
   ]
  },
  {
   "cell_type": "code",
   "execution_count": 440,
   "id": "0731dd04",
   "metadata": {
    "ExecuteTime": {
     "end_time": "2023-04-26T18:21:28.418089Z",
     "start_time": "2023-04-26T18:21:28.300844Z"
    }
   },
   "outputs": [
    {
     "data": {
      "text/plain": [
       "[<matplotlib.lines.Line2D at 0x7f0a1f0c57e0>]"
      ]
     },
     "execution_count": 440,
     "metadata": {},
     "output_type": "execute_result"
    },
    {
     "data": {
      "image/png": "[encoded data removed]",
      "text/plain": [
       "<Figure size 640x480 with 1 Axes>"
      ]
     },
     "metadata": {},
     "output_type": "display_data"
    }
   ],
   "source": [
    "plt.plot([np.sum(np.abs(x), axis=0) for x in np.vsplit(test_embed, 20)][11])"
   ]
  },
  {
   "cell_type": "code",
   "execution_count": 436,
   "id": "6a578580",
   "metadata": {
    "ExecuteTime": {
     "end_time": "2023-04-26T18:20:49.220977Z",
     "start_time": "2023-04-26T18:20:49.054949Z"
    }
   },
   "outputs": [
    {
     "data": {
      "text/plain": [
       "<matplotlib.collections.QuadMesh at 0x7f0a23a8fe50>"
      ]
     },
     "execution_count": 436,
     "metadata": {},
     "output_type": "execute_result"
    },
    {
     "data": {
      "image/png": "[encoded data removed]",
      "text/plain": [
       "<Figure size 640x480 with 1 Axes>"
      ]
     },
     "metadata": {},
     "output_type": "display_data"
    }
   ],
   "source": [
    "plt.pcolormesh(np.vstack([np.sum(np.abs(x), axis=0) for x in np.vsplit(test_embed, 20)]))"
   ]
  },
  {
   "cell_type": "code",
   "execution_count": 658,
   "id": "c2f465e8",
   "metadata": {
    "ExecuteTime": {
     "end_time": "2023-04-26T21:05:02.226613Z",
     "start_time": "2023-04-26T21:05:02.198980Z"
    }
   },
   "outputs": [],
   "source": [
    "# take the fourier transform of the entire data matrix\n",
    "# convert the data matrix of amp for each (example, sample) to amp for each (example, freq, time)\n",
    "def rstft(x, samplerate):\n",
    "    f, t, spec = signal.stft(x, samplerate, nperseg=1000)\n",
    "    return np.abs(spec), f, t\n",
    "\n",
    "def idx_of_partial(freq, freqs):\n",
    "    return np.argmin(np.abs(freqs - freq))\n",
    "\n",
    "def get_partials(fund, freqs, num_partials=20, partial_width=5):\n",
    "    partials = fund*np.arange(1,num_partials)\n",
    "    wide_partials = []\n",
    "    off = partial_width//2\n",
    "    for freq in partials:\n",
    "        if freq <= np.max(freqs):\n",
    "            partial_idx = idx_of_partial(freq, freqs)\n",
    "        else: \n",
    "            break\n",
    "        for i in range(partial_width):\n",
    "            band_partial_idx = partial_idx+i-off\n",
    "            if band_partial_idx < len(freqs):\n",
    "                wide_partials.append(freqs[band_partial_idx])\n",
    "            \n",
    "    return wide_partials\n",
    "\n",
    "def partial_embedding(x, x_fund, freqs, samplerate, num_partials=20, partial_width=5):\n",
    "    \"\"\"\n",
    "    Unfortunately, the full fourier transform is pretty sparse, and too big to perform SVD on directly\n",
    "    Instead, we have to make a denser embedding (which we can later invert) that consists of the\n",
    "    amplitude envelopes of the first num_partials partials.\n",
    "    Vibrato, however, means that amplitudes can be spread across neighboring partials, so we\n",
    "    can include surrounding partials using the partial_width argument\n",
    "    This makes the embedding larger by a factor of partial_width, but results in significantly\n",
    "    less loss of information, so inverting the embedding sounds much more like the original sound\n",
    "    \"\"\"\n",
    "    x_f = rstft(x, samplerate)[0]\n",
    "    embedding = np.zeros((num_partials*partial_width, x_f.shape[1]))\n",
    "    \n",
    "    row = 0\n",
    "    partials = get_partials(x_fund, freqs, num_partials, partial_width)\n",
    "    for row, freq in enumerate(partials):\n",
    "        if freq <= np.max(freqs):\n",
    "            partial_idx = idx_of_partial(freq, freqs)\n",
    "        else: \n",
    "            break\n",
    "            \n",
    "        if partial_idx < min(len(x_f), len(freqs)):\n",
    "            embedding[row] = x_f[partial_idx]\n",
    "        \n",
    "    emb_red = np.vstack([np.sum(x, axis=0) for x in np.vsplit(embedding, num_partials)])\n",
    "        \n",
    "    return emb_red, get_partials(x_fund, freqs, num_partials, 1)\n",
    "\n",
    "    \n",
    "    return embedding, partials\n",
    "\n",
    "def smooth(x, sigma):\n",
    "    # smooth to remove vibrato in get_freq, or just remove noise\n",
    "    # using gaussian kernel with sigma=2\n",
    "    kern_domain = np.linspace(-2, 2, 21+1)\n",
    "    gaussian_kernel = st.norm.pdf(kern_domain, scale=sigma)\n",
    "    return np.convolve(x, gaussian_kernel, mode='same')\n",
    "\n",
    "\n",
    "def embedding_inverse(embedded, partials, freqs, samplerate, partial_width=5):\n",
    "    \"\"\"\n",
    "    This function is the inverse of partial_embedding:\n",
    "    given a partials-only embedding, return approximation of original x\n",
    "    Thus, we will need it to get a soundfile back from a projected pca vector\n",
    "    \"\"\"\n",
    "    x_f = np.zeros((len(freqs), embedded.shape[1]))\n",
    "    \n",
    "    for i in range(len(partials)):\n",
    "        p_ind = idx_of_partial(partials[i], freqs)\n",
    "        x_f[p_ind] = embedded[i]\n",
    "        \n",
    "    return x_f"
   ]
  },
  {
   "cell_type": "code",
   "execution_count": 563,
   "id": "cdaced83",
   "metadata": {
    "ExecuteTime": {
     "end_time": "2023-04-26T19:09:07.697534Z",
     "start_time": "2023-04-26T19:08:47.236127Z"
    }
   },
   "outputs": [],
   "source": [
    "# this is the data matrix with each row being replaced by its full fourier transform \n",
    "# we will use it to compare to X_f_embed which consists of the embedded fourier transforms\n",
    "X_f, freqs, t = rstft(X, X_samplerate)"
   ]
  },
  {
   "cell_type": "markdown",
   "id": "ef7d7860",
   "metadata": {},
   "source": [
    "# Testing the Partial Embeddings"
   ]
  },
  {
   "cell_type": "code",
   "execution_count": 772,
   "id": "ba8b957c",
   "metadata": {
    "ExecuteTime": {
     "end_time": "2023-04-27T15:19:58.662037Z",
     "start_time": "2023-04-27T15:19:58.269924Z"
    }
   },
   "outputs": [
    {
     "data": {
      "text/plain": [
       "<matplotlib.collections.QuadMesh at 0x7f0a1ad9b4c0>"
      ]
     },
     "execution_count": 772,
     "metadata": {},
     "output_type": "execute_result"
    },
    {
     "data": {
      "image/png": "[encoded data removed]",
      "text/plain": [
       "<Figure size 1800x400 with 3 Axes>"
      ]
     },
     "metadata": {},
     "output_type": "display_data"
    }
   ],
   "source": [
    "test_ind = 1436\n",
    "test_x = X[test_ind]\n",
    "pwidth = 11\n",
    "test_fund = get_fundamental(test_x, X_samplerate)\n",
    "test_embed, test_partials = partial_embedding(test_x, test_fund, freqs, X_samplerate, num_partials=20, partial_width=pwidth)\n",
    "test_x_f = embedding_inverse(test_embed, test_partials, freqs, X_samplerate, partial_width=pwidth)\n",
    "\n",
    "nrows = 1\n",
    "ncols = 3\n",
    "fig, axs = plt.subplots(nrows,ncols, figsize=(ncols*6,nrows*4))\n",
    "\n",
    "axs[0].set_title('Original')\n",
    "axs[1].set_title('Embedding')\n",
    "axs[2].set_title('Reconstructed from Embedding')\n",
    "\n",
    "axs[0].pcolormesh(t,freqs,X_f[test_ind])\n",
    "axs[1].pcolormesh(test_embed)\n",
    "axs[2].pcolormesh(test_x_f)"
   ]
  },
  {
   "cell_type": "markdown",
   "id": "f8302a3f",
   "metadata": {},
   "source": [
    "# Perform PCA"
   ]
  },
  {
   "cell_type": "code",
   "execution_count": 234,
   "id": "6e94c104",
   "metadata": {
    "ExecuteTime": {
     "end_time": "2023-04-26T15:49:36.210702Z",
     "start_time": "2023-04-26T15:49:36.147737Z"
    }
   },
   "outputs": [
    {
     "data": {
      "text/plain": [
       "(33334,)"
      ]
     },
     "execution_count": 234,
     "metadata": {},
     "output_type": "execute_result"
    }
   ],
   "source": [
    "X.mean(axis=0).shape"
   ]
  },
  {
   "cell_type": "code",
   "execution_count": 639,
   "id": "9c3b4d95",
   "metadata": {
    "ExecuteTime": {
     "end_time": "2023-04-26T21:00:35.516067Z",
     "start_time": "2023-04-26T21:00:35.395754Z"
    }
   },
   "outputs": [],
   "source": [
    "def pca(X):\n",
    "    mean = X.mean(axis=0) \n",
    "    center = X - mean \n",
    "    _, stds, pcs = np.linalg.svd(center/np.sqrt(X.shape[0])) \n",
    "\n",
    "    return stds**2, pcs\n",
    "X_mean = X.mean(axis=0)"
   ]
  },
  {
   "cell_type": "code",
   "execution_count": 651,
   "id": "3dcbadfc",
   "metadata": {
    "ExecuteTime": {
     "end_time": "2023-04-26T21:02:22.644558Z",
     "start_time": "2023-04-26T21:02:02.926279Z"
    }
   },
   "outputs": [],
   "source": [
    "# embed the data matrix\n",
    "num_ps = 20\n",
    "p_width = 11\n",
    "embed_row = lambda x: partial_embedding(x, \n",
    "                                        get_fundamental(x, samplerate),\n",
    "                                        freqs, X_samplerate, num_partials=num_ps, \n",
    "                                        partial_width=p_width)[0]\n",
    "X_f_embed = np.apply_along_axis(embed_row, 1, X)\n",
    "n, dimf, dimt = X_f_embed.shape\n",
    "X_f_linearized = X_f_embed.reshape(n, dimf*dimt)"
   ]
  },
  {
   "cell_type": "code",
   "execution_count": 776,
   "id": "f9ba7081",
   "metadata": {
    "ExecuteTime": {
     "end_time": "2023-04-27T15:23:05.807405Z",
     "start_time": "2023-04-27T15:23:05.803541Z"
    }
   },
   "outputs": [
    {
     "data": {
      "text/plain": [
       "(2679, 20, 68)"
      ]
     },
     "execution_count": 776,
     "metadata": {},
     "output_type": "execute_result"
    }
   ],
   "source": [
    "X_f_embed"
   ]
  },
  {
   "cell_type": "code",
   "execution_count": null,
   "id": "fd535a4d",
   "metadata": {},
   "outputs": [],
   "source": []
  },
  {
   "cell_type": "code",
   "execution_count": 653,
   "id": "007d8792",
   "metadata": {
    "ExecuteTime": {
     "end_time": "2023-04-26T21:02:27.451731Z",
     "start_time": "2023-04-26T21:02:27.447350Z"
    }
   },
   "outputs": [
    {
     "data": {
      "text/plain": [
       "(2679, 1360)"
      ]
     },
     "execution_count": 653,
     "metadata": {},
     "output_type": "execute_result"
    }
   ],
   "source": [
    "X_f_linearized.shape"
   ]
  },
  {
   "cell_type": "code",
   "execution_count": 654,
   "id": "7654b09d",
   "metadata": {
    "ExecuteTime": {
     "end_time": "2023-04-26T21:02:34.857902Z",
     "start_time": "2023-04-26T21:02:29.892979Z"
    }
   },
   "outputs": [],
   "source": [
    "var_exp, pcs_lin  = pca(X_f_linearized)"
   ]
  },
  {
   "cell_type": "code",
   "execution_count": 655,
   "id": "b774f554",
   "metadata": {
    "ExecuteTime": {
     "end_time": "2023-04-26T21:02:36.335825Z",
     "start_time": "2023-04-26T21:02:36.332453Z"
    }
   },
   "outputs": [
    {
     "data": {
      "text/plain": [
       "(1360, 1360)"
      ]
     },
     "execution_count": 655,
     "metadata": {},
     "output_type": "execute_result"
    }
   ],
   "source": [
    "pcs_lin.shape"
   ]
  },
  {
   "cell_type": "code",
   "execution_count": 683,
   "id": "79ae2d38",
   "metadata": {
    "ExecuteTime": {
     "end_time": "2023-04-26T21:11:45.996825Z",
     "start_time": "2023-04-26T21:11:45.865272Z"
    }
   },
   "outputs": [
    {
     "data": {
      "text/plain": [
       "[<matplotlib.lines.Line2D at 0x7f0a206b0bb0>]"
      ]
     },
     "execution_count": 683,
     "metadata": {},
     "output_type": "execute_result"
    },
    {
     "data": {
      "image/png": "[encoded data removed]",
      "text/plain": [
       "<Figure size 640x480 with 1 Axes>"
      ]
     },
     "metadata": {},
     "output_type": "display_data"
    }
   ],
   "source": [
    "plt.plot(1-np.cumsum(var_exp[:20]))"
   ]
  },
  {
   "cell_type": "code",
   "execution_count": 669,
   "id": "479c53cd",
   "metadata": {
    "ExecuteTime": {
     "end_time": "2023-04-26T21:08:07.240701Z",
     "start_time": "2023-04-26T21:08:07.219109Z"
    }
   },
   "outputs": [],
   "source": [
    "def reduce_dim(X, mean, pcs, samplerate, num_comps=100):\n",
    "    X_center = X# - mean\n",
    "    if len(X_center.shape) == 2:\n",
    "        X_embed = np.apply_along_axis(embed_row, 1, X_center)\n",
    "        n, dimf, dimt = X_embed.shape\n",
    "        X_lin = X_embed.reshape(n, dimf*dimt)\n",
    "        fund_freqs = [get_fundamental(x, samplerate) for x in X]\n",
    "    else:\n",
    "        X_embed = embed_row(X_center)\n",
    "        dimf, dimt = X_embed.shape\n",
    "        X_lin = X_embed.reshape(dimf*dimt)\n",
    "        fund_freqs = [get_fundamental(X, samplerate)]\n",
    "    X_proj = X_lin @ pcs[:num_comps].T\n",
    "    return X_proj, fund_freqs\n",
    "\n",
    "def expand_dim(X_red, mean, pcs, fund, freqs, samplerate, num_partials=20, partial_width=5, num_comps=100):\n",
    "    X_proj = X_red @ pcs_lin[:num_comps]\n",
    "    if len(X_red.shape) == 2:\n",
    "        X_proj = X_proj.reshape(n, dimf, dimt)\n",
    "        partials_arr = [get_partials(fund_f, freqs, num_partials, 1) for fund_f in fund]\n",
    "        reconst = [embedding_inverse(x, ps, freqs, samplerate) for x, ps in zip(X_proj, partials_arr)]\n",
    "    else:\n",
    "        X_proj = X_proj.reshape(dimf, dimt)\n",
    "        ps = get_partials(fund, freqs, num_partials, partial_width)\n",
    "        reconst = embedding_inverse(X_proj, ps, freqs, samplerate)\n",
    "    reconst = np.array(reconst)\n",
    "    #reconst = reconst[:, :len(mean)] + mean\n",
    "    return reconst"
   ]
  },
  {
   "cell_type": "code",
   "execution_count": 684,
   "id": "305fbc18",
   "metadata": {
    "ExecuteTime": {
     "end_time": "2023-04-26T21:12:38.601480Z",
     "start_time": "2023-04-26T21:12:02.534654Z"
    }
   },
   "outputs": [],
   "source": [
    "n_comps = 10\n",
    "X_reduced, fund_freqs = reduce_dim(X, X_mean, pcs_lin, X_samplerate, num_comps=n_comps)\n",
    "X_f_reconst = expand_dim(X_reduced, X_mean, pcs_lin, fund_freqs, freqs, X_samplerate, num_partials=num_ps, partial_width=p_width, num_comps=n_comps)"
   ]
  },
  {
   "cell_type": "code",
   "execution_count": 685,
   "id": "2b45aa43",
   "metadata": {
    "ExecuteTime": {
     "end_time": "2023-04-26T21:12:42.272637Z",
     "start_time": "2023-04-26T21:12:42.139516Z"
    }
   },
   "outputs": [
    {
     "data": {
      "text/plain": [
       "<matplotlib.collections.QuadMesh at 0x7f0a206fceb0>"
      ]
     },
     "execution_count": 685,
     "metadata": {},
     "output_type": "execute_result"
    },
    {
     "data": {
      "image/png": "[encoded data removed]",
      "text/plain": [
       "<Figure size 640x480 with 1 Axes>"
      ]
     },
     "metadata": {},
     "output_type": "display_data"
    }
   ],
   "source": [
    "plt.pcolormesh(X_f[0])"
   ]
  },
  {
   "cell_type": "code",
   "execution_count": 749,
   "id": "27da3450",
   "metadata": {
    "ExecuteTime": {
     "end_time": "2023-04-26T21:28:26.027503Z",
     "start_time": "2023-04-26T21:28:25.776937Z"
    }
   },
   "outputs": [
    {
     "data": {
      "text/plain": [
       "[<matplotlib.lines.Line2D at 0x7f0a1aedacb0>]"
      ]
     },
     "execution_count": 749,
     "metadata": {},
     "output_type": "execute_result"
    },
    {
     "data": {
      "image/png": "[encoded data removed]",
      "text/plain": [
       "<Figure size 800x400 with 2 Axes>"
      ]
     },
     "metadata": {},
     "output_type": "display_data"
    }
   ],
   "source": [
    "test_ind = 2000\n",
    "test_fund_ind = np.argmax(X_f_reconst[test_ind].mean(axis=1))\n",
    "\n",
    "fig,axs = plt.subplots(1,2, figsize=(8,4))\n",
    "axs[0].plot(X_f[test_ind, test_fund_ind])\n",
    "#axs[1].plot(X_f_reconst[test_ind, test_fund_ind])\n",
    "axs[1].plot((X_reduced[test_ind] @ pcs_lin[:n_comps]).reshape(dimf,dimt)[1])"
   ]
  },
  {
   "cell_type": "code",
   "execution_count": 774,
   "id": "bc7b2363",
   "metadata": {
    "ExecuteTime": {
     "end_time": "2023-04-27T15:22:39.546469Z",
     "start_time": "2023-04-27T15:22:39.543707Z"
    }
   },
   "outputs": [],
   "source": [
    "#old_opts = np.get_printoptions()\n",
    "np.set_printoptions(**old_opts)"
   ]
  },
  {
   "cell_type": "code",
   "execution_count": 760,
   "id": "138f9a1b",
   "metadata": {
    "ExecuteTime": {
     "end_time": "2023-04-26T23:58:54.700006Z",
     "start_time": "2023-04-26T23:58:54.697377Z"
    }
   },
   "outputs": [],
   "source": [
    "np.set_printoptions(threshold=sys.maxsize)"
   ]
  },
  {
   "cell_type": "code",
   "execution_count": 770,
   "id": "78f17fcd",
   "metadata": {
    "ExecuteTime": {
     "end_time": "2023-04-27T15:16:24.315462Z",
     "start_time": "2023-04-27T15:16:24.309843Z"
    }
   },
   "outputs": [
    {
     "data": {
      "text/plain": [
       "1659"
      ]
     },
     "execution_count": 770,
     "metadata": {},
     "output_type": "execute_result"
    }
   ],
   "source": [
    "file_descs.index('Acc-ord-A4-ff-N-N')"
   ]
  },
  {
   "cell_type": "code",
   "execution_count": 771,
   "id": "f54eb7ce",
   "metadata": {
    "ExecuteTime": {
     "end_time": "2023-04-27T15:16:27.164087Z",
     "start_time": "2023-04-27T15:16:27.089173Z"
    }
   },
   "outputs": [
    {
     "data": {
      "text/plain": [
       "array([[ 395.31571744,  679.74516555,  505.37441529,  498.19140344,\n",
       "         595.97157432,  631.84914867,  649.85214808,  650.0633892 ,\n",
       "         656.04229135,  661.50435361,  690.57674277,  719.05129384,\n",
       "         750.06667721,  771.74925027,  777.93562823,  769.74337674,\n",
       "         786.31008353,  801.58882952,  798.4147532 ,  815.9620162 ,\n",
       "         837.2938626 ,  845.24559523,  842.38521096,  837.41517825,\n",
       "         842.64021667,  869.98985834,  880.69739345,  896.29033213,\n",
       "         901.16516026,  913.03297338,  924.58516723,  910.53435888,\n",
       "         927.09518213,  941.41044394,  935.75283627,  923.56633823,\n",
       "         910.34853757,  919.64899166,  914.67819693,  922.2887039 ,\n",
       "         898.43141576,  882.89909733,  887.66042941,  898.15187496,\n",
       "         907.28189483,  890.11204349,  861.77978984,  848.59133408,\n",
       "         860.49651509,  876.84084072,  869.30858394,  845.88965937,\n",
       "         820.51835236,  824.64136924,  847.96782552,  870.45293608,\n",
       "         865.43448305,  865.82146061,  875.72328227,  894.61772246,\n",
       "         888.6127825 ,  860.51391615,  893.4959595 ,  925.11179417,\n",
       "         960.07462538, 1015.91674044, 1125.77615458,  626.08191491],\n",
       "       [ 608.921545  , 1828.82830941, 2164.54010409, 2429.3755284 ,\n",
       "        2544.10819122, 2598.54129717, 2656.00925687, 2717.60906758,\n",
       "        2717.12676944, 2730.55123416, 2708.51911447, 2750.6502082 ,\n",
       "        2793.90412541, 2829.23530896, 2882.06192829, 2829.12404183,\n",
       "        2774.22743848, 2805.68432693, 2861.14883176, 2928.50775875,\n",
       "        2900.66539634, 2846.61843676, 2821.71295337, 2817.34821423,\n",
       "        2863.90768008, 2888.26921268, 2886.26343242, 2851.06902337,\n",
       "        2847.1458247 , 2897.14318064, 2949.50469979, 2956.41678158,\n",
       "        2921.01179649, 2879.79599157, 2879.96073044, 2909.01328177,\n",
       "        2931.25059601, 2948.09354474, 2920.31913279, 2896.88879766,\n",
       "        2883.86700301, 2901.11057816, 2931.47259289, 2943.23384727,\n",
       "        2940.86486447, 2893.69487809, 2886.48809994, 2913.92839196,\n",
       "        2945.91026732, 2956.90473086, 2942.46636058, 2934.8822408 ,\n",
       "        2913.28834461, 2926.03994737, 2960.50194706, 2954.32630778,\n",
       "        2964.37902184, 2965.17087975, 2925.63193347, 2953.33088969,\n",
       "        2965.68748239, 2947.72840292, 2950.21562406, 2926.98574591,\n",
       "        2923.15356176, 2933.18242575, 3126.21652239, 1587.80041711],\n",
       "       [ 195.08144156,  340.89094928,  376.61744894,  395.1896013 ,\n",
       "         383.22176519,  380.46638562,  376.97875898,  400.33650575,\n",
       "         389.78421331,  407.6581802 ,  419.59989693,  429.36123098,\n",
       "         425.84737364,  409.77933133,  414.18989828,  414.17828659,\n",
       "         431.26721528,  450.78903294,  463.875029  ,  458.34179344,\n",
       "         432.42011787,  427.37257305,  425.97669208,  440.65440272,\n",
       "         434.04161104,  406.91087357,  407.16626011,  422.15192636,\n",
       "         445.98683089,  465.72358979,  455.32626172,  444.61089502,\n",
       "         457.91622334,  463.04214996,  471.36253754,  464.17498171,\n",
       "         470.75997297,  489.73335873,  490.57991039,  485.86779997,\n",
       "         482.47607204,  504.17917522,  520.01635688,  521.13643429,\n",
       "         516.10502657,  517.80046263,  534.08284514,  551.70625663,\n",
       "         562.47909324,  548.22177416,  529.29706569,  528.2434031 ,\n",
       "         538.18656473,  551.47825827,  559.11061885,  555.55245249,\n",
       "         565.72050151,  565.01331254,  559.32700708,  560.82093468,\n",
       "         556.59734164,  548.79067024,  553.90082174,  553.58549608,\n",
       "         552.05807909,  545.96254386,  599.77938345,  308.43556951],\n",
       "       [ 113.24537937,  178.5965696 ,  213.98394207,  246.75975597,\n",
       "         244.13305679,  250.18249746,  259.38126253,  258.0687636 ,\n",
       "         267.89163366,  270.24421688,  277.1917387 ,  294.89007923,\n",
       "         300.2822023 ,  295.75185332,  306.23572873,  307.60314248,\n",
       "         312.69187709,  310.66277853,  310.59099174,  322.59407971,\n",
       "         321.77627134,  328.37013345,  315.94219964,  307.24181931,\n",
       "         309.96303986,  320.15028594,  340.31362119,  338.66824875,\n",
       "         333.52645814,  350.65843069,  359.82044213,  367.44070551,\n",
       "         382.52113492,  374.3404666 ,  368.96942129,  382.44891643,\n",
       "         396.15604244,  409.07233617,  397.64659799,  378.76766251,\n",
       "         370.09811615,  390.63853944,  405.78652064,  412.77912482,\n",
       "         393.41731864,  377.49235765,  387.99809723,  411.035024  ,\n",
       "         416.70931285,  405.00631959,  385.44329743,  370.51641549,\n",
       "         380.99442375,  381.34519552,  384.77198092,  377.31613073,\n",
       "         374.97615081,  381.4920645 ,  386.77531068,  396.31351186,\n",
       "         395.53434809,  385.20456336,  390.6040836 ,  397.25743423,\n",
       "         409.33993281,  412.91798701,  444.03605767,  239.50258213],\n",
       "       [  87.03975567,  319.87963244,  469.39040432,  589.99555622,\n",
       "         634.07023645,  639.96873187,  665.28802422,  686.45254997,\n",
       "         706.20230778,  714.40265339,  716.24678447,  731.79284607,\n",
       "         756.02141429,  771.82557962,  774.11491706,  770.00432144,\n",
       "         784.80165153,  799.89219746,  805.92046642,  797.21816379,\n",
       "         792.61520661,  795.47785579,  798.84136641,  804.74202582,\n",
       "         790.19375153,  790.8476595 ,  802.1726963 ,  808.68162062,\n",
       "         817.086403  ,  812.54927898,  806.06427642,  814.23991324,\n",
       "         814.06583892,  815.53904071,  796.87969376,  785.30645038,\n",
       "         794.3610724 ,  792.91656154,  792.67405325,  774.8609987 ,\n",
       "         763.29942624,  776.52334612,  793.45064217,  798.76604307,\n",
       "         795.0485306 ,  786.20085364,  785.7769122 ,  794.33930324,\n",
       "         797.98463809,  790.06789122,  775.39472373,  773.10472181,\n",
       "         773.18218879,  776.56438972,  773.47658913,  770.24387855,\n",
       "         772.42034629,  770.39884771,  774.26912079,  786.1013197 ,\n",
       "         781.2061598 ,  768.95430302,  766.06552213,  768.6238099 ,\n",
       "         773.0930612 ,  781.94777472,  833.28643665,  458.64983125],\n",
       "       [  33.36119359,   42.17792838,   45.16827745,   55.75322122,\n",
       "          81.39445233,   72.81226545,   78.19900785,   76.01784181,\n",
       "          77.16211644,   77.99417847,   73.4344259 ,   77.92723657,\n",
       "          85.54928808,   83.53843263,   86.83188621,   95.59724878,\n",
       "         103.61125198,  111.1297168 ,  107.69593638,  103.33492081,\n",
       "         107.03880625,  110.12141957,  115.86415083,  113.84133823,\n",
       "         103.24829575,  105.28332342,  114.65812796,  117.4043801 ,\n",
       "         114.22561077,  118.34450824,  118.68148046,  126.48075962,\n",
       "         136.63708917,  140.36142929,  136.01300649,  132.91295282,\n",
       "         139.02577407,  149.18306243,  148.93837818,  145.28526989,\n",
       "         140.96379869,  144.50136827,  153.68401829,  159.18692227,\n",
       "         157.11794768,  153.99157201,  150.61978589,  153.20537034,\n",
       "         164.71241534,  165.96415334,  160.2967103 ,  155.91981497,\n",
       "         149.29361459,  158.11338516,  169.08315914,  173.26786838,\n",
       "         173.59444557,  173.31420214,  175.38124802,  180.9719891 ,\n",
       "         184.17823552,  178.96872371,  169.95508313,  170.5850304 ,\n",
       "         175.44588288,  180.15981671,  200.31316467,  135.30525934],\n",
       "       [  18.38092272,   12.23043965,   34.50714115,   52.33432142,\n",
       "          67.29351734,   67.07329425,   62.63997417,   57.1678943 ,\n",
       "          66.19726488,   63.60613882,   65.33775389,   70.34363151,\n",
       "          71.85011781,   70.33509036,   67.76532049,   70.86086576,\n",
       "          72.0397356 ,   63.66720299,   67.58271213,   69.7255901 ,\n",
       "          69.66393815,   64.96115283,   60.97004994,   60.25076152,\n",
       "          60.04088298,   61.94327223,   60.02264129,   58.56831591,\n",
       "          58.66340822,   62.83692886,   69.09672333,   66.43712832,\n",
       "          69.51043789,   66.59427916,   68.3720402 ,   73.77812762,\n",
       "          76.14138095,   79.57354578,   81.93956832,   80.7389755 ,\n",
       "          86.52398717,   89.21075518,   90.47380004,   96.21684664,\n",
       "          95.38911314,   98.87892069,   97.47387173,   98.00260664,\n",
       "         103.0784438 ,  104.06910375,  104.98678235,  104.29931573,\n",
       "         104.55664713,  108.7398968 ,  114.775095  ,  115.84558581,\n",
       "         116.88358571,  113.0443954 ,  110.48580712,  108.1804547 ,\n",
       "         105.94654954,  104.57723332,  103.86332196,  105.51648113,\n",
       "         103.21055078,  101.51867528,  114.78002087,   83.44076986],\n",
       "       [   8.52307511,   -3.755434  ,    5.58625238,    6.25526601,\n",
       "          17.74259719,   22.72267108,   24.74505604,   26.19919076,\n",
       "          33.66997091,   35.7286731 ,   35.2693618 ,   39.4898767 ,\n",
       "          43.57640664,   42.10288857,   40.01523924,   41.15520963,\n",
       "          41.16932081,   40.44413202,   45.09646436,   47.26224246,\n",
       "          45.21625606,   44.37423317,   45.2740891 ,   49.79375137,\n",
       "          52.87551545,   51.05594839,   49.93326217,   53.19943305,\n",
       "          56.74561141,   56.94351984,   55.39547009,   56.55854378,\n",
       "          61.6903637 ,   60.01797004,   58.10913466,   61.2700428 ,\n",
       "          61.51633276,   63.78924022,   65.76513685,   67.90778945,\n",
       "          68.76569945,   70.74219907,   70.69948895,   76.88219178,\n",
       "          74.92861925,   77.18045667,   77.31973456,   75.45029553,\n",
       "          82.53127527,   79.52819605,   82.89540848,   89.80627282,\n",
       "          85.150411  ,   88.12904946,   87.30244102,   87.37946833,\n",
       "          91.94179387,   92.75053001,   89.64934392,   86.52759466,\n",
       "          84.42935466,   84.60655263,   88.57577343,   88.24329897,\n",
       "          88.3536043 ,   84.86748294,   95.45192316,   75.71251258],\n",
       "       [   7.13117718,    3.55808611,   25.24315063,   31.00601309,\n",
       "          45.93164112,   49.76246857,   49.61755389,   46.86300431,\n",
       "          49.00747076,   51.16830459,   55.07454124,   61.53878086,\n",
       "          64.05470227,   64.79223552,   66.51322064,   67.67539723,\n",
       "          70.19308417,   68.17723446,   71.02800635,   69.7656692 ,\n",
       "          70.45498171,   74.36431373,   69.44231594,   69.19242616,\n",
       "          71.86281589,   74.8284382 ,   77.13573445,   71.8848908 ,\n",
       "          73.84002201,   74.46227585,   74.91780039,   82.7667584 ,\n",
       "          82.05406445,   75.49766707,   76.83970848,   78.04539399,\n",
       "          82.53729316,   87.4835303 ,   81.1739093 ,   78.62393061,\n",
       "          81.35975481,   83.51072266,   90.07063158,   86.77420582,\n",
       "          77.8625125 ,   78.75870095,   76.92888026,   85.19170112,\n",
       "          89.45647432,   81.46313638,   77.82615798,   79.13478214,\n",
       "          84.01663425,   86.99595767,   83.64135747,   80.91460151,\n",
       "          82.71364714,   85.13394   ,   83.41779451,   84.80026147,\n",
       "          77.68724594,   72.71636996,   77.66108592,   84.09618605,\n",
       "          86.50980568,   85.13090041,   89.04023189,   71.39650223],\n",
       "       [   9.80326063,   17.12361527,   17.31375649,   21.00910413,\n",
       "          26.06505911,   22.39665582,   22.72643768,   22.37776752,\n",
       "          23.29572458,   23.98087799,   24.92026138,   28.38683012,\n",
       "          32.08306348,   32.59720507,   37.16245982,   36.92994006,\n",
       "          39.36431329,   36.73502458,   35.74190046,   38.95735886,\n",
       "          39.60903891,   40.41498856,   36.72332397,   34.44249022,\n",
       "          34.60712118,   38.00099922,   38.97908157,   36.09980936,\n",
       "          35.41207924,   38.09707973,   38.50839669,   43.03787285,\n",
       "          44.10869868,   39.63209513,   40.88767014,   36.96947836,\n",
       "          40.74009289,   45.13916681,   43.18891986,   44.38602316,\n",
       "          39.21677466,   39.83268358,   46.40041071,   49.1389891 ,\n",
       "          47.84644871,   47.6491246 ,   44.13777303,   51.97419097,\n",
       "          54.10320164,   53.07873054,   51.63660233,   48.48703596,\n",
       "          49.53196515,   54.73463609,   53.78921881,   54.21526782,\n",
       "          53.30191164,   48.10785463,   48.8592963 ,   48.9608424 ,\n",
       "          49.18528637,   45.12269705,   43.9036651 ,   43.9462654 ,\n",
       "          47.25141685,   49.63232789,   56.11570135,   53.89328699],\n",
       "       [  12.26465883,   29.35967025,   25.05585936,   25.30679226,\n",
       "          28.1475961 ,   29.31350167,   30.14001631,   30.59436823,\n",
       "          32.65109471,   36.08143144,   41.52045136,   45.40088392,\n",
       "          48.04839801,   43.17918419,   39.65982701,   38.40363578,\n",
       "          39.40853276,   43.27783049,   46.03101284,   46.54013837,\n",
       "          42.24279859,   44.0890297 ,   47.60461157,   46.40498486,\n",
       "          44.83305703,   41.6202599 ,   41.94926176,   45.75683917,\n",
       "          47.23385331,   47.01261714,   46.46728948,   45.8950074 ,\n",
       "          48.56428966,   47.83971303,   47.45865431,   47.4116298 ,\n",
       "          45.00399794,   49.6420586 ,   49.79033921,   50.90412997,\n",
       "          50.41327329,   51.22312447,   52.79816848,   56.45338276,\n",
       "          57.25569896,   58.43774794,   56.05605842,   55.80292485,\n",
       "          59.75872519,   57.43023304,   59.75150289,   59.88514077,\n",
       "          56.72970461,   58.49390922,   59.04834787,   62.85777854,\n",
       "          65.49808316,   62.2297888 ,   59.12738966,   58.22180486,\n",
       "          61.44307706,   62.27740638,   60.45122526,   59.19510385,\n",
       "          59.45611652,   62.369989  ,   74.3677439 ,   56.27431548],\n",
       "       [  13.44013729,   32.60542833,   26.94236615,   32.90448317,\n",
       "          29.75795002,   28.857067  ,   24.77966129,   24.64030186,\n",
       "          25.89310107,   27.7267423 ,   28.85695145,   29.96115332,\n",
       "          31.60236394,   32.68143078,   33.04933196,   30.82190803,\n",
       "          28.65443988,   29.98347696,   33.65096301,   34.85689367,\n",
       "          30.72393973,   31.88843202,   32.96800003,   34.47673349,\n",
       "          33.61548759,   30.54515515,   33.62538582,   33.74633305,\n",
       "          38.46938927,   37.88872759,   34.66175228,   38.65896615,\n",
       "          39.09826839,   38.58656757,   35.95006427,   33.01855878,\n",
       "          34.64651673,   37.68929486,   39.52615351,   37.97664227,\n",
       "          37.96270856,   37.44818144,   38.19827035,   41.73901412,\n",
       "          42.14862399,   42.66646476,   39.63630627,   39.13088165,\n",
       "          45.00210741,   46.97106963,   47.6151236 ,   45.2848595 ,\n",
       "          43.18672195,   48.22255151,   49.81103733,   49.67070594,\n",
       "          46.96079308,   41.61354244,   41.70604436,   43.99780673,\n",
       "          45.7950358 ,   46.28284202,   43.18231439,   44.46856428,\n",
       "          47.993785  ,   51.3734677 ,   57.4799642 ,   43.16341539],\n",
       "       [  12.3824874 ,   23.84115108,   17.01769294,   26.3414833 ,\n",
       "          31.28970819,   31.52757001,   27.78663995,   25.21920975,\n",
       "          27.66156606,   29.67542398,   33.45962263,   34.29792285,\n",
       "          32.20157893,   33.83996365,   33.62864135,   35.69240581,\n",
       "          35.07525885,   34.98014212,   35.33194874,   35.41578325,\n",
       "          35.14284559,   34.45309445,   34.58412763,   34.93800489,\n",
       "          33.84688328,   32.19925965,   34.79975525,   33.09380443,\n",
       "          35.01012434,   34.86419013,   34.80250469,   36.92279044,\n",
       "          37.52493266,   39.09467047,   39.50757465,   40.5016835 ,\n",
       "          42.3010188 ,   41.31664299,   41.31807197,   39.47912485,\n",
       "          39.49095841,   40.02151546,   38.86663717,   40.88561128,\n",
       "          41.38506192,   41.97234106,   41.82961578,   41.96412607,\n",
       "          42.50188806,   43.00310083,   44.55856765,   43.43615476,\n",
       "          44.70677452,   46.78996343,   44.9109153 ,   48.49088231,\n",
       "          49.02765538,   47.13592596,   46.8720856 ,   43.25937995,\n",
       "          45.51265773,   42.56969901,   39.42261081,   43.93205551,\n",
       "          46.55776896,   48.40063172,   53.93002884,   41.44145049],\n",
       "       [   9.14705277,   18.32780357,   17.60674013,   27.47258129,\n",
       "          32.8897536 ,   27.26176356,   23.55125004,   20.45399939,\n",
       "          21.40766859,   19.29519887,   20.94064662,   22.75231851,\n",
       "          23.74175668,   24.67996725,   23.73629966,   23.98376214,\n",
       "          22.6462039 ,   23.37049525,   22.98229995,   22.53893886,\n",
       "          21.52515582,   20.72170512,   18.30133454,   18.2715903 ,\n",
       "          20.90842456,   19.87656247,   22.17848178,   19.92857263,\n",
       "          18.91225777,   19.62202287,   19.21460981,   20.85474831,\n",
       "          21.40969082,   18.98065905,   18.68095919,   20.06538147,\n",
       "          21.24727425,   25.00143237,   23.37157961,   21.07480613,\n",
       "          20.58317282,   19.49847067,   20.30734211,   23.04870787,\n",
       "          22.53793275,   24.61295776,   22.64358817,   25.9231422 ,\n",
       "          28.20188233,   28.98562127,   28.68032569,   26.04249356,\n",
       "          28.94541782,   30.870445  ,   30.41740646,   31.32107697,\n",
       "          31.58042026,   31.13022683,   32.88580638,   31.86625154,\n",
       "          34.71350786,   31.80906874,   27.43972258,   32.35835997,\n",
       "          33.20514093,   34.22990477,   38.41172434,   31.86276133],\n",
       "       [  13.05155405,   28.95712352,   29.6290102 ,   34.40128394,\n",
       "          35.15086261,   28.37456927,   28.69947043,   28.83498439,\n",
       "          28.24004092,   25.43922593,   25.95445044,   27.59005814,\n",
       "          33.73789411,   30.76104598,   28.19468939,   31.68922544,\n",
       "          31.61233608,   34.22974539,   32.74166976,   30.9944911 ,\n",
       "          29.17731943,   29.80988844,   27.63751398,   29.12888489,\n",
       "          32.34987312,   31.13002598,   32.79881981,   30.28751075,\n",
       "          30.3645315 ,   31.10477561,   29.62554661,   31.16005287,\n",
       "          33.3017751 ,   30.29540167,   30.49647237,   32.26521231,\n",
       "          32.27528819,   34.50658003,   34.2741346 ,   31.70170758,\n",
       "          33.21618571,   33.74387409,   34.24045217,   36.71297238,\n",
       "          35.35265976,   36.71966722,   35.34532869,   38.27388937,\n",
       "          40.10555866,   40.63172286,   39.30839855,   36.28393143,\n",
       "          36.9540478 ,   41.41005184,   44.61486816,   43.63475665,\n",
       "          43.46068832,   42.09866043,   41.47738074,   42.47593656,\n",
       "          43.60528865,   39.19462965,   36.18832557,   40.63425769,\n",
       "          41.7838438 ,   46.60507987,   47.63835119,   33.31649488],\n",
       "       [  15.72706617,   34.94932077,   30.00089951,   28.6353228 ,\n",
       "          26.36281304,   22.78134181,   21.6229398 ,   21.50152383,\n",
       "          21.49950823,   19.2190916 ,   19.31182614,   20.91711182,\n",
       "          27.1823533 ,   26.29064338,   23.99178638,   27.85498209,\n",
       "          28.07043302,   28.71995265,   28.48219401,   26.13911155,\n",
       "          27.2416255 ,   25.93723223,   26.89729382,   26.50072122,\n",
       "          28.91387368,   29.72181189,   29.34642667,   26.17622105,\n",
       "          26.80575227,   27.82270946,   29.37356401,   30.44331652,\n",
       "          32.25287205,   31.14709023,   28.70303878,   30.70254324,\n",
       "          32.7938256 ,   33.08276537,   33.79541516,   31.91565479,\n",
       "          32.53320776,   34.4357287 ,   33.73159362,   34.13855108,\n",
       "          33.29091081,   31.94660224,   33.76865827,   34.29572728,\n",
       "          34.48479478,   35.94411282,   35.62943951,   34.76482713,\n",
       "          33.762417  ,   38.11468968,   38.23333322,   40.35042041,\n",
       "          39.22447431,   37.45715225,   35.50436076,   34.17942243,\n",
       "          37.41363803,   36.49419463,   37.14435868,   36.22570284,\n",
       "          34.8526647 ,   39.99410959,   43.302892  ,   31.20194715],\n",
       "       [  18.49524098,   36.66460803,   34.13385581,   37.63483801,\n",
       "          39.26245036,   33.66318347,   28.67806286,   26.43346279,\n",
       "          25.50880459,   23.48537669,   22.47965988,   22.86205041,\n",
       "          25.76233181,   25.92181736,   26.11033623,   29.37589669,\n",
       "          31.17885662,   31.34879149,   31.00315029,   29.73068851,\n",
       "          29.37560654,   27.695462  ,   29.21597977,   29.64399167,\n",
       "          29.62301816,   28.74478045,   28.47995359,   28.48372263,\n",
       "          30.23790102,   29.60664834,   29.48350693,   32.22977825,\n",
       "          32.08790613,   31.45063512,   30.63370624,   33.57742575,\n",
       "          34.68594929,   34.6961714 ,   34.37318985,   32.99202028,\n",
       "          36.28205927,   38.4057045 ,   37.99223838,   38.95362674,\n",
       "          35.81516228,   36.444992  ,   38.15344935,   37.97547339,\n",
       "          38.03704474,   38.61819788,   37.06802665,   37.24643982,\n",
       "          35.02359619,   40.12650659,   40.16926689,   41.11224787,\n",
       "          40.35386016,   40.50683626,   40.40281183,   39.66006451,\n",
       "          40.73426378,   40.9680568 ,   39.43320123,   37.00329593,\n",
       "          36.70132095,   39.51767898,   43.53793784,   27.2442565 ],\n",
       "       [  16.41469348,   32.41328773,   35.90460101,   33.3868592 ,\n",
       "          29.24451187,   22.64888547,   18.04817902,   18.05865005,\n",
       "          16.61085732,   14.7654312 ,   14.50164785,   16.13951929,\n",
       "          16.70475966,   19.46134976,   22.57869997,   22.38274187,\n",
       "          24.05665417,   23.64849593,   23.51859862,   23.83902717,\n",
       "          23.19181294,   23.10578098,   24.34517149,   23.80430662,\n",
       "          23.57495076,   24.37902781,   24.93216365,   25.07477728,\n",
       "          27.04401917,   29.60463171,   28.92664516,   28.46563608,\n",
       "          27.00111971,   28.474418  ,   29.88475631,   31.29455549,\n",
       "          30.5072262 ,   29.15431921,   29.30965786,   30.23906208,\n",
       "          30.62789819,   30.89252731,   31.42801148,   31.94605369,\n",
       "          31.0193672 ,   30.4632662 ,   31.3128186 ,   31.62356914,\n",
       "          32.69897503,   33.28066881,   31.87723816,   31.09361034,\n",
       "          28.25758246,   29.90143565,   29.35434477,   31.19959538,\n",
       "          32.27967484,   33.18862364,   33.0737807 ,   31.54369964,\n",
       "          32.34046304,   33.72358754,   32.83859365,   30.67806704,\n",
       "          31.19622339,   29.8005759 ,   33.76389647,   23.11402068],\n",
       "       [  19.98416498,   37.89886595,   47.10464443,   42.24729478,\n",
       "          37.96123424,   27.83168352,   21.27060934,   18.39728165,\n",
       "          18.44563035,   19.57775262,   19.57116634,   18.90647777,\n",
       "          21.14032979,   22.25502565,   24.51291564,   24.1538732 ,\n",
       "          24.93425438,   25.28734022,   23.61730424,   23.86208418,\n",
       "          26.77199912,   25.15668153,   27.68961055,   28.85555082,\n",
       "          26.00660803,   26.91530251,   28.2049119 ,   29.50985042,\n",
       "          29.47633842,   27.08642266,   27.51018833,   29.40046732,\n",
       "          28.78211314,   31.51760338,   31.52429747,   32.14117508,\n",
       "          31.04784259,   31.48417638,   32.21469746,   30.6861854 ,\n",
       "          29.97382146,   30.12127258,   28.88856553,   30.54943553,\n",
       "          28.10948909,   27.70503013,   28.40399114,   29.96673589,\n",
       "          34.06071535,   34.73507405,   33.25766102,   29.95125101,\n",
       "          29.9393607 ,   31.51774547,   35.13699691,   34.28752379,\n",
       "          33.33513626,   30.21427415,   31.04229554,   32.60038195,\n",
       "          32.2146698 ,   32.67312756,   30.72573765,   28.43274479,\n",
       "          30.02158974,   32.21084046,   36.81202257,   21.26107448],\n",
       "       [   0.        ,    0.        ,    0.        ,    0.        ,\n",
       "           0.        ,    0.        ,    0.        ,    0.        ,\n",
       "           0.        ,    0.        ,    0.        ,    0.        ,\n",
       "           0.        ,    0.        ,    0.        ,    0.        ,\n",
       "           0.        ,    0.        ,    0.        ,    0.        ,\n",
       "           0.        ,    0.        ,    0.        ,    0.        ,\n",
       "           0.        ,    0.        ,    0.        ,    0.        ,\n",
       "           0.        ,    0.        ,    0.        ,    0.        ,\n",
       "           0.        ,    0.        ,    0.        ,    0.        ,\n",
       "           0.        ,    0.        ,    0.        ,    0.        ,\n",
       "           0.        ,    0.        ,    0.        ,    0.        ,\n",
       "           0.        ,    0.        ,    0.        ,    0.        ,\n",
       "           0.        ,    0.        ,    0.        ,    0.        ,\n",
       "           0.        ,    0.        ,    0.        ,    0.        ,\n",
       "           0.        ,    0.        ,    0.        ,    0.        ,\n",
       "           0.        ,    0.        ,    0.        ,    0.        ,\n",
       "           0.        ,    0.        ,    0.        ,    0.        ]])"
      ]
     },
     "execution_count": 771,
     "metadata": {},
     "output_type": "execute_result"
    }
   ],
   "source": [
    "(X_reduced[1659] @ pcs_lin[:n_comps]).reshape(dimf,dimt)"
   ]
  },
  {
   "cell_type": "code",
   "execution_count": 746,
   "id": "cb8a618a",
   "metadata": {
    "ExecuteTime": {
     "end_time": "2023-04-26T21:25:48.623607Z",
     "start_time": "2023-04-26T21:25:48.479571Z"
    }
   },
   "outputs": [
    {
     "data": {
      "text/plain": [
       "<matplotlib.collections.QuadMesh at 0x7f0a1af76f50>"
      ]
     },
     "execution_count": 746,
     "metadata": {},
     "output_type": "execute_result"
    },
    {
     "data": {
      "image/png": "[encoded data removed]",
      "text/plain": [
       "<Figure size 640x480 with 1 Axes>"
      ]
     },
     "metadata": {},
     "output_type": "display_data"
    }
   ],
   "source": [
    "plt.pcolormesh(X_f_reconst[test_ind])"
   ]
  },
  {
   "cell_type": "code",
   "execution_count": 745,
   "id": "8983b225",
   "metadata": {
    "ExecuteTime": {
     "end_time": "2023-04-26T21:25:20.286653Z",
     "start_time": "2023-04-26T21:25:20.166281Z"
    }
   },
   "outputs": [
    {
     "data": {
      "text/plain": [
       "<matplotlib.collections.QuadMesh at 0x7f0a1af34790>"
      ]
     },
     "execution_count": 745,
     "metadata": {},
     "output_type": "execute_result"
    },
    {
     "data": {
      "image/png": "[encoded data removed]",
      "text/plain": [
       "<Figure size 640x480 with 1 Axes>"
      ]
     },
     "metadata": {},
     "output_type": "display_data"
    }
   ],
   "source": [
    "plt.pcolormesh((pcs_lin[:n_comps].reshape(n_comps, dimf, dimt).T @ X_reduced[test_ind]).T"
   ]
  },
  {
   "cell_type": "code",
   "execution_count": 747,
   "id": "3c6328c1",
   "metadata": {
    "ExecuteTime": {
     "end_time": "2023-04-26T21:26:32.968750Z",
     "start_time": "2023-04-26T21:26:32.955973Z"
    }
   },
   "outputs": [
    {
     "data": {
      "text/plain": [
       "(68, 20, 10)"
      ]
     },
     "execution_count": 747,
     "metadata": {},
     "output_type": "execute_result"
    }
   ],
   "source": [
    "pcs_lin[:n_comps].reshape(n_comps, dimf, dimt).T.shape"
   ]
  },
  {
   "cell_type": "code",
   "execution_count": 732,
   "id": "3f97c1db",
   "metadata": {
    "ExecuteTime": {
     "end_time": "2023-04-26T21:23:50.955272Z",
     "start_time": "2023-04-26T21:23:50.951879Z"
    }
   },
   "outputs": [
    {
     "data": {
      "text/plain": [
       "(10,)"
      ]
     },
     "execution_count": 732,
     "metadata": {},
     "output_type": "execute_result"
    }
   ],
   "source": [
    "X_reduced[test_ind].shape"
   ]
  },
  {
   "cell_type": "code",
   "execution_count": 686,
   "id": "6a7ff9a3",
   "metadata": {
    "ExecuteTime": {
     "end_time": "2023-04-26T21:12:48.503985Z",
     "start_time": "2023-04-26T21:12:48.338525Z"
    }
   },
   "outputs": [
    {
     "data": {
      "text/plain": [
       "<matplotlib.collections.QuadMesh at 0x7f0a21177760>"
      ]
     },
     "execution_count": 686,
     "metadata": {},
     "output_type": "execute_result"
    },
    {
     "data": {
      "image/png": "[encoded data removed]",
      "text/plain": [
       "<Figure size 640x480 with 1 Axes>"
      ]
     },
     "metadata": {},
     "output_type": "display_data"
    }
   ],
   "source": [
    "plt.pcolormesh(X_f_reconst[0])"
   ]
  },
  {
   "cell_type": "code",
   "execution_count": 779,
   "id": "bf1acefb",
   "metadata": {
    "ExecuteTime": {
     "end_time": "2023-04-27T15:26:38.235326Z",
     "start_time": "2023-04-27T15:26:37.742812Z"
    }
   },
   "outputs": [],
   "source": [
    "kmeans = KMeans(n_clusters=14, random_state=0, n_init=\"auto\").fit(X_f_linearized)"
   ]
  },
  {
   "cell_type": "code",
   "execution_count": 781,
   "id": "fcad27ab",
   "metadata": {
    "ExecuteTime": {
     "end_time": "2023-04-27T15:26:53.703056Z",
     "start_time": "2023-04-27T15:26:53.669994Z"
    }
   },
   "outputs": [
    {
     "data": {
      "text/plain": [
       "['TpC-ord-D5-ff-N-N',\n",
       " 'TpC-ord-G#3-pp-N-N',\n",
       " 'TpC-ord-C6-pp-N-N',\n",
       " 'TpC-ord-C6-ff-N-T17u',\n",
       " 'TpC-ord-F5-ff-N-N',\n",
       " 'TpC-ord-E4-ff-N-N',\n",
       " 'TpC-ord-B4-mf-N-N',\n",
       " 'TpC-ord-A4-mf-N-T19u',\n",
       " 'TpC-ord-B3-pp-N-N',\n",
       " 'TpC-ord-F4-pp-N-T12u',\n",
       " 'TpC-ord-G#5-ff-N-N',\n",
       " 'TpC-ord-E5-ff-N-N',\n",
       " 'TpC-ord-D4-pp-N-T18u',\n",
       " 'TpC-ord-A#4-mf-N-N',\n",
       " 'TpC-ord-E4-mf-N-T11u',\n",
       " 'TpC-ord-G3-mf-N-T12u',\n",
       " 'TpC-ord-D#5-mf-N-N',\n",
       " 'TpC-ord-G4-mf-N-T15u',\n",
       " 'TpC-ord-C#5-mf-N-T17u',\n",
       " 'TpC-ord-G#4-mf-N-N',\n",
       " 'TpC-ord-A3-pp-N-T10d',\n",
       " 'TpC-ord-B5-mf-N-T13u',\n",
       " 'TpC-ord-C4-ff-N-N',\n",
       " 'TpC-ord-G5-ff-N-N',\n",
       " 'TpC-ord-C#5-ff-N-N',\n",
       " 'TpC-ord-B5-pp-N-N',\n",
       " 'TpC-ord-C#6-mf-N-T10u',\n",
       " 'TpC-ord-F4-mf-N-T25u',\n",
       " 'TpC-ord-G5-pp-N-T25d',\n",
       " 'TpC-ord-D5-pp-N-N',\n",
       " 'TpC-ord-G#5-mf-N-N',\n",
       " 'TpC-ord-E5-mf-N-R100u',\n",
       " 'TpC-ord-F5-mf-N-T11d',\n",
       " 'TpC-ord-G#5-pp-N-T23d',\n",
       " 'TpC-ord-F#4-mf-N-T16u',\n",
       " 'TpC-ord-A3-ff-N-T23u',\n",
       " 'TpC-ord-F4-ff-N-T17u',\n",
       " 'TpC-ord-E4-pp-N-N',\n",
       " 'TpC-ord-D#4-mf-N-T16u',\n",
       " 'TpC-ord-C6-mf-N-T11u',\n",
       " 'TpC-ord-G4-ff-N-N',\n",
       " 'TpC-ord-F#4-pp-N-T12u',\n",
       " 'TpC-ord-F5-pp-N-T12d',\n",
       " 'TpC-ord-C#4-pp-N-T11u',\n",
       " 'TpC-ord-A#3-mf-N-N',\n",
       " 'TpC-ord-A3-mf-N-N',\n",
       " 'TpC-ord-C4-mf-N-N',\n",
       " 'TpC-ord-A4-pp-N-N',\n",
       " 'TpC-ord-D#5-ff-N-N',\n",
       " 'TpC-ord-C#4-ff-N-T39u',\n",
       " 'TpC-ord-A5-pp-N-T26d',\n",
       " 'TpC-ord-D5-mf-N-T14u',\n",
       " 'TpC-ord-A#3-ff-N-T23u_R100u',\n",
       " 'TpC-ord-A#3-pp-N-N',\n",
       " 'TpC-ord-B3-mf-N-N',\n",
       " 'TpC-ord-A#5-pp-N-N',\n",
       " 'TpC-ord-G#3-ff-N-T23u_R100d',\n",
       " 'TpC-ord-C4-pp-N-T10d',\n",
       " 'TpC-ord-F#5-mf-N-T10d',\n",
       " 'TpC-ord-A#5-mf-N-N',\n",
       " 'TpC-ord-D#5-pp-N-N',\n",
       " 'TpC-ord-G3-ff-N-T21u',\n",
       " 'TpC-ord-C5-mf-N-N',\n",
       " 'TpC-ord-C5-pp-N-T11d',\n",
       " 'TpC-ord-G5-mf-N-N',\n",
       " 'TpC-ord-D6-pp-N-N',\n",
       " 'TpC-ord-G#4-pp-N-N',\n",
       " 'TpC-ord-C#4-mf-N-T17u',\n",
       " 'TpC-ord-D#4-pp-N-N',\n",
       " 'TpC-ord-C#6-pp-N-N',\n",
       " 'TpC-ord-D6-mf-N-N',\n",
       " 'TpC-ord-G#3-mf-N-N',\n",
       " 'TpC-ord-C5-ff-N-N',\n",
       " 'TpC-ord-B4-ff-N-N',\n",
       " 'TpC-ord-F#5-pp-N-T22d',\n",
       " 'TpC-ord-A4-ff-N-T22u',\n",
       " 'TpC-ord-F#5-ff-N-N',\n",
       " 'TpC-ord-D4-ff-N-T27u',\n",
       " 'TpC-ord-F#3-pp-N-N',\n",
       " 'TpC-ord-A5-ff-N-T13u',\n",
       " 'TpC-ord-E5-pp-N-T31d',\n",
       " 'TpC-ord-D#4-ff-N-N',\n",
       " 'TpC-ord-F#3-mf-N-T23u',\n",
       " 'TpC-ord-A#4-ff-N-N',\n",
       " 'TpC-ord-A5-mf-N-N',\n",
       " 'TpC-ord-F#4-ff-N-T14u',\n",
       " 'TpC-ord-A#5-ff-N-N',\n",
       " 'TpC-ord-D4-mf-N-T13u',\n",
       " 'TpC-ord-B4-pp-N-N',\n",
       " 'TpC-ord-B5-ff-N-N',\n",
       " 'TpC-ord-A#4-pp-N-N',\n",
       " 'TpC-ord-B3-ff-N-R100d',\n",
       " 'TpC-ord-C#5-pp-N-N',\n",
       " 'TpC-ord-G4-pp-N-N',\n",
       " 'TpC-ord-G#4-ff-N-N',\n",
       " 'TpC-ord-G3-pp-N-N',\n",
       " 'Tbn-ord-A#2-ff-N-N',\n",
       " 'Tbn-ord-B3-ff-N-N',\n",
       " 'Tbn-ord-G#4-ff-N-N',\n",
       " 'Tbn-ord-A2-ff-N-N',\n",
       " 'Tbn-ord-E2-pp-N-T21u',\n",
       " 'Tbn-ord-C2-pp-N-T23d',\n",
       " 'Tbn-ord-C#2-ff-N-T21d',\n",
       " 'Tbn-ord-A2-mf-N-N',\n",
       " 'Tbn-ord-A3-ff-N-N',\n",
       " 'Tbn-ord-A#2-pp-N-N',\n",
       " 'Tbn-ord-D#4-pp-N-T13u',\n",
       " 'Tbn-ord-D#2-ff-N-N',\n",
       " 'Tbn-ord-B1-pp-N-N',\n",
       " 'Tbn-ord-D#3-pp-N-N',\n",
       " 'Tbn-ord-C#4-ff-N-N',\n",
       " 'Tbn-ord-D#3-ff-N-N',\n",
       " 'Tbn-ord-D3-ff-N-N',\n",
       " 'Tbn-ord-A3-mf-N-N',\n",
       " 'Tbn-ord-B4-ff-N-N',\n",
       " 'Tbn-ord-E3-ff-N-N',\n",
       " 'Tbn-ord-C#3-pp-N-N',\n",
       " 'Tbn-ord-F4-ff-N-N',\n",
       " 'Tbn-ord-F4-pp-N-N',\n",
       " 'Tbn-ord-F#4-pp-N-T10u',\n",
       " 'Tbn-ord-G2-pp-N-N',\n",
       " 'Tbn-ord-A4-mf-N-N',\n",
       " 'Tbn-ord-C3-ff-N-T25d',\n",
       " 'Tbn-ord-A#4-ff-N-N',\n",
       " 'Tbn-ord-C2-mf-N-T44d',\n",
       " 'Tbn-ord-D#4-ff-N-N',\n",
       " 'Tbn-ord-G#3-mf-N-N',\n",
       " 'Tbn-ord-D3-pp-N-T11u',\n",
       " 'Tbn-ord-E3-pp-N-N',\n",
       " 'Tbn-ord-C#3-mf-N-N',\n",
       " 'Tbn-ord-F4-mf-N-N',\n",
       " 'Tbn-ord-F#2-mf-N-T28d',\n",
       " 'Tbn-ord-B2-mf-N-T26d',\n",
       " 'Tbn-ord-A4-pp-N-N',\n",
       " 'Tbn-ord-A#4-mf-N-N',\n",
       " 'Tbn-ord-E4-ff-N-N',\n",
       " 'Tbn-ord-B4-mf-N-N',\n",
       " 'Tbn-ord-F#3-pp-N-N',\n",
       " 'Tbn-ord-G4-mf-N-N',\n",
       " 'Tbn-ord-F#2-ff-N-T24d',\n",
       " 'Tbn-ord-F#3-ff-N-N',\n",
       " 'Tbn-ord-A3-pp-N-T14u',\n",
       " 'Tbn-ord-C5-ff-N-T24u',\n",
       " 'Tbn-ord-C#4-mf-N-T13d',\n",
       " 'Tbn-ord-C#4-pp-N-N',\n",
       " 'Tbn-ord-B3-mf-N-N',\n",
       " 'Tbn-ord-A#1-pp-N-N',\n",
       " 'Tbn-ord-A#4-pp-N-N',\n",
       " 'Tbn-ord-G3-pp-N-N',\n",
       " 'Tbn-ord-G#4-pp-N-N',\n",
       " 'Tbn-ord-E4-pp-N-N',\n",
       " 'Tbn-ord-C4-pp-N-N',\n",
       " 'Tbn-ord-D#2-mf-N-N',\n",
       " 'Tbn-ord-E3-mf-N-N',\n",
       " 'Tbn-ord-D2-mf-N-T26d',\n",
       " 'Tbn-ord-D3-mf-N-N',\n",
       " 'Tbn-ord-F#4-mf-N-T10u',\n",
       " 'Tbn-ord-D2-pp-N-T12d',\n",
       " 'Tbn-ord-F#3-mf-N-N',\n",
       " 'Tbn-ord-G4-pp-N-N',\n",
       " 'Tbn-ord-F2-pp-N-N',\n",
       " 'Tbn-ord-B2-pp-N-T19d',\n",
       " 'Tbn-ord-B1-mf-N-T14d',\n",
       " 'Tbn-ord-D4-pp-N-N',\n",
       " 'Tbn-ord-D#4-mf-N-N',\n",
       " 'Tbn-ord-G#3-pp-N-N',\n",
       " 'Tbn-ord-G#4-mf-N-N',\n",
       " 'Tbn-ord-C4-mf-N-N',\n",
       " 'Tbn-ord-G#3-ff-N-T10u',\n",
       " 'Tbn-ord-C5-pp-N-N',\n",
       " 'Tbn-ord-C4-ff-N-N',\n",
       " 'Tbn-ord-F3-pp-N-N',\n",
       " 'Tbn-ord-G4-ff-N-N',\n",
       " 'Tbn-ord-D#3-mf-N-N',\n",
       " 'Tbn-ord-F3-mf-N-N',\n",
       " 'Tbn-ord-A#3-mf-N-N',\n",
       " 'Tbn-ord-C#2-pp-N-N',\n",
       " 'Tbn-ord-C3-mf-N-T18d',\n",
       " 'Tbn-ord-A2-pp-N-N',\n",
       " 'Tbn-ord-B2-ff-N-T26d',\n",
       " 'Tbn-ord-C3-pp-N-T25d',\n",
       " 'Tbn-ord-E2-mf-N-N',\n",
       " 'Tbn-ord-B1-ff-N-T27d',\n",
       " 'Tbn-ord-A#1-ff-N-T14d',\n",
       " 'Tbn-ord-G#2-pp-N-T27u',\n",
       " 'Tbn-ord-B3-pp-N-N',\n",
       " 'Tbn-ord-F2-mf-N-N',\n",
       " 'Tbn-ord-G3-mf-N-T18d',\n",
       " 'Tbn-ord-B4-pp-N-N',\n",
       " 'Tbn-ord-A4-ff-N-N',\n",
       " 'Tbn-ord-A#1-mf-N-N',\n",
       " 'Tbn-ord-C#3-ff-N-N',\n",
       " 'Tbn-ord-C5-mf-N-T23u',\n",
       " 'Tbn-ord-A#3-pp-N-N',\n",
       " 'Tbn-ord-F#4-ff-N-T10u',\n",
       " 'Tbn-ord-C#2-mf-N-T33d',\n",
       " 'Tbn-ord-F3-ff-N-N',\n",
       " 'Tbn-ord-G3-ff-N-N',\n",
       " 'Tbn-ord-A#3-ff-N-N',\n",
       " 'Tbn-ord-F#2-pp-N-T20d',\n",
       " 'Tbn-ord-G2-mf-N-N',\n",
       " 'Tbn-ord-G#2-mf-N-N',\n",
       " 'Tbn-ord-D4-mf-N-N',\n",
       " 'Tbn-ord-E4-mf-N-T10u',\n",
       " 'Tbn-ord-D4-ff-N-N',\n",
       " 'Tbn-ord-D#2-pp-N-T14u',\n",
       " 'Tbn-ord-E2-ff-N-T12d',\n",
       " 'Tbn-ord-A#2-mf-N-N',\n",
       " 'BTb-ord-E4-pp-N-N',\n",
       " 'BTb-ord-B3-pp-N-T14d',\n",
       " 'BTb-ord-B2-mf-N-T17u',\n",
       " 'BTb-ord-D2-ff-N-T13u',\n",
       " 'BTb-ord-F4-mf-N-N',\n",
       " 'BTb-ord-G2-ff-N-N',\n",
       " 'BTb-ord-C#3-mf-N-T25u',\n",
       " 'BTb-ord-F4-pp-N-N',\n",
       " 'BTb-ord-A2-mf-N-T29u',\n",
       " 'BTb-ord-A#3-mf-N-T14u',\n",
       " 'BTb-ord-D3-ff-N-T15u',\n",
       " 'BTb-ord-D4-pp-N-N',\n",
       " 'BTb-ord-G3-mf-N-T14u',\n",
       " 'BTb-ord-G#2-ff-N-N',\n",
       " 'BTb-ord-A2-pp-N-T15u',\n",
       " 'BTb-ord-C3-pp-N-T11d',\n",
       " 'BTb-ord-C4-mf-N-N',\n",
       " 'BTb-ord-C4-pp-N-N',\n",
       " 'BTb-ord-D4-ff-N-N',\n",
       " 'BTb-ord-C4-ff-N-N',\n",
       " 'BTb-ord-D#4-mf-N-N',\n",
       " 'BTb-ord-C#3-pp-N-N',\n",
       " 'BTb-ord-E4-ff-N-N',\n",
       " 'BTb-ord-A3-ff-N-N',\n",
       " 'BTb-ord-C3-ff-N-T18u',\n",
       " 'BTb-ord-E3-pp-N-N',\n",
       " 'BTb-ord-D#2-pp-N-T11u',\n",
       " 'BTb-ord-E3-mf-N-T23u',\n",
       " 'BTb-ord-G2-pp-N-N',\n",
       " 'BTb-ord-A#2-mf-N-T29u',\n",
       " 'BTb-ord-F2-pp-N-T25u_R100u',\n",
       " 'BTb-ord-B2-pp-N-T11d',\n",
       " 'BTb-ord-C3-mf-N-T28u',\n",
       " 'BTb-ord-A1-pp-N-T23d',\n",
       " 'BTb-ord-G3-ff-N-T14u',\n",
       " 'BTb-ord-A2-ff-N-N',\n",
       " 'BTb-ord-F4-ff-N-N',\n",
       " 'BTb-ord-G#3-mf-N-T11u',\n",
       " 'BTb-ord-C2-ff-N-N',\n",
       " 'BTb-ord-G3-pp-N-T14d',\n",
       " 'BTb-ord-D2-mf-N-T15u',\n",
       " 'BTb-ord-C#4-mf-N-N',\n",
       " 'BTb-ord-D4-mf-N-N',\n",
       " 'BTb-ord-D3-mf-N-T16u',\n",
       " 'BTb-ord-F2-mf-N-T24u',\n",
       " 'BTb-ord-A#2-pp-N-N',\n",
       " 'BTb-ord-G#2-pp-N-T16u',\n",
       " 'BTb-ord-A#2-ff-N-T19u',\n",
       " 'BTb-ord-C2-mf-N-T23u',\n",
       " 'BTb-ord-F#3-ff-N-N',\n",
       " 'BTb-ord-D#3-pp-N-N',\n",
       " 'BTb-ord-E2-ff-N-T10u',\n",
       " 'BTb-ord-A#3-pp-N-T13d',\n",
       " 'BTb-ord-G#3-ff-N-N',\n",
       " 'BTb-ord-E2-mf-N-T27u',\n",
       " 'BTb-ord-F#2-pp-N-T14u',\n",
       " 'BTb-ord-D#2-mf-N-T34u',\n",
       " 'BTb-ord-D2-pp-N-T18u',\n",
       " 'BTb-ord-G2-mf-N-T15u',\n",
       " 'BTb-ord-F#3-pp-N-N',\n",
       " 'BTb-ord-F#3-mf-N-N',\n",
       " 'BTb-ord-C#2-pp-N-N',\n",
       " 'BTb-ord-A#1-pp-N-N',\n",
       " 'BTb-ord-D#3-mf-N-T25u',\n",
       " 'BTb-ord-G#2-mf-N-T26u',\n",
       " 'BTb-ord-D3-pp-N-N',\n",
       " 'BTb-ord-F3-mf-N-N',\n",
       " 'BTb-ord-D#4-ff-N-N',\n",
       " 'BTb-ord-C#3-ff-N-N',\n",
       " 'BTb-ord-F#2-mf-N-T19u',\n",
       " 'BTb-ord-B2-ff-N-N',\n",
       " 'BTb-ord-F#2-ff-N-N',\n",
       " 'BTb-ord-E2-pp-N-T25u',\n",
       " 'BTb-ord-G#3-pp-N-N',\n",
       " 'BTb-ord-E3-ff-N-T16u',\n",
       " 'BTb-ord-C#4-ff-N-T21u',\n",
       " 'BTb-ord-C#4-pp-N-N',\n",
       " 'BTb-ord-B1-pp-N-N',\n",
       " 'BTb-ord-F3-ff-N-N',\n",
       " 'BTb-ord-A3-mf-N-N',\n",
       " 'BTb-ord-E4-mf-N-T11d',\n",
       " 'BTb-ord-A#3-ff-N-N',\n",
       " 'BTb-ord-A3-pp-N-N',\n",
       " 'BTb-ord-F2-ff-N-T15u',\n",
       " 'BTb-ord-F3-pp-N-N',\n",
       " 'BTb-ord-B3-ff-N-T18d',\n",
       " 'BTb-ord-D#2-ff-N-N',\n",
       " 'BTb-ord-D#4-pp-N-N',\n",
       " 'BTb-ord-D#3-ff-N-T17u',\n",
       " 'BTb-ord-C2-pp-N-T13d',\n",
       " 'BTb-ord-B3-mf-N-N',\n",
       " 'Hn-ord-E3-pp-N-N',\n",
       " 'Hn-ord-B3-pp-N-N',\n",
       " 'Hn-ord-A3-pp-N-N',\n",
       " 'Hn-ord-F4-ff-N-N',\n",
       " 'Hn-ord-E5-ff-N-N',\n",
       " 'Hn-ord-G3-ff-N-N',\n",
       " 'Hn-ord-C2-ff-N-N',\n",
       " 'Hn-ord-G4-pp-N-N',\n",
       " 'Hn-ord-B2-mf-N-N',\n",
       " 'Hn-ord-C#3-pp-N-N',\n",
       " 'Hn-ord-D3-ff-N-N',\n",
       " 'Hn-ord-C#5-ff-N-N',\n",
       " 'Hn-ord-D4-ff-N-N',\n",
       " 'Hn-ord-G#2-pp-N-N',\n",
       " 'Hn-ord-F2-pp-N-N',\n",
       " 'Hn-ord-D5-ff-N-N',\n",
       " 'Hn-ord-D#5-ff-N-T10u',\n",
       " 'Hn-ord-F5-mf-N-N',\n",
       " 'Hn-ord-C3-pp-N-N',\n",
       " 'Hn-ord-F#2-pp-N-N',\n",
       " 'Hn-ord-G#4-pp-N-T10u',\n",
       " 'Hn-ord-D#5-mf-N-N',\n",
       " 'Hn-ord-E5-mf-N-T13u',\n",
       " 'Hn-ord-A#3-pp-N-N',\n",
       " 'Hn-ord-D#2-mf-N-N',\n",
       " 'Hn-ord-G4-mf-N-N',\n",
       " 'Hn-ord-A#4-mf-N-N',\n",
       " 'Hn-ord-D#4-pp-N-N',\n",
       " 'Hn-ord-F5-pp-N-T11u',\n",
       " 'Hn-ord-D#3-pp-N-N',\n",
       " 'Hn-ord-F2-ff-N-T11u',\n",
       " 'Hn-ord-D5-mf-N-N',\n",
       " 'Hn-ord-D3-pp-N-N',\n",
       " 'Hn-ord-D#4-mf-N-N',\n",
       " 'Hn-ord-B2-ff-N-N',\n",
       " 'Hn-ord-G2-mf-N-N',\n",
       " 'Hn-ord-C#4-pp-N-N',\n",
       " 'Hn-ord-B4-pp-N-N',\n",
       " 'Hn-ord-C#2-mf-N-N',\n",
       " 'Hn-ord-F3-mf-N-N',\n",
       " 'Hn-ord-G#3-pp-N-N',\n",
       " 'Hn-ord-G4-ff-N-N',\n",
       " 'Hn-ord-F2-mf-N-N',\n",
       " 'Hn-ord-A#3-ff-N-N',\n",
       " 'Hn-ord-F#3-pp-N-N',\n",
       " 'Hn-ord-E4-ff-N-N',\n",
       " 'Hn-ord-C#4-ff-N-N',\n",
       " 'Hn-ord-A#1-pp-N-N',\n",
       " 'Hn-ord-E3-ff-N-N',\n",
       " 'Hn-ord-G2-pp-N-N',\n",
       " 'Hn-ord-C2-mf-N-N',\n",
       " 'Hn-ord-C#4-mf-N-T12u',\n",
       " 'Hn-ord-C5-pp-N-N',\n",
       " 'Hn-ord-F4-mf-N-N',\n",
       " 'Hn-ord-B1-pp-N-T15d',\n",
       " 'Hn-ord-D4-mf-N-N',\n",
       " 'Hn-ord-A#4-ff-N-N',\n",
       " 'Hn-ord-D#2-pp-N-R100u',\n",
       " 'Hn-ord-C5-mf-N-N',\n",
       " 'Hn-ord-G#3-mf-N-N',\n",
       " 'Hn-ord-E3-mf-N-N',\n",
       " 'Hn-ord-B4-ff-N-N',\n",
       " 'Hn-ord-A4-ff-N-N',\n",
       " 'Hn-ord-C4-mf-N-N',\n",
       " 'Hn-ord-C2-pp-N-N',\n",
       " 'Hn-ord-A#3-mf-N-N',\n",
       " 'Hn-ord-A#2-ff-N-N',\n",
       " 'Hn-ord-A#2-mf-N-N',\n",
       " 'Hn-ord-E2-mf-N-N',\n",
       " 'Hn-ord-C3-mf-N-N',\n",
       " 'Hn-ord-A#2-pp-N-R100d',\n",
       " 'Hn-ord-G#4-mf-N-N',\n",
       " 'Hn-ord-E5-pp-N-N',\n",
       " 'Hn-ord-F4-pp-N-N',\n",
       " 'Hn-ord-C#2-pp-N-N',\n",
       " 'Hn-ord-G1-mf-N-T40d',\n",
       " 'Hn-ord-D3-mf-N-N',\n",
       " 'Hn-ord-F#4-mf-N-N',\n",
       " 'Hn-ord-F#4-pp-N-T10u',\n",
       " 'Hn-ord-E4-mf-N-N',\n",
       " 'Hn-ord-A#4-pp-N-N',\n",
       " 'Hn-ord-F5-ff-N-N',\n",
       " 'Hn-ord-D#3-mf-N-N',\n",
       " 'Hn-ord-A2-mf-N-N',\n",
       " 'Hn-ord-G#3-ff-N-N',\n",
       " 'Hn-ord-D4-pp-N-N',\n",
       " 'Hn-ord-E4-pp-N-N',\n",
       " 'Hn-ord-A2-ff-N-N',\n",
       " 'Hn-ord-C#3-ff-N-N',\n",
       " 'Hn-ord-C4-pp-N-N',\n",
       " 'Hn-ord-C#2-ff-N-N',\n",
       " 'Hn-ord-G3-mf-N-N',\n",
       " 'Hn-ord-D5-pp-N-T10u',\n",
       " 'Hn-ord-A2-pp-N-R100u',\n",
       " 'Hn-ord-A3-mf-N-N',\n",
       " 'Hn-ord-F3-pp-N-N',\n",
       " 'Hn-ord-B3-ff-N-N',\n",
       " 'Hn-ord-F3-ff-N-N',\n",
       " 'Hn-ord-B2-pp-N-N',\n",
       " 'Hn-ord-F#3-mf-N-N',\n",
       " 'Hn-ord-B3-mf-N-N',\n",
       " 'Hn-ord-C4-ff-N-N',\n",
       " 'Hn-ord-A#1-mf-N-T17d',\n",
       " 'Hn-ord-G#1-mf-N-N',\n",
       " 'Hn-ord-B4-mf-N-N',\n",
       " 'Hn-ord-B1-ff-N-N',\n",
       " 'Hn-ord-C3-ff-N-N',\n",
       " 'Hn-ord-A4-mf-N-N',\n",
       " 'Hn-ord-E2-pp-N-N',\n",
       " 'Hn-ord-A4-pp-N-N',\n",
       " 'Hn-ord-D#5-pp-N-N',\n",
       " 'Hn-ord-C#3-mf-N-N',\n",
       " 'Hn-ord-C#5-mf-N-N',\n",
       " 'Hn-ord-G#2-mf-N-N',\n",
       " 'Hn-ord-D#4-ff-N-N',\n",
       " 'Hn-ord-A3-ff-N-N',\n",
       " 'Hn-ord-F#4-ff-N-N',\n",
       " 'Hn-ord-G3-pp-N-N',\n",
       " 'Hn-ord-D2-pp-N-N',\n",
       " 'Hn-ord-A1-mf-N-N',\n",
       " 'Hn-ord-C5-ff-N-N',\n",
       " 'Hn-ord-F#3-ff-N-N',\n",
       " 'Hn-ord-G#4-ff-N-N',\n",
       " 'Hn-ord-F#2-mf-N-N',\n",
       " 'Hn-ord-D2-mf-N-N',\n",
       " 'Hn-ord-C#5-pp-N-N',\n",
       " 'Hn-ord-D#3-ff-N-N',\n",
       " 'Hn-ord-B1-mf-N-N',\n",
       " 'Vc-ord-D#4-mf-1c-N',\n",
       " 'Vc-ord-G#3-ff-2c-N',\n",
       " 'Vc-ord-D4-pp-1c-N',\n",
       " 'Vc-ord-F4-pp-3c-T18u',\n",
       " 'Vc-ord-A#3-mf-4c-N',\n",
       " 'Vc-ord-A#3-mf-3c-T16d_R100u',\n",
       " 'Vc-ord-A#3-pp-2c-T12u',\n",
       " 'Vc-ord-D#4-ff-1c-T22u',\n",
       " 'Vc-ord-G5-mf-1c-N',\n",
       " 'Vc-ord-F#3-mf-2c-N',\n",
       " 'Vc-ord-C5-mf-2c-T11u',\n",
       " 'Vc-ord-D#3-mf-2c-N',\n",
       " 'Vc-ord-E4-pp-3c-N',\n",
       " 'Vc-ord-F#3-mf-4c-T15u',\n",
       " 'Vc-ord-F3-ff-3c-T17d',\n",
       " 'Vc-ord-G2-pp-4c-N',\n",
       " 'Vc-ord-F4-ff-3c-T14u',\n",
       " 'Vc-ord-D#3-pp-3c-N',\n",
       " 'Vc-ord-D4-mf-3c-N',\n",
       " 'Vc-ord-A2-mf-4c-N',\n",
       " 'Vc-ord-G#2-pp-4c-N',\n",
       " 'Vc-ord-D#3-mf-4c-T13u',\n",
       " 'Vc-ord-A#4-ff-1c-N',\n",
       " 'Vc-ord-B4-ff-1c-N',\n",
       " 'Vc-ord-A#3-pp-1c-N',\n",
       " 'Vc-ord-D2-mf-4c-N',\n",
       " 'Vc-ord-A4-mf-1c-N',\n",
       " 'Vc-ord-A#4-mf-2c-N',\n",
       " 'Vc-ord-A3-pp-4c-N',\n",
       " 'Vc-ord-A#4-mf-1c-N',\n",
       " 'Vc-ord-G#3-mf-3c-N',\n",
       " 'Vc-ord-E4-pp-1c-N',\n",
       " 'Vc-ord-C#3-ff-3c-N',\n",
       " 'Vc-ord-G3-pp-4c-N',\n",
       " 'Vc-ord-C5-ff-1c-T16u',\n",
       " 'Vc-ord-A3-pp-1c-N',\n",
       " 'Vc-ord-G4-pp-2c-N',\n",
       " 'Vc-ord-C3-mf-4c-N',\n",
       " 'Vc-ord-D4-ff-3c-N',\n",
       " 'Vc-ord-D#2-pp-4c-N',\n",
       " 'Vc-ord-C3-pp-3c-N',\n",
       " 'Vc-ord-C#5-mf-1c-N',\n",
       " 'Vc-ord-D#2-ff-4c-N',\n",
       " 'Vc-ord-B3-ff-2c-N',\n",
       " 'Vc-ord-E5-ff-1c-N',\n",
       " 'Vc-ord-G2-ff-4c-N',\n",
       " 'Vc-ord-F3-ff-4c-T14u',\n",
       " 'Vc-ord-D3-pp-4c-N',\n",
       " 'Vc-ord-G#4-pp-2c-T13u',\n",
       " 'Vc-ord-G#2-ff-3c-T10d',\n",
       " 'Vc-ord-C4-mf-3c-N',\n",
       " 'Vc-ord-A#3-ff-1c-N',\n",
       " 'Vc-ord-A3-mf-2c-N',\n",
       " 'Vc-ord-G#4-pp-1c-N',\n",
       " 'Vc-ord-F#4-pp-1c-N',\n",
       " 'Vc-ord-C6-mf-1c-N',\n",
       " 'Vc-ord-C#4-ff-1c-N',\n",
       " 'Vc-ord-D#5-mf-1c-N',\n",
       " 'Vc-ord-G#3-pp-4c-T24u',\n",
       " 'Vc-ord-D#4-pp-2c-N',\n",
       " 'Vc-ord-C#3-mf-3c-N',\n",
       " 'Vc-ord-B3-pp-1c-N',\n",
       " 'Vc-ord-A#3-mf-1c-N',\n",
       " 'Vc-ord-A4-pp-1c-N',\n",
       " 'Vc-ord-F5-pp-1c-N',\n",
       " 'Vc-ord-B3-mf-1c-N',\n",
       " 'Vc-ord-D#3-pp-4c-T11u',\n",
       " 'Vc-ord-B5-mf-1c-N',\n",
       " 'Vc-ord-F#4-ff-2c-N',\n",
       " 'Vc-ord-D3-pp-2c-N',\n",
       " 'Vc-ord-D4-pp-3c-N',\n",
       " 'Vc-ord-A4-mf-2c-N',\n",
       " 'Vc-ord-G#3-ff-4c-T15u',\n",
       " 'Vc-ord-D4-pp-2c-N',\n",
       " 'Vc-ord-C3-mf-3c-N',\n",
       " 'Vc-ord-D#5-pp-1c-T10d',\n",
       " 'Vc-ord-F#4-pp-2c-N',\n",
       " 'Vc-ord-B4-ff-2c-N',\n",
       " 'Vc-ord-D#5-ff-1c-N',\n",
       " 'Vc-ord-B2-pp-3c-N',\n",
       " 'Vc-ord-F5-ff-1c-N',\n",
       " 'Vc-ord-A3-mf-4c-N',\n",
       " 'Vc-ord-C#3-pp-4c-N',\n",
       " 'Vc-ord-E5-mf-1c-N',\n",
       " 'Vc-ord-G4-mf-1c-N',\n",
       " 'Vc-ord-D4-mf-2c-N',\n",
       " 'Vc-ord-A#4-pp-1c-N',\n",
       " 'Vc-ord-F3-ff-2c-T17d',\n",
       " 'Vc-ord-A#3-mf-2c-T12u',\n",
       " 'Vc-ord-A#5-mf-1c-N',\n",
       " 'Vc-ord-B2-mf-3c-N',\n",
       " 'Vc-ord-A5-mf-1c-N',\n",
       " 'Vc-ord-G#2-ff-4c-T12u',\n",
       " 'Vc-ord-A#5-pp-1c-N',\n",
       " 'Vc-ord-C4-pp-2c-N',\n",
       " 'Vc-ord-D3-pp-3c-N',\n",
       " 'Vc-ord-A#2-mf-3c-T13u',\n",
       " 'Vc-ord-C6-ff-1c-N',\n",
       " 'Vc-ord-D#3-ff-4c-T16u',\n",
       " 'Vc-ord-B2-pp-4c-T16u',\n",
       " 'Vc-ord-E4-pp-2c-N',\n",
       " 'Vc-ord-G4-mf-2c-N',\n",
       " 'Vc-ord-B2-ff-3c-N',\n",
       " 'Vc-ord-A#2-pp-3c-N',\n",
       " 'Vc-ord-B2-ff-4c-T11u',\n",
       " 'Vc-ord-G#2-pp-3c-N',\n",
       " 'Vc-ord-E5-pp-1c-N',\n",
       " 'Vc-ord-E3-pp-2c-N',\n",
       " 'Vc-ord-D4-mf-1c-N',\n",
       " 'Vc-ord-E3-mf-2c-N',\n",
       " 'Vc-ord-D4-ff-2c-N',\n",
       " 'Vc-ord-G#4-ff-1c-T18u',\n",
       " 'Vc-ord-C5-pp-1c-N',\n",
       " 'Vc-ord-D5-mf-1c-N',\n",
       " 'Vc-ord-D#3-ff-3c-T12u',\n",
       " 'Vc-ord-A3-ff-2c-N',\n",
       " 'Vc-ord-A#2-ff-4c-N',\n",
       " 'Vc-ord-F#3-ff-3c-N',\n",
       " 'Vc-ord-E3-pp-3c-N',\n",
       " 'Vc-ord-C#4-mf-3c-N',\n",
       " 'Vc-ord-G4-pp-1c-N',\n",
       " 'Vc-ord-D3-ff-3c-N',\n",
       " 'Vc-ord-D#4-ff-3c-N',\n",
       " 'Vc-ord-F#3-pp-3c-N',\n",
       " 'Vc-ord-F2-pp-4c-T19u',\n",
       " 'Vc-ord-D#4-pp-1c-N',\n",
       " 'Vc-ord-C#4-pp-2c-N',\n",
       " 'Vc-ord-C#4-ff-3c-N',\n",
       " 'Vc-ord-A2-ff-4c-N',\n",
       " 'Vc-ord-F3-pp-3c-N',\n",
       " 'Vc-ord-C5-pp-2c-T12u',\n",
       " 'Vc-ord-D2-ff-4c-N',\n",
       " 'Vc-ord-F4-ff-2c-N',\n",
       " 'Vc-ord-D#4-pp-3c-N',\n",
       " 'Vc-ord-G5-ff-1c-N',\n",
       " 'Vc-ord-C#4-pp-3c-N',\n",
       " 'Vc-ord-D#3-mf-3c-N',\n",
       " 'Vc-ord-B3-mf-2c-N',\n",
       " 'Vc-ord-G#5-pp-1c-N',\n",
       " 'Vc-ord-F#3-pp-4c-N',\n",
       " 'Vc-ord-F#3-mf-3c-N',\n",
       " 'Vc-ord-C4-ff-2c-N',\n",
       " 'Vc-ord-G3-pp-3c-N',\n",
       " 'Vc-ord-B3-mf-3c-N',\n",
       " 'Vc-ord-A#2-pp-4c-N',\n",
       " 'Vc-ord-F#3-ff-4c-T14u',\n",
       " 'Vc-ord-G#5-ff-1c-T10u',\n",
       " 'Vc-ord-B4-pp-2c-N',\n",
       " 'Vc-ord-D3-mf-4c-N',\n",
       " 'Vc-ord-G#2-mf-3c-N',\n",
       " 'Vc-ord-F2-mf-4c-T17u',\n",
       " 'Vc-ord-D5-pp-1c-N',\n",
       " 'Vc-ord-G#3-pp-2c-N',\n",
       " 'Vc-ord-D2-pp-4c-N',\n",
       " 'Vc-ord-E4-ff-3c-T10u',\n",
       " 'Vc-ord-C#5-pp-1c-N',\n",
       " 'Vc-ord-E4-mf-3c-N',\n",
       " 'Vc-ord-A#3-pp-3c-N',\n",
       " 'Vc-ord-F4-mf-1c-N',\n",
       " 'Vc-ord-A2-mf-3c-N',\n",
       " 'Vc-ord-C3-ff-3c-N',\n",
       " 'Vc-ord-A3-ff-4c-N',\n",
       " 'Vc-ord-G3-mf-4c-N',\n",
       " 'Vc-ord-E3-ff-3c-T11d',\n",
       " 'Vc-ord-G#5-mf-1c-N',\n",
       " 'Vc-ord-A3-ff-3c-T21d',\n",
       " 'Vc-ord-C6-pp-1c-N',\n",
       " 'Vc-ord-C5-mf-1c-T11u',\n",
       " 'Vc-ord-A4-ff-2c-N',\n",
       " 'Vc-ord-C4-mf-2c-N',\n",
       " 'Vc-ord-A3-mf-1c-N',\n",
       " 'Vc-ord-E3-mf-3c-N',\n",
       " 'Vc-ord-A#3-pp-4c-N',\n",
       " 'Vc-ord-F3-mf-3c-T11d',\n",
       " 'Vc-ord-F3-pp-2c-N',\n",
       " 'Vc-ord-A#4-pp-2c-N',\n",
       " 'Vc-ord-A5-pp-1c-N',\n",
       " 'Vc-ord-F3-pp-4c-N',\n",
       " 'Vc-ord-C#3-mf-4c-N',\n",
       " 'Vc-ord-C#3-pp-3c-N',\n",
       " 'Vc-ord-B4-mf-2c-N',\n",
       " 'Vc-ord-F#4-mf-2c-N',\n",
       " 'Vc-ord-C5-ff-2c-N',\n",
       " 'Vc-ord-G#3-mf-2c-N',\n",
       " 'Vc-ord-F#5-pp-1c-N',\n",
       " 'Vc-ord-C4-pp-1c-N',\n",
       " 'Vc-ord-G3-ff-4c-N',\n",
       " 'Vc-ord-F#2-ff-4c-N',\n",
       " 'Vc-ord-E4-ff-2c-N',\n",
       " 'Vc-ord-A4-ff-1c-N',\n",
       " 'Vc-ord-F#2-pp-4c-N',\n",
       " 'Vc-ord-A2-pp-4c-N',\n",
       " 'Vc-ord-B3-ff-1c-T11u',\n",
       " 'Vc-ord-F3-mf-4c-T17u',\n",
       " 'Vc-ord-A5-ff-1c-T13d',\n",
       " 'Vc-ord-C#3-ff-4c-N',\n",
       " 'Vc-ord-A#3-ff-2c-T12u',\n",
       " 'Vc-ord-D#4-mf-2c-T12u',\n",
       " 'Vc-ord-F3-mf-2c-N',\n",
       " 'Vc-ord-C#4-mf-2c-N',\n",
       " 'Vc-ord-D#3-pp-2c-N',\n",
       " 'Vc-ord-A3-pp-2c-N',\n",
       " 'Vc-ord-G#3-mf-4c-N',\n",
       " 'Vc-ord-F4-pp-1c-N',\n",
       " 'Vc-ord-G3-mf-3c-N',\n",
       " 'Vc-ord-F#5-ff-1c-T33u',\n",
       " 'Vc-ord-F#3-ff-2c-N',\n",
       " 'Vc-ord-G4-ff-1c-N',\n",
       " 'Vc-ord-F2-ff-4c-T17u',\n",
       " 'Vc-ord-E2-pp-4c-N',\n",
       " 'Vc-ord-F5-mf-1c-N',\n",
       " 'Vc-ord-E2-ff-4c-N',\n",
       " 'Vc-ord-A4-pp-2c-N',\n",
       " 'Vc-ord-G3-ff-3c-N',\n",
       " 'Vc-ord-C3-ff-4c-N',\n",
       " 'Vc-ord-F#2-mf-4c-N',\n",
       " 'Vc-ord-C#4-mf-1c-N',\n",
       " 'Vc-ord-E3-ff-2c-N',\n",
       " 'Vc-ord-A#5-ff-1c-N',\n",
       " 'Vc-ord-D#4-ff-2c-T12u',\n",
       " 'Vc-ord-E3-pp-4c-N',\n",
       " 'Vc-ord-A2-pp-3c-N',\n",
       " 'Vc-ord-A2-ff-3c-T19d',\n",
       " 'Vc-ord-C3-pp-4c-N',\n",
       " 'Vc-ord-D#4-mf-3c-N',\n",
       " 'Vc-ord-C#4-pp-1c-N',\n",
       " 'Vc-ord-G#2-mf-4c-N',\n",
       " 'Vc-ord-B2-mf-4c-T20u',\n",
       " 'Vc-ord-G#3-ff-3c-N',\n",
       " 'Vc-ord-G#3-pp-3c-N',\n",
       " 'Vc-ord-A#3-ff-4c-N',\n",
       " 'Vc-ord-E4-mf-2c-N',\n",
       " 'Vc-ord-B4-pp-1c-N',\n",
       " 'Vc-ord-E2-mf-4c-N',\n",
       " 'Vc-ord-G#4-mf-1c-N',\n",
       " 'Vc-ord-D4-ff-1c-N',\n",
       " 'Vc-ord-B3-pp-2c-N',\n",
       " 'Vc-ord-B3-ff-3c-T11u',\n",
       " 'Vc-ord-F#4-mf-1c-N',\n",
       " 'Vc-ord-B5-ff-1c-N',\n",
       " 'Vc-ord-C4-mf-1c-N',\n",
       " 'Vc-ord-A#3-ff-3c-N',\n",
       " 'Vc-ord-D#2-mf-4c-N',\n",
       " 'Vc-ord-F4-ff-1c-N',\n",
       " 'Vc-ord-D3-mf-3c-N',\n",
       " 'Vc-ord-F#4-ff-1c-N',\n",
       " 'Vc-ord-A#2-ff-3c-N',\n",
       " 'Vc-ord-D#3-ff-2c-T16d',\n",
       " 'Vc-ord-E4-mf-1c-N',\n",
       " 'Vc-ord-D5-ff-1c-N',\n",
       " 'Vc-ord-F#3-pp-2c-N',\n",
       " 'Vc-ord-B4-mf-1c-N',\n",
       " 'Vc-ord-B5-pp-1c-N',\n",
       " 'Vc-ord-B3-pp-3c-N',\n",
       " 'Vc-ord-F4-pp-2c-N',\n",
       " 'Vc-ord-G5-pp-1c-N',\n",
       " 'Vc-ord-C#5-ff-1c-N',\n",
       " 'Vc-ord-C4-pp-3c-N',\n",
       " 'Vc-ord-F4-mf-2c-N',\n",
       " 'Vc-ord-G2-mf-4c-N',\n",
       " 'Vc-ord-C#4-ff-2c-N',\n",
       " 'Vc-ord-C4-ff-3c-N',\n",
       " 'Vc-ord-E4-ff-1c-N',\n",
       " 'Vc-ord-F#5-mf-1c-T12u',\n",
       " 'Vc-ord-F4-mf-3c-T11u',\n",
       " 'Vc-ord-A#2-mf-4c-N',\n",
       " 'Cb-ord-D2-pp-4c-N',\n",
       " 'Cb-ord-G#2-mf-1c-N',\n",
       " 'Cb-ord-A#1-ff-3c-N',\n",
       " 'Cb-ord-D3-ff-1c-N',\n",
       " 'Cb-ord-A2-pp-3c-T12d',\n",
       " 'Cb-ord-C3-ff-1c-N',\n",
       " 'Cb-ord-A3-pp-1c-N',\n",
       " 'Cb-ord-F3-ff-1c-N',\n",
       " 'Cb-ord-C2-ff-4c-N',\n",
       " 'Cb-ord-F#3-mf-3c-T15u',\n",
       " 'Cb-ord-F#3-mf-1c-N',\n",
       " 'Cb-ord-F2-pp-3c-N',\n",
       " 'Cb-ord-G2-mf-4c-T10u_R100u',\n",
       " 'Cb-ord-C4-mf-1c-N',\n",
       " 'Cb-ord-F#4-pp-1c-N',\n",
       " 'Cb-ord-D#2-ff-3c-N',\n",
       " 'Cb-ord-G3-mf-2c-N',\n",
       " 'Cb-ord-C5-mf-1c-N',\n",
       " 'Cb-ord-B1-ff-4c-N',\n",
       " 'Cb-ord-G2-mf-3c-N',\n",
       " 'Cb-ord-F4-mf-1c-T16u',\n",
       " 'Cb-ord-B2-pp-1c-N',\n",
       " 'Cb-ord-B1-pp-3c-N',\n",
       " 'Cb-ord-E3-mf-2c-N',\n",
       " 'Cb-ord-A#2-pp-2c-N',\n",
       " 'Cb-ord-B3-pp-1c-N',\n",
       " 'Cb-ord-A2-mf-4c-N',\n",
       " 'Cb-ord-G#2-ff-3c-T30u',\n",
       " 'Cb-ord-C5-ff-1c-N',\n",
       " 'Cb-ord-F#2-mf-4c-T10u',\n",
       " 'Cb-ord-G2-pp-1c-N',\n",
       " 'Cb-ord-C4-mf-2c-T13u',\n",
       " 'Cb-ord-F#3-ff-1c-N',\n",
       " 'Cb-ord-G3-pp-1c-T11d',\n",
       " 'Cb-ord-C#2-ff-3c-T11u',\n",
       " 'Cb-ord-G2-ff-1c-N',\n",
       " 'Cb-ord-A#1-pp-3c-N',\n",
       " 'Cb-ord-A#2-mf-2c-T13u',\n",
       " 'Cb-ord-D#3-ff-1c-T11u',\n",
       " 'Cb-ord-D4-ff-1c-T17d',\n",
       " 'Cb-ord-D4-ff-2c-N',\n",
       " 'Cb-ord-F3-ff-3c-N',\n",
       " 'Cb-ord-A4-mf-1c-T10u',\n",
       " 'Cb-ord-C3-ff-3c-N',\n",
       " 'Cb-ord-E3-pp-3c-T24d',\n",
       " 'Cb-ord-A#2-mf-4c-N',\n",
       " 'Cb-ord-B2-pp-2c-N',\n",
       " 'Cb-ord-C4-ff-1c-N',\n",
       " 'Cb-ord-C#3-mf-2c-T17u',\n",
       " 'Cb-ord-F3-ff-2c-T12u',\n",
       " 'Cb-ord-F#3-mf-2c-T14u',\n",
       " 'Cb-ord-B4-pp-1c-N',\n",
       " 'Cb-ord-A2-mf-2c-N',\n",
       " 'Cb-ord-B3-pp-2c-N',\n",
       " 'Cb-ord-B2-mf-3c-T10u',\n",
       " 'Cb-ord-C2-mf-3c-N',\n",
       " 'Cb-ord-C3-pp-1c-N',\n",
       " 'Cb-ord-F3-pp-1c-N',\n",
       " 'Cb-ord-B2-pp-3c-N',\n",
       " 'Cb-ord-F#2-pp-2c-N',\n",
       " 'Cb-ord-C#3-pp-3c-T10u',\n",
       " 'Cb-ord-G#3-ff-2c-T13u',\n",
       " 'Cb-ord-C3-mf-2c-T12u',\n",
       " 'Cb-ord-D#2-mf-2c-N',\n",
       " 'Cb-ord-E3-mf-1c-N',\n",
       " 'Cb-ord-G#2-pp-3c-N',\n",
       " 'Cb-ord-C#3-mf-4c-N',\n",
       " 'Cb-ord-D4-pp-1c-T12d',\n",
       " 'Cb-ord-E3-ff-1c-T12u',\n",
       " 'Cb-ord-G#4-mf-1c-N',\n",
       " 'Cb-ord-C#4-ff-1c-T22u',\n",
       " 'Cb-ord-E3-ff-3c-T17d',\n",
       " 'Cb-ord-A#2-ff-2c-T14u',\n",
       " 'Cb-ord-G2-ff-4c-N',\n",
       " 'Cb-ord-E3-ff-2c-T16u',\n",
       " 'Cb-ord-C#3-ff-1c-N',\n",
       " 'Cb-ord-D#2-ff-4c-T16u',\n",
       " 'Cb-ord-C4-pp-1c-N',\n",
       " 'Cb-ord-D#4-mf-1c-T18u',\n",
       " 'Cb-ord-B1-pp-4c-N',\n",
       " 'Cb-ord-D3-pp-1c-N',\n",
       " 'Cb-ord-D4-pp-2c-N',\n",
       " 'Cb-ord-A#4-ff-1c-N',\n",
       " 'Cb-ord-C#3-pp-4c-T16d',\n",
       " 'Cb-ord-F#3-pp-1c-N',\n",
       " 'Cb-ord-G#2-ff-2c-N',\n",
       " 'Cb-ord-C#3-pp-2c-N',\n",
       " 'Cb-ord-D#3-mf-1c-N',\n",
       " 'Cb-ord-C5-pp-1c-N',\n",
       " 'Cb-ord-A#3-ff-2c-N',\n",
       " 'Cb-ord-A4-pp-1c-N',\n",
       " 'Cb-ord-B2-mf-4c-N',\n",
       " 'Cb-ord-A3-mf-2c-N',\n",
       " 'Cb-ord-A2-ff-3c-N',\n",
       " 'Cb-ord-G2-mf-2c-T11d',\n",
       " 'Cb-ord-A#3-mf-1c-N',\n",
       " 'Cb-ord-D3-pp-3c-T27d',\n",
       " 'Cb-ord-F2-ff-4c-T12u',\n",
       " 'Cb-ord-C#3-ff-4c-N',\n",
       " 'Cb-ord-B2-ff-4c-T25u',\n",
       " 'Cb-ord-G2-ff-2c-N',\n",
       " 'Cb-ord-D2-mf-4c-T14u',\n",
       " 'Cb-ord-A#2-pp-1c-N',\n",
       " 'Cb-ord-C#4-pp-2c-T10u',\n",
       " 'Cb-ord-D#2-mf-3c-N',\n",
       " 'Cb-ord-F#2-pp-4c-T15u',\n",
       " 'Cb-ord-A#4-pp-1c-T13u',\n",
       " 'Cb-ord-G#3-mf-2c-T12u',\n",
       " 'Cb-ord-C#3-pp-1c-N',\n",
       " 'Cb-ord-B3-ff-1c-N',\n",
       " 'Cb-ord-E4-pp-1c-N',\n",
       " 'Cb-ord-C2-mf-4c-N',\n",
       " 'Cb-ord-A3-mf-1c-N',\n",
       " 'Cb-ord-C3-mf-1c-N',\n",
       " 'Cb-ord-F#2-ff-2c-N',\n",
       " 'Cb-ord-D2-ff-3c-N',\n",
       " 'Cb-ord-E3-pp-1c-N',\n",
       " 'Cb-ord-D#3-ff-4c-T31u',\n",
       " 'Cb-ord-G3-mf-1c-N',\n",
       " 'Cb-ord-C#3-ff-2c-N',\n",
       " 'Cb-ord-E4-ff-1c-N',\n",
       " 'Cb-ord-D3-mf-1c-N',\n",
       " 'Cb-ord-G#2-pp-1c-N',\n",
       " 'Cb-ord-G3-pp-2c-T13d',\n",
       " 'Cb-ord-A2-mf-3c-R100d',\n",
       " 'Cb-ord-D#3-pp-1c-N',\n",
       " 'Cb-ord-F#2-ff-3c-N',\n",
       " 'Cb-ord-B2-ff-2c-N',\n",
       " 'Cb-ord-B1-ff-3c-N',\n",
       " 'Cb-ord-A#2-mf-3c-N',\n",
       " 'Cb-ord-F3-mf-1c-N',\n",
       " 'Cb-ord-F#2-pp-3c-N',\n",
       " 'Cb-ord-A2-pp-2c-T12d',\n",
       " 'Cb-ord-D#3-mf-4c-T11u',\n",
       " 'Cb-ord-E2-mf-3c-N',\n",
       " 'Cb-ord-C3-ff-4c-T14u',\n",
       " 'Cb-ord-F#4-mf-1c-N',\n",
       " 'Cb-ord-A#3-mf-2c-N',\n",
       " 'Cb-ord-F3-mf-2c-N',\n",
       " 'Cb-ord-A3-pp-2c-N',\n",
       " 'Cb-ord-C3-pp-4c-N',\n",
       " 'Cb-ord-G2-mf-1c-N',\n",
       " 'Cb-ord-B3-mf-2c-N',\n",
       " 'Cb-ord-E4-mf-1c-N',\n",
       " 'Cb-ord-G#2-mf-4c-T12u',\n",
       " 'Cb-ord-F#2-ff-4c-T31u',\n",
       " 'Cb-ord-F2-ff-2c-N',\n",
       " 'Cb-ord-G2-pp-4c-T13u',\n",
       " 'Cb-ord-C#2-pp-3c-N',\n",
       " 'Cb-ord-E2-ff-4c-N',\n",
       " 'Cb-ord-A#1-pp-4c-N',\n",
       " 'Cb-ord-C#3-ff-3c-T20u',\n",
       " 'Cb-ord-F#4-ff-1c-N',\n",
       " 'Cb-ord-B2-ff-1c-N',\n",
       " 'Cb-ord-D#3-mf-2c-N',\n",
       " 'Cb-ord-E2-mf-2c-N',\n",
       " 'Cb-ord-F3-mf-3c-N',\n",
       " 'Cb-ord-A#1-mf-3c-N',\n",
       " 'Cb-ord-C#2-mf-4c-N',\n",
       " 'Cb-ord-A#1-ff-4c-N',\n",
       " 'Cb-ord-F2-mf-4c-N',\n",
       " 'Cb-ord-A#3-ff-1c-N',\n",
       " 'Cb-ord-A2-pp-4c-N',\n",
       " 'Cb-ord-F4-ff-1c-N',\n",
       " 'Cb-ord-G2-pp-2c-N',\n",
       " 'Cb-ord-G4-pp-1c-T12d',\n",
       " 'Cb-ord-C#4-mf-1c-T29u',\n",
       " 'Cb-ord-D4-mf-1c-T13d',\n",
       " 'Cb-ord-D2-mf-3c-N',\n",
       " 'Cb-ord-D#3-pp-3c-T18d',\n",
       " 'Cb-ord-G4-mf-1c-N',\n",
       " 'Cb-ord-E2-pp-4c-N',\n",
       " 'Cb-ord-G#4-pp-1c-T22u',\n",
       " 'Cb-ord-G#3-pp-2c-N',\n",
       " 'Cb-ord-C3-ff-2c-T13u',\n",
       " 'Cb-ord-A4-ff-1c-N',\n",
       " 'Cb-ord-G4-ff-1c-N',\n",
       " 'Cb-ord-D#3-pp-2c-N',\n",
       " 'Cb-ord-A#2-ff-3c-T13u',\n",
       " 'Cb-ord-B3-mf-1c-N',\n",
       " 'Cb-ord-G2-pp-3c-N',\n",
       " 'Cb-ord-D2-ff-4c-T24u',\n",
       " 'Cb-ord-A#2-mf-1c-N',\n",
       " 'Cb-ord-E2-ff-2c-N',\n",
       " 'Cb-ord-D3-ff-4c-T31u',\n",
       " 'Cb-ord-A#1-mf-4c-N',\n",
       " 'Cb-ord-G#3-ff-1c-T11u',\n",
       " 'Cb-ord-G#2-mf-3c-T10u',\n",
       " 'Cb-ord-B2-mf-2c-N',\n",
       " 'Cb-ord-C#3-mf-1c-T11u',\n",
       " 'Cb-ord-D#3-ff-2c-N',\n",
       " 'Cb-ord-A3-ff-2c-N',\n",
       " 'Cb-ord-C3-pp-2c-N',\n",
       " 'Cb-ord-D2-pp-3c-T14d',\n",
       " 'Cb-ord-C4-pp-2c-T13u',\n",
       " 'Cb-ord-A#2-ff-4c-T21u',\n",
       " 'Cb-ord-F#3-ff-2c-T19u',\n",
       " 'Cb-ord-E3-pp-2c-N',\n",
       " 'Cb-ord-D#3-pp-4c-N',\n",
       " 'Cb-ord-F4-pp-1c-N',\n",
       " 'Cb-ord-G#2-ff-1c-N',\n",
       " 'Cb-ord-C3-mf-3c-N',\n",
       " 'Cb-ord-D3-mf-3c-N',\n",
       " 'Cb-ord-E2-pp-3c-N',\n",
       " 'Cb-ord-F3-pp-3c-T35d',\n",
       " 'Cb-ord-D3-mf-4c-T19u',\n",
       " 'Cb-ord-D#2-pp-4c-N',\n",
       " 'Cb-ord-D#2-mf-4c-T12u',\n",
       " 'Cb-ord-F2-ff-3c-N',\n",
       " 'Cb-ord-A#4-mf-1c-T20u',\n",
       " 'Cb-ord-B2-mf-1c-N',\n",
       " 'Cb-ord-D3-pp-4c-T15u',\n",
       " 'Cb-ord-D3-ff-3c-N',\n",
       " 'Cb-ord-D#4-ff-1c-T20u',\n",
       " 'Cb-ord-G3-ff-1c-N',\n",
       " 'Cb-ord-D#4-pp-1c-T10u',\n",
       " 'Cb-ord-D#2-pp-3c-N',\n",
       " 'Cb-ord-D4-mf-2c-N',\n",
       " 'Cb-ord-B3-ff-2c-N',\n",
       " 'Cb-ord-G#3-mf-3c-N',\n",
       " 'Cb-ord-F2-mf-3c-N',\n",
       " 'Cb-ord-C#4-ff-2c-T13u',\n",
       " 'Cb-ord-G#2-pp-4c-T21u',\n",
       " 'Cb-ord-C#2-ff-4c-T27u',\n",
       " 'Cb-ord-G#3-mf-1c-T13u',\n",
       " 'Cb-ord-B1-mf-4c-N',\n",
       " 'Cb-ord-F#2-mf-3c-T12u',\n",
       " 'Cb-ord-A2-ff-2c-N',\n",
       " 'Cb-ord-B2-ff-3c-T17u',\n",
       " 'Cb-ord-F#3-pp-3c-N',\n",
       " 'Cb-ord-F#3-ff-3c-T10u',\n",
       " 'Cb-ord-D3-pp-2c-N',\n",
       " 'Cb-ord-A3-ff-1c-N',\n",
       " 'Cb-ord-D3-mf-2c-N',\n",
       " 'Cb-ord-E3-mf-3c-T14d',\n",
       " 'Cb-ord-G#3-ff-3c-N',\n",
       " 'Cb-ord-C#4-pp-1c-T10u',\n",
       " 'Cb-ord-F2-pp-2c-N',\n",
       " 'Cb-ord-A2-ff-1c-R100d',\n",
       " 'Cb-ord-C#2-mf-3c-N',\n",
       " 'Cb-ord-B4-mf-1c-N',\n",
       " 'Cb-ord-F2-pp-4c-N',\n",
       " 'Cb-ord-C2-pp-3c-N',\n",
       " 'Cb-ord-A#2-pp-4c-N',\n",
       " 'Cb-ord-G#2-mf-2c-N',\n",
       " 'Cb-ord-F3-pp-2c-N',\n",
       " 'Cb-ord-F#2-mf-2c-N',\n",
       " 'Cb-ord-G3-mf-3c-N',\n",
       " 'Cb-ord-D#3-ff-3c-N',\n",
       " 'Cb-ord-E2-ff-3c-N',\n",
       " 'Cb-ord-G3-pp-3c-N',\n",
       " 'Cb-ord-A#2-ff-1c-N',\n",
       " 'Cb-ord-C2-pp-4c-N',\n",
       " 'Cb-ord-E2-pp-2c-N',\n",
       " 'Cb-ord-A#2-pp-3c-N',\n",
       " 'Cb-ord-G#2-pp-2c-N',\n",
       " 'Cb-ord-F2-mf-2c-N',\n",
       " 'Cb-ord-E2-mf-4c-N',\n",
       " 'Cb-ord-G2-ff-3c-N',\n",
       " 'Cb-ord-C3-pp-3c-N',\n",
       " 'Cb-ord-G3-ff-2c-T22u',\n",
       " 'Cb-ord-C#4-mf-2c-T12u',\n",
       " 'Cb-ord-G#3-pp-1c-N',\n",
       " 'Cb-ord-D#2-pp-2c-N',\n",
       " 'Cb-ord-G#2-ff-4c-T28u',\n",
       " 'Cb-ord-A#3-pp-1c-N',\n",
       " 'Cb-ord-D#2-ff-2c-N',\n",
       " 'Cb-ord-B1-mf-3c-R100u',\n",
       " 'Cb-ord-C4-ff-2c-T20u',\n",
       " 'Cb-ord-A#3-pp-2c-N',\n",
       " 'Cb-ord-F#3-pp-2c-N',\n",
       " 'Cb-ord-G3-ff-3c-T16u',\n",
       " 'Cb-ord-G#3-pp-3c-N',\n",
       " 'Cb-ord-D#3-mf-3c-T24d',\n",
       " 'Cb-ord-C#2-pp-4c-R100u',\n",
       " 'Cb-ord-B2-pp-4c-N',\n",
       " 'Cb-ord-C2-ff-3c-N',\n",
       " 'Cb-ord-C#3-mf-3c-N',\n",
       " 'Cb-ord-D3-ff-2c-N',\n",
       " 'Cb-ord-B4-ff-1c-T15d',\n",
       " 'Cb-ord-C3-mf-4c-N',\n",
       " 'Va-ord-E6-pp-1c-N',\n",
       " 'Va-ord-C5-pp-2c-N',\n",
       " 'Va-ord-D4-ff-3c-N',\n",
       " 'Va-ord-E5-pp-1c-T18u',\n",
       " 'Va-ord-B4-mf-3c-N',\n",
       " 'Va-ord-A4-mf-1c-N',\n",
       " 'Va-ord-C6-ff-2c-N',\n",
       " 'Va-ord-C5-ff-4c-T17u',\n",
       " 'Va-ord-A#4-ff-1c-T12u',\n",
       " 'Va-ord-A#5-mf-1c-T16u',\n",
       " 'Va-ord-D#5-pp-2c-N',\n",
       " 'Va-ord-C#4-mf-4c-N',\n",
       " 'Va-ord-F6-pp-1c-N',\n",
       " 'Va-ord-F#5-pp-1c-N',\n",
       " 'Va-ord-F4-ff-4c-N',\n",
       " 'Va-ord-A3-mf-4c-T10u',\n",
       " 'Va-ord-D#5-mf-3c-T11u',\n",
       " 'Va-ord-C#5-ff-2c-N',\n",
       " 'Va-ord-E5-pp-2c-T11u',\n",
       " 'Va-ord-G3-pp-4c-T19u',\n",
       " 'Va-ord-G3-ff-4c-T22u',\n",
       " 'Va-ord-D#5-mf-2c-N',\n",
       " 'Va-ord-B5-mf-2c-N',\n",
       " 'Va-ord-C4-pp-3c-N',\n",
       " 'Va-ord-A4-ff-2c-N',\n",
       " 'Va-ord-F#4-mf-3c-N',\n",
       " ...]"
      ]
     },
     "execution_count": 781,
     "metadata": {},
     "output_type": "execute_result"
    }
   ],
   "source": [
    "file_descs"
   ]
  }
 ],
 "metadata": {
  "kernelspec": {
   "display_name": "Python 3 (ipykernel)",
   "language": "python",
   "name": "python3"
  },
  "language_info": {
   "codemirror_mode": {
    "name": "ipython",
    "version": 3
   },
   "file_extension": ".py",
   "mimetype": "text/x-python",
   "name": "python",
   "nbconvert_exporter": "python",
   "pygments_lexer": "ipython3",
   "version": "3.10.10"
  },
  "notify_time": "30",
  "toc": {
   "base_numbering": 1,
   "nav_menu": {
    "height": "101px",
    "width": "332px"
   },
   "number_sections": true,
   "sideBar": true,
   "skip_h1_title": false,
   "title_cell": "Table of Contents",
   "title_sidebar": "Contents",
   "toc_cell": false,
   "toc_position": {},
   "toc_section_display": true,
   "toc_window_display": false
  }
 },
 "nbformat": 4,
 "nbformat_minor": 5
}
